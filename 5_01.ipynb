{
 "cells": [
  {
   "cell_type": "code",
   "execution_count": 1,
   "metadata": {},
   "outputs": [],
   "source": [
    "from BRL import *\n",
    "from optimizer2 import solve\n",
    "import numpy as np"
   ]
  },
  {
   "cell_type": "code",
   "execution_count": 2,
   "metadata": {},
   "outputs": [],
   "source": [
    "traffic_volume = {\n",
    "    'r1_0_1': 1005,\n",
    "    'r1_1_0': 1553,\n",
    "    'r2_1_2': 1180,\n",
    "    'r2_2_1': 1682,\n",
    "    'r3_2_3': 1911,\n",
    "    'r3_3_2': 1424,\n",
    "    'r4_3_4': 1628,\n",
    "    'r4_4_3': 1494,\n",
    "    'r5_4_1': 1084,\n",
    "    'r5_1_4': 1454\n",
    "}"
   ]
  },
  {
   "cell_type": "code",
   "execution_count": 3,
   "metadata": {},
   "outputs": [],
   "source": [
    "test = [1005,1553,1180,1682,1911,1424,1628,1494,1084,1454]"
   ]
  },
  {
   "cell_type": "code",
   "execution_count": 4,
   "metadata": {},
   "outputs": [
    {
     "name": "stdout",
     "output_type": "stream",
     "text": [
      "[1005. 1553. 1180. 1682. 1911. 1424. 1628. 1494. 1084. 1454.]\n",
      "[1005, 1553, 1180, 1682, 1911, 1424, 1628, 1494, 1084, 1454]\n",
      "0.0\n"
     ]
    }
   ],
   "source": [
    "solution = solve(e_T=test, w2=626, w3=11, w5=1, w6=12, w8=288, w9=78)\n",
    "x = np.zeros(66)\n",
    "for i in solution:\n",
    "    x[i] = solution[i]\n",
    "e = p_matrix@x\n",
    "print(e)\n",
    "print(test)\n",
    "print(np.linalg.norm(test-e))"
   ]
  },
  {
   "cell_type": "code",
   "execution_count": 5,
   "metadata": {},
   "outputs": [
    {
     "data": {
      "text/plain": [
       "array([   0.,    0.,    0.,    0.,    0.,    0.,    0.,    0., 1005.,\n",
       "          0.,    0.,    0.,    0.,    0.,    0.,    0.,    0., 1553.,\n",
       "          0., 1454.,    0.,    0.,    0.,    0., 1180.,    0.,    0.,\n",
       "        258.,    0.,    0.,    0.,    0.,    0.,  731.,    0.,    0.,\n",
       "       1084.,    0.,    0., 1494.,    0.,    0.,    0.,    0.,    0.,\n",
       "          0.,    0.,    0.,    0.,    0.,    0.,    0.,    0.,    0.,\n",
       "          0., 1628.,    0.,    0.,    0.,    0.,    0.,    0., 1424.,\n",
       "          0.,    0.,    0.])"
      ]
     },
     "execution_count": 5,
     "metadata": {},
     "output_type": "execute_result"
    }
   ],
   "source": [
    "x"
   ]
  },
  {
   "cell_type": "code",
   "execution_count": 6,
   "metadata": {},
   "outputs": [
    {
     "data": {
      "text/plain": [
       "array([   0., 1005., 4187.,  989., 1424., 1628.,    0., 2578.])"
      ]
     },
     "execution_count": 6,
     "metadata": {},
     "output_type": "execute_result"
    }
   ],
   "source": [
    "I_matrix@x"
   ]
  },
  {
   "cell_type": "code",
   "execution_count": 7,
   "metadata": {},
   "outputs": [
    {
     "data": {
      "text/plain": [
       "array([   0., 1553., 3771.,    0., 1911., 1494.,    0., 3082.])"
      ]
     },
     "execution_count": 7,
     "metadata": {},
     "output_type": "execute_result"
    }
   ],
   "source": [
    "O_matrix@x"
   ]
  },
  {
   "attachments": {},
   "cell_type": "markdown",
   "metadata": {},
   "source": [
    "## 풀어보기"
   ]
  },
  {
   "cell_type": "code",
   "execution_count": 8,
   "metadata": {},
   "outputs": [],
   "source": [
    "from optimizer4 import solve"
   ]
  },
  {
   "cell_type": "code",
   "execution_count": 9,
   "metadata": {},
   "outputs": [
    {
     "data": {
      "text/plain": [
       "inf"
      ]
     },
     "execution_count": 9,
     "metadata": {},
     "output_type": "execute_result"
    }
   ],
   "source": [
    "solve(e_T=test)"
   ]
  }
 ],
 "metadata": {
  "kernelspec": {
   "display_name": "base",
   "language": "python",
   "name": "python3"
  },
  "language_info": {
   "codemirror_mode": {
    "name": "ipython",
    "version": 3
   },
   "file_extension": ".py",
   "mimetype": "text/x-python",
   "name": "python",
   "nbconvert_exporter": "python",
   "pygments_lexer": "ipython3",
   "version": "3.9.13"
  },
  "orig_nbformat": 4
 },
 "nbformat": 4,
 "nbformat_minor": 2
}
