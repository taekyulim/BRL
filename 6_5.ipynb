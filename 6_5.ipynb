{
 "cells": [
  {
   "cell_type": "code",
   "execution_count": 1,
   "metadata": {},
   "outputs": [],
   "source": [
    "from optimizer_apms import solve\n",
    "from apms import *\n",
    "import pandas as pd\n",
    "import numpy as np\n",
    "data = pd.read_excel('./data.xlsx', index_col=0)\n",
    "tests = data.iloc[:,1:].values"
   ]
  },
  {
   "cell_type": "code",
   "execution_count": 3,
   "metadata": {},
   "outputs": [],
   "source": [
    "inputs = pd.read_excel('./input_volume.xlsx', index_col=0)"
   ]
  },
  {
   "cell_type": "code",
   "execution_count": 12,
   "metadata": {},
   "outputs": [],
   "source": [
    "outputs = pd.read_excel('./output_volume.xlsx', index_col=0)"
   ]
  },
  {
   "cell_type": "code",
   "execution_count": 2,
   "metadata": {},
   "outputs": [
    {
     "data": {
      "text/plain": [
       "2"
      ]
     },
     "execution_count": 2,
     "metadata": {},
     "output_type": "execute_result"
    }
   ],
   "source": [
    "result , status = solve(e_T=tests[56])\n",
    "status\n",
    "# x = np.zeros(72)\n",
    "# for i in solution:\n",
    "#     x[i] = solution[i]"
   ]
  },
  {
   "cell_type": "code",
   "execution_count": 6,
   "metadata": {},
   "outputs": [
    {
     "data": {
      "text/plain": [
       "{0: 8,\n",
       " 1: 1,\n",
       " 2: 1,\n",
       " 3: 1,\n",
       " 4: 1,\n",
       " 6: 3,\n",
       " 7: 1,\n",
       " 8: 3,\n",
       " 9: 47,\n",
       " 10: 47,\n",
       " 11: 47,\n",
       " 12: 47,\n",
       " 13: 47,\n",
       " 14: 75,\n",
       " 15: 280,\n",
       " 16: 74,\n",
       " 17: 276,\n",
       " 18: 3,\n",
       " 19: 3,\n",
       " 20: 3,\n",
       " 21: 4,\n",
       " 22: 3,\n",
       " 23: 7,\n",
       " 24: 15,\n",
       " 25: 7,\n",
       " 26: 15,\n",
       " 27: 7,\n",
       " 28: 34,\n",
       " 29: 7,\n",
       " 30: 13,\n",
       " 31: 22,\n",
       " 32: 18,\n",
       " 33: 20,\n",
       " 34: 11,\n",
       " 35: 8,\n",
       " 36: 10,\n",
       " 37: 116,\n",
       " 38: 10,\n",
       " 39: 15,\n",
       " 41: 10,\n",
       " 42: 19,\n",
       " 43: 20,\n",
       " 44: 56,\n",
       " 45: 428,\n",
       " 46: 56,\n",
       " 47: 175,\n",
       " 49: 56,\n",
       " 50: 175,\n",
       " 51: 174,\n",
       " 53: 4,\n",
       " 55: 56,\n",
       " 56: 4,\n",
       " 58: 4,\n",
       " 59: 4,\n",
       " 60: 4,\n",
       " 61: 4,\n",
       " 63: 58,\n",
       " 64: 181,\n",
       " 65: 631,\n",
       " 67: 58,\n",
       " 68: 58,\n",
       " 69: 58,\n",
       " 70: 58,\n",
       " 71: 58}"
      ]
     },
     "execution_count": 6,
     "metadata": {},
     "output_type": "execute_result"
    }
   ],
   "source": [
    "result"
   ]
  },
  {
   "cell_type": "code",
   "execution_count": 7,
   "metadata": {},
   "outputs": [],
   "source": [
    "x = np.zeros(72)\n",
    "for i in result:\n",
    "    x[i] = result[i]"
   ]
  },
  {
   "cell_type": "code",
   "execution_count": 9,
   "metadata": {},
   "outputs": [
    {
     "data": {
      "text/plain": [
       "array([ 904., 1587.,  643.,  886.,  653., 1059.,  351.,  742.,  861.,\n",
       "        298.])"
      ]
     },
     "execution_count": 9,
     "metadata": {},
     "output_type": "execute_result"
    }
   ],
   "source": [
    "p_matrix@x"
   ]
  },
  {
   "cell_type": "code",
   "execution_count": 11,
   "metadata": {},
   "outputs": [
    {
     "data": {
      "text/plain": [
       "0_2    2560\n",
       "1_3    1157\n",
       "2_2    2065\n",
       "3_2    1801\n",
       "3_1    1514\n",
       "4_1    1842\n",
       "4_2    1211\n",
       "Name: 56, dtype: int64"
      ]
     },
     "execution_count": 11,
     "metadata": {},
     "output_type": "execute_result"
    }
   ],
   "source": [
    "inputs.iloc[56,1:]"
   ]
  },
  {
   "cell_type": "code",
   "execution_count": 17,
   "metadata": {},
   "outputs": [
    {
     "data": {
      "text/plain": [
       "array([1005, 1553, 1180, 1682, 1911, 1424, 1628, 1494, 1084, 1454],\n",
       "      dtype=int64)"
      ]
     },
     "execution_count": 17,
     "metadata": {},
     "output_type": "execute_result"
    }
   ],
   "source": [
    "tests[56]"
   ]
  },
  {
   "cell_type": "code",
   "execution_count": 15,
   "metadata": {},
   "outputs": [
    {
     "data": {
      "text/plain": [
       "array([  19.,  940.,   60.,  140., 1160.,   80., 1120.,  200.])"
      ]
     },
     "execution_count": 15,
     "metadata": {},
     "output_type": "execute_result"
    }
   ],
   "source": [
    "I_matrix@x"
   ]
  },
  {
   "cell_type": "code",
   "execution_count": 14,
   "metadata": {},
   "outputs": [
    {
     "data": {
      "text/plain": [
       "0_2     998\n",
       "1_3    1157\n",
       "2_2    2078\n",
       "3_2    1427\n",
       "3_1    2210\n",
       "4_1    1730\n",
       "4_0    1671\n",
       "Name: 56, dtype: int64"
      ]
     },
     "execution_count": 14,
     "metadata": {},
     "output_type": "execute_result"
    }
   ],
   "source": [
    "outputs.iloc[56,1:]"
   ]
  },
  {
   "cell_type": "code",
   "execution_count": 16,
   "metadata": {},
   "outputs": [
    {
     "data": {
      "text/plain": [
       "array([ 185., 1457.,  183.,  303.,  582.,  643.,  161.,  205.])"
      ]
     },
     "execution_count": 16,
     "metadata": {},
     "output_type": "execute_result"
    }
   ],
   "source": [
    "O_matrix@x"
   ]
  },
  {
   "cell_type": "code",
   "execution_count": 17,
   "metadata": {},
   "outputs": [
    {
     "data": {
      "text/plain": [
       "array([1005, 1553, 1180, 1682, 1911, 1424, 1628, 1494, 1084, 1454],\n",
       "      dtype=int64)"
      ]
     },
     "execution_count": 17,
     "metadata": {},
     "output_type": "execute_result"
    }
   ],
   "source": [
    "tests[56]"
   ]
  },
  {
   "cell_type": "code",
   "execution_count": 6,
   "metadata": {},
   "outputs": [
    {
     "data": {
      "text/plain": [
       "array([  79.,  820.,   20.,   60., 1420., 1060.,  180.,  140.])"
      ]
     },
     "execution_count": 6,
     "metadata": {},
     "output_type": "execute_result"
    }
   ],
   "source": [
    "I_matrix@x"
   ]
  },
  {
   "cell_type": "code",
   "execution_count": 7,
   "metadata": {},
   "outputs": [
    {
     "data": {
      "text/plain": [
       "{('0_0', '0_2'): 32.0,\n",
       " ('0_0', '1_3'): 4.0,\n",
       " ('0_0', '2_2'): 4.0,\n",
       " ('0_0', '4_0'): 4.0,\n",
       " ('0_0', '4_1'): 4.0,\n",
       " ('0_0', '3_1'): 15.0,\n",
       " ('0_0', '3_2'): 16.0,\n",
       " ('0_2', '0_0'): 41.0,\n",
       " ('0_2', '1_3'): 41.0,\n",
       " ('0_2', '2_2'): 41.0,\n",
       " ('0_2', '4_0'): 41.0,\n",
       " ('0_2', '4_1'): 41.0,\n",
       " ('0_2', '3_1'): 308.0,\n",
       " ('0_2', '3_2'): 307.0,\n",
       " ('1_3', '0_0'): 1.0,\n",
       " ('1_3', '0_2'): 1.0,\n",
       " ('1_3', '2_2'): 1.0,\n",
       " ('1_3', '4_0'): 1.0,\n",
       " ('1_3', '4_1'): 1.0,\n",
       " ('1_3', '3_1'): 9.0,\n",
       " ('1_3', '3_2'): 6.0,\n",
       " ('2_2', '0_0'): 3.0,\n",
       " ('2_2', '0_2'): 3.0,\n",
       " ('2_2', '1_3'): 3.0,\n",
       " ('2_2', '4_0'): 27.0,\n",
       " ('2_2', '4_1'): 18.0,\n",
       " ('2_2', '3_1'): 3.0,\n",
       " ('2_2', '3_2'): 3.0,\n",
       " ('4_0', '0_0'): 7.0,\n",
       " ('4_0', '0_2'): 7.0,\n",
       " ('4_0', '1_3'): 7.0,\n",
       " ('4_0', '2_2'): 67.0,\n",
       " ('4_0', '4_1'): 7.0,\n",
       " ('4_0', '3_1'): 38.0,\n",
       " ('4_0', '3_2'): 7.0,\n",
       " ('4_1', '0_0'): 9.0,\n",
       " ('4_1', '0_2'): 13.0,\n",
       " ('4_1', '1_3'): 9.0,\n",
       " ('4_1', '2_2'): 79.0,\n",
       " ('4_1', '4_0'): 9.0,\n",
       " ('4_1', '3_1'): 9.0,\n",
       " ('4_1', '3_2'): 52.0,\n",
       " ('3_1', '0_0'): 53.0,\n",
       " ('3_1', '0_2'): 584.0,\n",
       " ('3_1', '1_3'): 186.0,\n",
       " ('3_1', '2_2'): 53.0,\n",
       " ('3_1', '4_0'): 72.0,\n",
       " ('3_1', '4_1'): 56.0,\n",
       " ('3_1', '3_2'): 56.0,\n",
       " ('3_2', '0_0'): 71.0,\n",
       " ('3_2', '0_2'): 904.0,\n",
       " ('3_2', '1_3'): 161.0,\n",
       " ('3_2', '2_2'): 71.0,\n",
       " ('3_2', '4_0'): 71.0,\n",
       " ('3_2', '4_1'): 71.0,\n",
       " ('3_2', '3_1'): 71.0}"
      ]
     },
     "execution_count": 7,
     "metadata": {},
     "output_type": "execute_result"
    }
   ],
   "source": [
    "result = return_results(x)\n",
    "result"
   ]
  },
  {
   "cell_type": "code",
   "execution_count": 9,
   "metadata": {},
   "outputs": [],
   "source": [
    "result = return_ratio(result)"
   ]
  },
  {
   "cell_type": "code",
   "execution_count": 10,
   "metadata": {},
   "outputs": [
    {
     "data": {
      "text/plain": [
       "{(0, 1): 40.51,\n",
       " (0, 2): 5.06,\n",
       " (0, 3): 5.06,\n",
       " (0, 7): 5.06,\n",
       " (0, 6): 5.06,\n",
       " (0, 5): 18.99,\n",
       " (0, 4): 20.25,\n",
       " (1, 0): 5.0,\n",
       " (1, 2): 5.0,\n",
       " (1, 3): 5.0,\n",
       " (1, 7): 5.0,\n",
       " (1, 6): 5.0,\n",
       " (1, 5): 37.56,\n",
       " (1, 4): 37.44,\n",
       " (2, 0): 5.0,\n",
       " (2, 1): 5.0,\n",
       " (2, 3): 5.0,\n",
       " (2, 7): 5.0,\n",
       " (2, 6): 5.0,\n",
       " (2, 5): 45.0,\n",
       " (2, 4): 30.0,\n",
       " (3, 0): 5.0,\n",
       " (3, 1): 5.0,\n",
       " (3, 2): 5.0,\n",
       " (3, 7): 45.0,\n",
       " (3, 6): 30.0,\n",
       " (3, 5): 5.0,\n",
       " (3, 4): 5.0,\n",
       " (7, 0): 5.0,\n",
       " (7, 1): 5.0,\n",
       " (7, 2): 5.0,\n",
       " (7, 3): 47.86,\n",
       " (7, 6): 5.0,\n",
       " (7, 5): 27.14,\n",
       " (7, 4): 5.0,\n",
       " (6, 0): 5.0,\n",
       " (6, 1): 7.22,\n",
       " (6, 2): 5.0,\n",
       " (6, 3): 43.89,\n",
       " (6, 7): 5.0,\n",
       " (6, 5): 5.0,\n",
       " (6, 4): 28.89,\n",
       " (5, 0): 5.0,\n",
       " (5, 1): 55.09,\n",
       " (5, 2): 17.55,\n",
       " (5, 3): 5.0,\n",
       " (5, 7): 6.79,\n",
       " (5, 6): 5.28,\n",
       " (5, 4): 5.28,\n",
       " (4, 0): 5.0,\n",
       " (4, 1): 63.66,\n",
       " (4, 2): 11.34,\n",
       " (4, 3): 5.0,\n",
       " (4, 7): 5.0,\n",
       " (4, 6): 5.0,\n",
       " (4, 5): 5.0}"
      ]
     },
     "execution_count": 10,
     "metadata": {},
     "output_type": "execute_result"
    }
   ],
   "source": [
    "result"
   ]
  },
  {
   "cell_type": "code",
   "execution_count": 12,
   "metadata": {},
   "outputs": [
    {
     "name": "stdout",
     "output_type": "stream",
     "text": [
      "    First_Index  Second_Index  Value\n",
      "0             0             1  40.51\n",
      "1             0             2   5.06\n",
      "2             0             3   5.06\n",
      "3             0             4  20.25\n",
      "4             0             5  18.99\n",
      "5             0             6   5.06\n",
      "6             0             7   5.06\n",
      "7             1             0   5.00\n",
      "8             1             2   5.00\n",
      "9             1             3   5.00\n",
      "10            1             4  37.44\n",
      "11            1             5  37.56\n",
      "12            1             6   5.00\n",
      "13            1             7   5.00\n",
      "14            2             0   5.00\n",
      "15            2             1   5.00\n",
      "16            2             3   5.00\n",
      "17            2             4  30.00\n",
      "18            2             5  45.00\n",
      "19            2             6   5.00\n",
      "20            2             7   5.00\n",
      "21            3             0   5.00\n",
      "22            3             1   5.00\n",
      "23            3             2   5.00\n",
      "24            3             4   5.00\n",
      "25            3             5   5.00\n",
      "26            3             6  30.00\n",
      "27            3             7  45.00\n",
      "28            4             0   5.00\n",
      "29            4             1  63.66\n",
      "30            4             2  11.34\n",
      "31            4             3   5.00\n",
      "32            4             5   5.00\n",
      "33            4             6   5.00\n",
      "34            4             7   5.00\n",
      "35            5             0   5.00\n",
      "36            5             1  55.09\n",
      "37            5             2  17.55\n",
      "38            5             3   5.00\n",
      "39            5             4   5.28\n",
      "40            5             6   5.28\n",
      "41            5             7   6.79\n",
      "42            6             0   5.00\n",
      "43            6             1   7.22\n",
      "44            6             2   5.00\n",
      "45            6             3  43.89\n",
      "46            6             4  28.89\n",
      "47            6             5   5.00\n",
      "48            6             7   5.00\n",
      "49            7             0   5.00\n",
      "50            7             1   5.00\n",
      "51            7             2   5.00\n",
      "52            7             3  47.86\n",
      "53            7             4   5.00\n",
      "54            7             5  27.14\n",
      "55            7             6   5.00\n"
     ]
    }
   ],
   "source": [
    "df = pd.DataFrame(list(result.items()), columns=['Index', 'Value'])\n",
    "\n",
    "# Split the Index column into two separate columns\n",
    "df[['First_Index', 'Second_Index']] = pd.DataFrame(df['Index'].tolist(), index=df.index)\n",
    "\n",
    "# Drop the original Index column\n",
    "df = df.drop('Index', axis=1)\n",
    "\n",
    "# Reorder the columns\n",
    "df = df[['First_Index', 'Second_Index', 'Value']]\n",
    "\n",
    "# Sort the DataFrame by the indices\n",
    "df = df.sort_values(by=['First_Index', 'Second_Index']).reset_index(drop=True)\n",
    "\n",
    "print(df)"
   ]
  },
  {
   "cell_type": "code",
   "execution_count": null,
   "metadata": {},
   "outputs": [],
   "source": []
  }
 ],
 "metadata": {
  "kernelspec": {
   "display_name": "base",
   "language": "python",
   "name": "python3"
  },
  "language_info": {
   "codemirror_mode": {
    "name": "ipython",
    "version": 3
   },
   "file_extension": ".py",
   "mimetype": "text/x-python",
   "name": "python",
   "nbconvert_exporter": "python",
   "pygments_lexer": "ipython3",
   "version": "3.9.13"
  },
  "orig_nbformat": 4
 },
 "nbformat": 4,
 "nbformat_minor": 2
}
