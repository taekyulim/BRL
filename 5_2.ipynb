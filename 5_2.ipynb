{
 "cells": [
  {
   "cell_type": "code",
   "execution_count": 1,
   "metadata": {},
   "outputs": [],
   "source": [
    "import pandas as pd\n",
    "import numpy as np"
   ]
  },
  {
   "cell_type": "code",
   "execution_count": 2,
   "metadata": {},
   "outputs": [
    {
     "data": {
      "text/html": [
       "<div>\n",
       "<style scoped>\n",
       "    .dataframe tbody tr th:only-of-type {\n",
       "        vertical-align: middle;\n",
       "    }\n",
       "\n",
       "    .dataframe tbody tr th {\n",
       "        vertical-align: top;\n",
       "    }\n",
       "\n",
       "    .dataframe thead th {\n",
       "        text-align: right;\n",
       "    }\n",
       "</style>\n",
       "<table border=\"1\" class=\"dataframe\">\n",
       "  <thead>\n",
       "    <tr style=\"text-align: right;\">\n",
       "      <th></th>\n",
       "      <th>0_0</th>\n",
       "      <th>0_2</th>\n",
       "      <th>1_3</th>\n",
       "      <th>2_2</th>\n",
       "      <th>3_2</th>\n",
       "      <th>3_1</th>\n",
       "      <th>4_1</th>\n",
       "      <th>4_2</th>\n",
       "    </tr>\n",
       "  </thead>\n",
       "  <tbody>\n",
       "    <tr>\n",
       "      <th>0</th>\n",
       "      <td>295</td>\n",
       "      <td>491</td>\n",
       "      <td>158</td>\n",
       "      <td>254</td>\n",
       "      <td>208</td>\n",
       "      <td>232</td>\n",
       "      <td>300</td>\n",
       "      <td>252</td>\n",
       "    </tr>\n",
       "    <tr>\n",
       "      <th>1</th>\n",
       "      <td>216</td>\n",
       "      <td>437</td>\n",
       "      <td>103</td>\n",
       "      <td>226</td>\n",
       "      <td>189</td>\n",
       "      <td>141</td>\n",
       "      <td>185</td>\n",
       "      <td>220</td>\n",
       "    </tr>\n",
       "    <tr>\n",
       "      <th>2</th>\n",
       "      <td>195</td>\n",
       "      <td>314</td>\n",
       "      <td>93</td>\n",
       "      <td>197</td>\n",
       "      <td>147</td>\n",
       "      <td>128</td>\n",
       "      <td>187</td>\n",
       "      <td>147</td>\n",
       "    </tr>\n",
       "    <tr>\n",
       "      <th>3</th>\n",
       "      <td>205</td>\n",
       "      <td>352</td>\n",
       "      <td>68</td>\n",
       "      <td>256</td>\n",
       "      <td>204</td>\n",
       "      <td>119</td>\n",
       "      <td>258</td>\n",
       "      <td>143</td>\n",
       "    </tr>\n",
       "    <tr>\n",
       "      <th>4</th>\n",
       "      <td>482</td>\n",
       "      <td>520</td>\n",
       "      <td>161</td>\n",
       "      <td>438</td>\n",
       "      <td>313</td>\n",
       "      <td>335</td>\n",
       "      <td>747</td>\n",
       "      <td>205</td>\n",
       "    </tr>\n",
       "  </tbody>\n",
       "</table>\n",
       "</div>"
      ],
      "text/plain": [
       "   0_0  0_2  1_3  2_2  3_2  3_1  4_1  4_2\n",
       "0  295  491  158  254  208  232  300  252\n",
       "1  216  437  103  226  189  141  185  220\n",
       "2  195  314   93  197  147  128  187  147\n",
       "3  205  352   68  256  204  119  258  143\n",
       "4  482  520  161  438  313  335  747  205"
      ]
     },
     "execution_count": 2,
     "metadata": {},
     "output_type": "execute_result"
    }
   ],
   "source": [
    "input_volumes = pd.read_excel('./data/input_volume.xlsx', index_col=0)\n",
    "input_volumes.head()"
   ]
  },
  {
   "cell_type": "code",
   "execution_count": 3,
   "metadata": {},
   "outputs": [
    {
     "data": {
      "text/plain": [
       "array([1549, 2560, 1157, 2065, 1801, 1514, 1842, 1211], dtype=int64)"
      ]
     },
     "execution_count": 3,
     "metadata": {},
     "output_type": "execute_result"
    }
   ],
   "source": [
    "input_volume = input_volumes.iloc[56, :].values\n",
    "input_volume"
   ]
  },
  {
   "cell_type": "code",
   "execution_count": 4,
   "metadata": {},
   "outputs": [
    {
     "data": {
      "text/html": [
       "<div>\n",
       "<style scoped>\n",
       "    .dataframe tbody tr th:only-of-type {\n",
       "        vertical-align: middle;\n",
       "    }\n",
       "\n",
       "    .dataframe tbody tr th {\n",
       "        vertical-align: top;\n",
       "    }\n",
       "\n",
       "    .dataframe thead th {\n",
       "        text-align: right;\n",
       "    }\n",
       "</style>\n",
       "<table border=\"1\" class=\"dataframe\">\n",
       "  <thead>\n",
       "    <tr style=\"text-align: right;\">\n",
       "      <th></th>\n",
       "      <th>0</th>\n",
       "      <th>1</th>\n",
       "      <th>2</th>\n",
       "      <th>3</th>\n",
       "      <th>4</th>\n",
       "      <th>5</th>\n",
       "      <th>6</th>\n",
       "      <th>7</th>\n",
       "      <th>8</th>\n",
       "      <th>9</th>\n",
       "      <th>10</th>\n",
       "    </tr>\n",
       "  </thead>\n",
       "  <tbody>\n",
       "    <tr>\n",
       "      <th>0</th>\n",
       "      <td>2023-04-24 00시</td>\n",
       "      <td>236</td>\n",
       "      <td>251</td>\n",
       "      <td>253</td>\n",
       "      <td>254</td>\n",
       "      <td>265</td>\n",
       "      <td>279</td>\n",
       "      <td>261</td>\n",
       "      <td>279</td>\n",
       "      <td>140</td>\n",
       "      <td>183</td>\n",
       "    </tr>\n",
       "    <tr>\n",
       "      <th>1</th>\n",
       "      <td>2023-04-24 01시</td>\n",
       "      <td>211</td>\n",
       "      <td>190</td>\n",
       "      <td>164</td>\n",
       "      <td>192</td>\n",
       "      <td>184</td>\n",
       "      <td>241</td>\n",
       "      <td>208</td>\n",
       "      <td>243</td>\n",
       "      <td>126</td>\n",
       "      <td>138</td>\n",
       "    </tr>\n",
       "    <tr>\n",
       "      <th>2</th>\n",
       "      <td>2023-04-24 02시</td>\n",
       "      <td>145</td>\n",
       "      <td>161</td>\n",
       "      <td>115</td>\n",
       "      <td>200</td>\n",
       "      <td>152</td>\n",
       "      <td>184</td>\n",
       "      <td>151</td>\n",
       "      <td>173</td>\n",
       "      <td>83</td>\n",
       "      <td>94</td>\n",
       "    </tr>\n",
       "    <tr>\n",
       "      <th>3</th>\n",
       "      <td>2023-04-24 03시</td>\n",
       "      <td>162</td>\n",
       "      <td>170</td>\n",
       "      <td>105</td>\n",
       "      <td>185</td>\n",
       "      <td>119</td>\n",
       "      <td>152</td>\n",
       "      <td>196</td>\n",
       "      <td>141</td>\n",
       "      <td>59</td>\n",
       "      <td>86</td>\n",
       "    </tr>\n",
       "    <tr>\n",
       "      <th>4</th>\n",
       "      <td>2023-04-24 04시</td>\n",
       "      <td>200</td>\n",
       "      <td>299</td>\n",
       "      <td>151</td>\n",
       "      <td>47</td>\n",
       "      <td>181</td>\n",
       "      <td>289</td>\n",
       "      <td>362</td>\n",
       "      <td>207</td>\n",
       "      <td>135</td>\n",
       "      <td>169</td>\n",
       "    </tr>\n",
       "  </tbody>\n",
       "</table>\n",
       "</div>"
      ],
      "text/plain": [
       "               0    1    2    3    4    5    6    7    8    9    10\n",
       "0  2023-04-24 00시  236  251  253  254  265  279  261  279  140  183\n",
       "1  2023-04-24 01시  211  190  164  192  184  241  208  243  126  138\n",
       "2  2023-04-24 02시  145  161  115  200  152  184  151  173   83   94\n",
       "3  2023-04-24 03시  162  170  105  185  119  152  196  141   59   86\n",
       "4  2023-04-24 04시  200  299  151   47  181  289  362  207  135  169"
      ]
     },
     "execution_count": 4,
     "metadata": {},
     "output_type": "execute_result"
    }
   ],
   "source": [
    "tests = pd.read_excel('./data/data.xlsx', index_col=0)\n",
    "tests.head()"
   ]
  },
  {
   "cell_type": "code",
   "execution_count": 5,
   "metadata": {},
   "outputs": [
    {
     "data": {
      "text/plain": [
       "array([1005, 1553, 1180, 1682, 1911, 1424, 1628, 1494, 1084, 1454],\n",
       "      dtype=object)"
      ]
     },
     "execution_count": 5,
     "metadata": {},
     "output_type": "execute_result"
    }
   ],
   "source": [
    "test = tests.iloc[56,1:].values\n",
    "test"
   ]
  },
  {
   "cell_type": "code",
   "execution_count": 6,
   "metadata": {},
   "outputs": [],
   "source": [
    "from optimizer3 import *"
   ]
  },
  {
   "cell_type": "code",
   "execution_count": 7,
   "metadata": {},
   "outputs": [],
   "source": [
    "solution = solve(e_T=test, input_volume=input_volume)"
   ]
  },
  {
   "cell_type": "code",
   "execution_count": 8,
   "metadata": {},
   "outputs": [
    {
     "name": "stdout",
     "output_type": "stream",
     "text": [
      "[1040. 1553. 1180. 1688. 1863. 1450. 1627. 1557. 1267. 1471.]\n",
      "[1005 1553 1180 1682 1911 1424 1628 1494 1084 1454]\n",
      "-------------------\n",
      "[1549, 2560, 1157, 2065, 1801, 1514, 1842, 1211]\n",
      "[   0. 1040. 1157. 1982. 1028. 1253. 1470.  508.]\n"
     ]
    }
   ],
   "source": [
    "x = np.zeros(66)\n",
    "for i in solution:\n",
    "    x[i] = solution[i]\n",
    "e = p_matrix@x\n",
    "input_generated = I_matrix@x\n",
    "print(e)\n",
    "print(test)\n",
    "print('-------------------')\n",
    "print(input_volume)\n",
    "print(input_generated)"
   ]
  },
  {
   "cell_type": "code",
   "execution_count": null,
   "metadata": {},
   "outputs": [],
   "source": []
  }
 ],
 "metadata": {
  "kernelspec": {
   "display_name": "base",
   "language": "python",
   "name": "python3"
  },
  "language_info": {
   "codemirror_mode": {
    "name": "ipython",
    "version": 3
   },
   "file_extension": ".py",
   "mimetype": "text/x-python",
   "name": "python",
   "nbconvert_exporter": "python",
   "pygments_lexer": "ipython3",
   "version": "3.9.13"
  },
  "orig_nbformat": 4
 },
 "nbformat": 4,
 "nbformat_minor": 2
}
