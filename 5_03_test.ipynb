{
 "cells": [
  {
   "cell_type": "code",
   "execution_count": 1,
   "metadata": {},
   "outputs": [],
   "source": [
    "import pandas as pd\n",
    "from BRL import *\n",
    "import optimizer3"
   ]
  },
  {
   "cell_type": "code",
   "execution_count": 2,
   "metadata": {},
   "outputs": [],
   "source": [
    "data = pd.read_excel('./data/data.xlsx', index_col=0)\n",
    "input_volumes = pd.read_excel('./data/input_volume.xlsx', index_col=0).values\n",
    "output_volumes = pd.read_excel('./data/output_volume.xlsx', index_col=0).values"
   ]
  },
  {
   "cell_type": "code",
   "execution_count": 3,
   "metadata": {},
   "outputs": [],
   "source": [
    "tests = data.iloc[:,1:].values"
   ]
  },
  {
   "cell_type": "code",
   "execution_count": 4,
   "metadata": {},
   "outputs": [
    {
     "data": {
      "text/plain": [
       "120"
      ]
     },
     "execution_count": 4,
     "metadata": {},
     "output_type": "execute_result"
    }
   ],
   "source": [
    "tests.shape[0]"
   ]
  },
  {
   "cell_type": "code",
   "execution_count": 5,
   "metadata": {},
   "outputs": [
    {
     "data": {
      "text/plain": [
       "(120, 8)"
      ]
     },
     "execution_count": 5,
     "metadata": {},
     "output_type": "execute_result"
    }
   ],
   "source": [
    "input_volumes.shape"
   ]
  },
  {
   "cell_type": "code",
   "execution_count": 6,
   "metadata": {},
   "outputs": [
    {
     "data": {
      "text/plain": [
       "(120, 8)"
      ]
     },
     "execution_count": 6,
     "metadata": {},
     "output_type": "execute_result"
    }
   ],
   "source": [
    "output_volumes.shape"
   ]
  },
  {
   "cell_type": "code",
   "execution_count": 7,
   "metadata": {},
   "outputs": [
    {
     "data": {
      "text/plain": [
       "array([[ 236,  251,  253, ...,  279,  140,  183],\n",
       "       [ 211,  190,  164, ...,  243,  126,  138],\n",
       "       [ 145,  161,  115, ...,  173,   83,   94],\n",
       "       ...,\n",
       "       [ 845,  799, 1163, ..., 1144,  534,  607],\n",
       "       [ 682,  659,  956, ...,  938,  449,  489],\n",
       "       [ 429,  452,  555, ...,  600,  347,  355]], dtype=int64)"
      ]
     },
     "execution_count": 7,
     "metadata": {},
     "output_type": "execute_result"
    }
   ],
   "source": [
    "tests"
   ]
  },
  {
   "attachments": {},
   "cell_type": "markdown",
   "metadata": {},
   "source": [
    "# lambda = 0.1"
   ]
  },
  {
   "cell_type": "code",
   "execution_count": 38,
   "metadata": {},
   "outputs": [],
   "source": [
    "import numpy as np\n",
    "generated_volume1 = []\n",
    "similarities_1 = []\n",
    "for i in range(tests.shape[0]):\n",
    "    solution = optimizer3.solve(e_T=tests[i], input_volume=input_volumes[i], w2=596, w3=92, w5=694, w6=913, w8=238, w9=379, lambda2=1)\n",
    "    x = np.zeros(66)\n",
    "    if bool(solution):\n",
    "        for i in solution:\n",
    "            x[i] = solution[i]\n",
    "        e = p_matrix@x\n",
    "        generated_volume1.append(e)\n",
    "        similarity = np.dot(e, tests[i])/(np.linalg.norm(e)*np.linalg.norm(tests[i]))\n",
    "        similarities_1.append(similarity)\n",
    "        errors_1.append(error)"
   ]
  },
  {
   "cell_type": "code",
   "execution_count": 42,
   "metadata": {},
   "outputs": [],
   "source": [
    "pd.DataFrame(generated_volume1).to_csv('./data/generated_data_1.csv')"
   ]
  },
  {
   "attachments": {},
   "cell_type": "markdown",
   "metadata": {},
   "source": [
    "# lambda = 0.5"
   ]
  },
  {
   "cell_type": "code",
   "execution_count": 52,
   "metadata": {},
   "outputs": [],
   "source": [
    "similarities_2 = []\n",
    "generated_volume2 = []\n",
    "for i in range(tests.shape[0]):\n",
    "    solution = optimizer3.solve(e_T=tests[i], input_volume=input_volumes[i], w2=596, w3=92, w5=694, w6=913, w8=238, w9=379, lambda2=5)\n",
    "    x = np.zeros(66)\n",
    "    if bool(solution):\n",
    "        for i in solution:\n",
    "            x[i] = solution[i]\n",
    "        e = p_matrix@x\n",
    "        generated_volume2.append(e)\n",
    "        similarity = np.dot(e, tests[i])/(np.linalg.norm(e)*np.linalg.norm(tests[i]))\n",
    "        similarities_2.append(similarity)"
   ]
  },
  {
   "cell_type": "code",
   "execution_count": 50,
   "metadata": {},
   "outputs": [
    {
     "data": {
      "text/plain": [
       "[array([497., 370., 188., 365., 680., 479., 623., 634., 322., 521.]),\n",
       " array([475., 334., 184., 301., 639., 257., 576., 605., 246., 467.]),\n",
       " array([369., 368., 207., 354., 603., 353., 568., 561., 229., 355.]),\n",
       " array([392., 334.,  81., 297., 585., 349., 619., 622., 216., 422.]),\n",
       " array([449., 363.,  92., 279., 655., 366., 751., 731., 336., 484.])]"
      ]
     },
     "execution_count": 50,
     "metadata": {},
     "output_type": "execute_result"
    }
   ],
   "source": [
    "generated_volume2"
   ]
  },
  {
   "cell_type": "code",
   "execution_count": 53,
   "metadata": {},
   "outputs": [],
   "source": [
    "# pd.DataFrame(errors_2).to_csv('2_error.csv')\n",
    "# pd.DataFrame(similarities_2).to_csv('2_similar.csv')\n",
    "pd.DataFrame(generated_volume2).to_csv('./data/generated_data_2.csv')"
   ]
  },
  {
   "attachments": {},
   "cell_type": "markdown",
   "metadata": {},
   "source": [
    "# lambda = 1"
   ]
  },
  {
   "cell_type": "code",
   "execution_count": 39,
   "metadata": {},
   "outputs": [],
   "source": [
    "similarities_3 = []\n",
    "generated_volume3 = []\n",
    "for i in range(tests.shape[0]):\n",
    "    solution = optimizer3.solve(e_T=tests[i], input_volume=input_volumes[i], w2=596, w3=92, w5=694, w6=913, w8=238, w9=379, lambda2=10)\n",
    "    x = np.zeros(66)\n",
    "    if bool(solution):\n",
    "        for i in solution:\n",
    "            x[i] = solution[i]\n",
    "        e = p_matrix@x\n",
    "        generated_volume3.append(e)\n",
    "        similarity = np.dot(e, tests[i])/(np.linalg.norm(e)*np.linalg.norm(tests[i]))\n",
    "        similarities_3.append(similarity)\n",
    "        errors_3.append(error)"
   ]
  },
  {
   "cell_type": "code",
   "execution_count": 46,
   "metadata": {},
   "outputs": [],
   "source": [
    "pd.DataFrame(generated_volume3).to_csv('./data/generated_data_3.csv')"
   ]
  },
  {
   "attachments": {},
   "cell_type": "markdown",
   "metadata": {},
   "source": [
    "# 원래 오차율"
   ]
  },
  {
   "cell_type": "code",
   "execution_count": 29,
   "metadata": {},
   "outputs": [],
   "source": [
    "import optimizer4"
   ]
  },
  {
   "cell_type": "code",
   "execution_count": 35,
   "metadata": {},
   "outputs": [],
   "source": [
    "similarities_4 = []\n",
    "generated_volume = []\n",
    "for i in range(tests.shape[0]):\n",
    "    solution = optimizer4.solve(e_T=tests[i], w2=596, w3=92, w5=694, w6=913, w8=238, w9=379)\n",
    "    x = np.zeros(66)\n",
    "    if bool(solution):\n",
    "        for i in solution:\n",
    "            x[i] = solution[i]\n",
    "        e = p_matrix@x\n",
    "        generated_volume.append(e)\n",
    "        similarity = np.dot(e, tests[i])/(np.linalg.norm(e)*np.linalg.norm(tests[i]))\n",
    "        similarities_4.append(similarity)"
   ]
  },
  {
   "cell_type": "code",
   "execution_count": 56,
   "metadata": {},
   "outputs": [],
   "source": [
    "temp = optimizer3.solve(e_T=tests[56], w2=596, w3=92, w5=694, w6=913, w8=238, w9=379)\n",
    "x = np.zeros(66)\n",
    "for i in temp:\n",
    "    x[i] = temp[i]"
   ]
  },
  {
   "cell_type": "code",
   "execution_count": 57,
   "metadata": {},
   "outputs": [
    {
     "data": {
      "text/plain": [
       "array([   0., 1726., 1054., 1744., 1700., 1419., 1630., 1083.])"
      ]
     },
     "execution_count": 57,
     "metadata": {},
     "output_type": "execute_result"
    }
   ],
   "source": [
    "I_matrix@x"
   ]
  },
  {
   "cell_type": "code",
   "execution_count": 37,
   "metadata": {},
   "outputs": [],
   "source": [
    "pd.DataFrame(generated_volume).to_csv('./data/generated_data.csv')"
   ]
  },
  {
   "cell_type": "code",
   "execution_count": 31,
   "metadata": {},
   "outputs": [],
   "source": [
    "pd.DataFrame(errors_4).to_csv('4_error.csv')\n",
    "pd.DataFrame(similarities_4).to_csv('4_similar.csv')"
   ]
  },
  {
   "cell_type": "code",
   "execution_count": 34,
   "metadata": {},
   "outputs": [
    {
     "name": "stdout",
     "output_type": "stream",
     "text": [
      "0.977960253029657\n",
      "0.02306135604417684\n",
      "[0.9885351669779722, 0.9842730198846998, 0.9717382313202593, 0.9494496735942553, 0.9330760397170207, 0.9018060184636996, 0.91952769200888, 0.9489698165349719, 0.9648824951617023, 0.9756233006329581, 0.9846814905647211, 0.9879209252008342, 0.9852877930454348, 0.984498592524089, 0.989113322397329, 0.9934470590888668, 0.9965188477776256, 0.9948401926948623, 0.9983172643711724, 0.991167352754559, 0.9876978317031458, 0.9935400935739048, 0.9926991299567602, 0.996351730433175, 0.9864311916319369, 0.986151776198756, 0.9852156471544311, 0.9650818061867612, 0.9588489501067197, 0.9230707764300926, 0.9068527100629385, 0.9513873976989471, 0.963595262082857, 0.9762908654108317, 0.9881401679812202, 0.9850221271663065, 0.9857927881488843, 0.987174287745473, 0.9880543444996233, 0.9924606524812831, 0.9959588413347191, 0.9966787080787364, 0.9981454142620332, 0.9929275645575762, 0.9911798542588125, 0.9935843751327719, 0.994065209003984, 0.9958963875575891, 0.989560359785107, 0.987579998358575, 0.9730342930785051, 0.9610969824473173, 0.9582281172799423, 0.9158636820121455, 0.9182212152620546, 0.9497267176707526, 0.9627648180408674, 0.9787031141315125, 0.9818242410673784, 0.9871414856027396, 0.9835029169009406, 0.9876269489147174, 0.9890060562862589, 0.9930762525255274, 0.9949030011553835, 0.998496585929018, 0.9977498563617202, 0.9937274417742619, 0.9948959005783982, 0.9951469774096665, 0.9937167646365641, 0.994613439332725, 0.98811612022405, 0.9846589122846117, 0.976670467689544, 0.9565938720611027, 0.9534140161388067, 0.9250811450704125, 0.9166448866031204, 0.9507315211378085, 0.9657330983555172, 0.9766141865054492, 0.983317620242533, 0.9869885772611403, 0.9860081674245427, 0.9856405046745396, 0.9901254823104815, 0.9935644769868713, 0.9964849528862841, 0.9968839822116946, 0.9987264518410461, 0.9933968674041747, 0.9916026368363668, 0.9969228227497124, 0.9929229694114158, 0.9943662127684941, 0.9901841970963146, 0.9848046174171736, 0.9820080732555523, 0.9683380388125796, 0.957022815847033, 0.920744677170911, 0.9192623069240969, 0.9495066448238386, 0.9668442090180094, 0.9815666054808898, 0.9841864620048459, 0.9849086045018345, 0.9821100938705204, 0.9817044367489428, 0.9897134288942169, 0.9924855465441422, 0.9960053806152948, 0.9970238949383654, 0.9975843450722175, 0.9927688773984914, 0.9894756978559931, 0.993519085202702, 0.9944815118596666, 0.9955935090272078]\n"
     ]
    },
    {
     "data": {
      "image/png": "[encoded data removed]",
      "text/plain": [
       "<Figure size 640x480 with 1 Axes>"
      ]
     },
     "metadata": {},
     "output_type": "display_data"
    }
   ],
   "source": [
    "import seaborn as sns\n",
    "import matplotlib.pyplot as plt\n",
    "mean = np.mean(similarities_4)\n",
    "std = np.std(similarities_4)\n",
    "print(mean)\n",
    "print(std)\n",
    "print(similarities_4)\n",
    "# plt.text(mean-0.1*mean, 20, f\"Mean : {mean}\")\n",
    "# plt.text(mean-0.1*mean, 15, f\"Std : {std}\")\n",
    "sns.kdeplot(similarities_4, cut=1)\n",
    "plt.show()"
   ]
  },
  {
   "cell_type": "code",
   "execution_count": null,
   "metadata": {},
   "outputs": [],
   "source": []
  }
 ],
 "metadata": {
  "kernelspec": {
   "display_name": "base",
   "language": "python",
   "name": "python3"
  },
  "language_info": {
   "codemirror_mode": {
    "name": "ipython",
    "version": 3
   },
   "file_extension": ".py",
   "mimetype": "text/x-python",
   "name": "python",
   "nbconvert_exporter": "python",
   "pygments_lexer": "ipython3",
   "version": "3.9.13"
  },
  "orig_nbformat": 4
 },
 "nbformat": 4,
 "nbformat_minor": 2
}
