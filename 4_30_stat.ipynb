{
 "cells": [
  {
   "cell_type": "code",
   "execution_count": 1,
   "metadata": {},
   "outputs": [],
   "source": [
    "import pandas as pd\n",
    "import numpy as np"
   ]
  },
  {
   "cell_type": "code",
   "execution_count": 2,
   "metadata": {},
   "outputs": [
    {
     "data": {
      "text/html": [
       "<div>\n",
       "<style scoped>\n",
       "    .dataframe tbody tr th:only-of-type {\n",
       "        vertical-align: middle;\n",
       "    }\n",
       "\n",
       "    .dataframe tbody tr th {\n",
       "        vertical-align: top;\n",
       "    }\n",
       "\n",
       "    .dataframe thead th {\n",
       "        text-align: right;\n",
       "    }\n",
       "</style>\n",
       "<table border=\"1\" class=\"dataframe\">\n",
       "  <thead>\n",
       "    <tr style=\"text-align: right;\">\n",
       "      <th></th>\n",
       "      <th>0</th>\n",
       "      <th>1</th>\n",
       "      <th>2</th>\n",
       "      <th>3</th>\n",
       "      <th>4</th>\n",
       "      <th>5</th>\n",
       "      <th>6</th>\n",
       "      <th>7</th>\n",
       "      <th>8</th>\n",
       "      <th>9</th>\n",
       "      <th>10</th>\n",
       "    </tr>\n",
       "  </thead>\n",
       "  <tbody>\n",
       "    <tr>\n",
       "      <th>0</th>\n",
       "      <td>2023-04-24 00시</td>\n",
       "      <td>236</td>\n",
       "      <td>251</td>\n",
       "      <td>253</td>\n",
       "      <td>254</td>\n",
       "      <td>265</td>\n",
       "      <td>279</td>\n",
       "      <td>261</td>\n",
       "      <td>279</td>\n",
       "      <td>140</td>\n",
       "      <td>183</td>\n",
       "    </tr>\n",
       "    <tr>\n",
       "      <th>1</th>\n",
       "      <td>2023-04-24 01시</td>\n",
       "      <td>211</td>\n",
       "      <td>190</td>\n",
       "      <td>164</td>\n",
       "      <td>192</td>\n",
       "      <td>184</td>\n",
       "      <td>241</td>\n",
       "      <td>208</td>\n",
       "      <td>243</td>\n",
       "      <td>126</td>\n",
       "      <td>138</td>\n",
       "    </tr>\n",
       "    <tr>\n",
       "      <th>2</th>\n",
       "      <td>2023-04-24 02시</td>\n",
       "      <td>145</td>\n",
       "      <td>161</td>\n",
       "      <td>115</td>\n",
       "      <td>200</td>\n",
       "      <td>152</td>\n",
       "      <td>184</td>\n",
       "      <td>151</td>\n",
       "      <td>173</td>\n",
       "      <td>83</td>\n",
       "      <td>94</td>\n",
       "    </tr>\n",
       "    <tr>\n",
       "      <th>3</th>\n",
       "      <td>2023-04-24 03시</td>\n",
       "      <td>162</td>\n",
       "      <td>170</td>\n",
       "      <td>105</td>\n",
       "      <td>185</td>\n",
       "      <td>119</td>\n",
       "      <td>152</td>\n",
       "      <td>196</td>\n",
       "      <td>141</td>\n",
       "      <td>59</td>\n",
       "      <td>86</td>\n",
       "    </tr>\n",
       "    <tr>\n",
       "      <th>4</th>\n",
       "      <td>2023-04-24 04시</td>\n",
       "      <td>200</td>\n",
       "      <td>299</td>\n",
       "      <td>151</td>\n",
       "      <td>47</td>\n",
       "      <td>181</td>\n",
       "      <td>289</td>\n",
       "      <td>362</td>\n",
       "      <td>207</td>\n",
       "      <td>135</td>\n",
       "      <td>169</td>\n",
       "    </tr>\n",
       "  </tbody>\n",
       "</table>\n",
       "</div>"
      ],
      "text/plain": [
       "               0    1    2    3    4    5    6    7    8    9    10\n",
       "0  2023-04-24 00시  236  251  253  254  265  279  261  279  140  183\n",
       "1  2023-04-24 01시  211  190  164  192  184  241  208  243  126  138\n",
       "2  2023-04-24 02시  145  161  115  200  152  184  151  173   83   94\n",
       "3  2023-04-24 03시  162  170  105  185  119  152  196  141   59   86\n",
       "4  2023-04-24 04시  200  299  151   47  181  289  362  207  135  169"
      ]
     },
     "execution_count": 2,
     "metadata": {},
     "output_type": "execute_result"
    }
   ],
   "source": [
    "data = pd.read_excel('./data/data.xlsx', index_col=0)\n",
    "data.head()"
   ]
  },
  {
   "cell_type": "code",
   "execution_count": 3,
   "metadata": {},
   "outputs": [
    {
     "data": {
      "text/plain": [
       "array([1005, 1553, 1180, 1682, 1911, 1424, 1628, 1494, 1084, 1454],\n",
       "      dtype=object)"
      ]
     },
     "execution_count": 3,
     "metadata": {},
     "output_type": "execute_result"
    }
   ],
   "source": [
    "train_eT = np.array(data.iloc[56,1:].values)\n",
    "train_eT"
   ]
  },
  {
   "cell_type": "code",
   "execution_count": 4,
   "metadata": {},
   "outputs": [
    {
     "name": "stdout",
     "output_type": "stream",
     "text": [
      "(CVXPY) Apr 30 03:36:48 PM: Encountered unexpected exception importing solver GLOP:\n",
      "RuntimeError('Unrecognized new version of ortools (9.6.2534). Expected < 9.5.0.Please open a feature request on cvxpy to enable support for this version.')\n",
      "(CVXPY) Apr 30 03:36:48 PM: Encountered unexpected exception importing solver PDLP:\n",
      "RuntimeError('Unrecognized new version of ortools (9.6.2534). Expected < 9.5.0.Please open a feature request on cvxpy to enable support for this version.')\n"
     ]
    }
   ],
   "source": [
    "from optimizer1 import solve"
   ]
  },
  {
   "cell_type": "code",
   "execution_count": 5,
   "metadata": {},
   "outputs": [
    {
     "data": {
      "text/plain": [
       "{2: 0,\n",
       " 3: 0,\n",
       " 5: 0,\n",
       " 7: 0,\n",
       " 10: 0,\n",
       " 11: 0,\n",
       " 13: 0,\n",
       " 15: 0,\n",
       " 16: 370,\n",
       " 17: 370,\n",
       " 18: 716,\n",
       " 19: 152,\n",
       " 20: 152,\n",
       " 21: 518,\n",
       " 22: 231,\n",
       " 23: 518,\n",
       " 24: 231,\n",
       " 25: 405,\n",
       " 26: 405,\n",
       " 27: 484,\n",
       " 28: 192,\n",
       " 29: 637,\n",
       " 30: 192,\n",
       " 31: 637,\n",
       " 32: 192,\n",
       " 33: 192,\n",
       " 34: 0,\n",
       " 35: 0,\n",
       " 37: 0,\n",
       " 41: 0,\n",
       " 42: 0,\n",
       " 44: 0,\n",
       " 48: 0,\n",
       " 49: 0,\n",
       " 50: 0,\n",
       " 51: 0,\n",
       " 52: 0,\n",
       " 53: 0,\n",
       " 57: 0,\n",
       " 58: 0,\n",
       " 59: 0,\n",
       " 60: 0,\n",
       " 61: 0,\n",
       " 62: 0}"
      ]
     },
     "execution_count": 5,
     "metadata": {},
     "output_type": "execute_result"
    }
   ],
   "source": [
    "result = solve(e_T=train_eT)\n",
    "result"
   ]
  },
  {
   "cell_type": "code",
   "execution_count": 6,
   "metadata": {},
   "outputs": [],
   "source": [
    "from BRL import p_matrix"
   ]
  },
  {
   "cell_type": "code",
   "execution_count": 7,
   "metadata": {},
   "outputs": [
    {
     "data": {
      "text/plain": [
       "array([0., 0., 0., 0., 0., 0., 0., 0., 0., 0., 0., 0., 0., 0., 0., 0., 0.,\n",
       "       0., 0., 0., 0., 0., 0., 0., 0., 0., 0., 0., 0., 0., 0., 0., 0., 0.,\n",
       "       0., 0., 0., 0., 0., 0., 0., 0., 0., 0., 0., 0., 0., 0., 0., 0., 0.,\n",
       "       0., 0., 0., 0., 0., 0., 0., 0., 0., 0., 0., 0., 0., 0., 0.])"
      ]
     },
     "execution_count": 7,
     "metadata": {},
     "output_type": "execute_result"
    }
   ],
   "source": [
    "a = np.zeros(66)\n",
    "a"
   ]
  },
  {
   "cell_type": "code",
   "execution_count": 8,
   "metadata": {},
   "outputs": [],
   "source": [
    "for i in result:\n",
    "    a[i] = result[i]"
   ]
  },
  {
   "cell_type": "code",
   "execution_count": 9,
   "metadata": {},
   "outputs": [
    {
     "data": {
      "text/plain": [
       "array([   0., 1550., 1178., 1678., 2120.,    0., 1274., 1036.,    0.,\n",
       "       1724.])"
      ]
     },
     "execution_count": 9,
     "metadata": {},
     "output_type": "execute_result"
    }
   ],
   "source": [
    "p_matrix@a"
   ]
  },
  {
   "cell_type": "code",
   "execution_count": 10,
   "metadata": {},
   "outputs": [
    {
     "data": {
      "text/plain": [
       "False"
      ]
     },
     "execution_count": 10,
     "metadata": {},
     "output_type": "execute_result"
    }
   ],
   "source": [
    "b = {}\n",
    "bool(b)"
   ]
  },
  {
   "cell_type": "code",
   "execution_count": 17,
   "metadata": {},
   "outputs": [
    {
     "data": {
      "text/plain": [
       "2118.8225503802814"
      ]
     },
     "execution_count": 17,
     "metadata": {},
     "output_type": "execute_result"
    }
   ],
   "source": [
    "minimum"
   ]
  },
  {
   "cell_type": "code",
   "execution_count": 18,
   "metadata": {},
   "outputs": [
    {
     "data": {
      "text/plain": [
       "array([   0., 1552., 1675.,    0.,  670.,    0.,    0.,  336.,    0.,\n",
       "       1684.])"
      ]
     },
     "execution_count": 18,
     "metadata": {},
     "output_type": "execute_result"
    }
   ],
   "source": [
    "e"
   ]
  },
  {
   "cell_type": "code",
   "execution_count": 19,
   "metadata": {},
   "outputs": [
    {
     "data": {
      "text/plain": [
       "array([1005, 1553, 1180, 1682, 1911, 1424, 1628, 1494, 1084, 1454],\n",
       "      dtype=object)"
      ]
     },
     "execution_count": 19,
     "metadata": {},
     "output_type": "execute_result"
    }
   ],
   "source": [
    "train_eT"
   ]
  },
  {
   "cell_type": "code",
   "execution_count": 80,
   "metadata": {},
   "outputs": [
    {
     "name": "stdout",
     "output_type": "stream",
     "text": [
      "  6%|▌         | 3/50 [00:00<00:07,  6.25trial/s, best loss: 4636.231982979281]"
     ]
    },
    {
     "name": "stderr",
     "output_type": "stream",
     "text": [
      "job exception: Solver 'OSQP' failed. Try another solver, or solve with verbose=True for more information.\n",
      "\n"
     ]
    },
    {
     "name": "stdout",
     "output_type": "stream",
     "text": [
      "  6%|▌         | 3/50 [00:00<00:10,  4.67trial/s, best loss: 4636.231982979281]\n",
      "Iteration 0: 에러가 발생했습니다. 다음 반복으로 이동합니다. 오류 내용: Solver 'OSQP' failed. Try another solver, or solve with verbose=True for more information.\n",
      " 52%|█████▏    | 26/50 [00:03<00:03,  6.36trial/s, best loss: 2053.306845067244]"
     ]
    },
    {
     "name": "stderr",
     "output_type": "stream",
     "text": [
      "job exception: Solver 'OSQP' failed. Try another solver, or solve with verbose=True for more information.\n",
      "\n"
     ]
    },
    {
     "name": "stdout",
     "output_type": "stream",
     "text": [
      " 52%|█████▏    | 26/50 [00:04<00:03,  6.25trial/s, best loss: 2053.306845067244]\n",
      "Iteration 1: 에러가 발생했습니다. 다음 반복으로 이동합니다. 오류 내용: Solver 'OSQP' failed. Try another solver, or solve with verbose=True for more information.\n",
      " 40%|████      | 20/50 [00:03<00:04,  6.18trial/s, best loss: 2060.813431633247]"
     ]
    },
    {
     "name": "stderr",
     "output_type": "stream",
     "text": [
      "job exception: Solver 'OSQP' failed. Try another solver, or solve with verbose=True for more information.\n",
      "\n"
     ]
    },
    {
     "name": "stdout",
     "output_type": "stream",
     "text": [
      " 40%|████      | 20/50 [00:03<00:04,  6.00trial/s, best loss: 2060.813431633247]\n",
      "Iteration 2: 에러가 발생했습니다. 다음 반복으로 이동합니다. 오류 내용: Solver 'OSQP' failed. Try another solver, or solve with verbose=True for more information.\n",
      " 52%|█████▏    | 26/50 [00:04<00:03,  6.42trial/s, best loss: 2066.486631943212] "
     ]
    },
    {
     "name": "stderr",
     "output_type": "stream",
     "text": [
      "job exception: Solver 'OSQP' failed. Try another solver, or solve with verbose=True for more information.\n",
      "\n"
     ]
    },
    {
     "name": "stdout",
     "output_type": "stream",
     "text": [
      " 52%|█████▏    | 26/50 [00:04<00:04,  5.85trial/s, best loss: 2066.486631943212]\n",
      "Iteration 3: 에러가 발생했습니다. 다음 반복으로 이동합니다. 오류 내용: Solver 'OSQP' failed. Try another solver, or solve with verbose=True for more information.\n",
      "  0%|          | 0/50 [00:00<?, ?trial/s, best loss=?]"
     ]
    },
    {
     "name": "stderr",
     "output_type": "stream",
     "text": [
      "job exception: Solver 'OSQP' failed. Try another solver, or solve with verbose=True for more information.\n",
      "\n"
     ]
    },
    {
     "name": "stdout",
     "output_type": "stream",
     "text": [
      "  0%|          | 0/50 [00:00<?, ?trial/s, best loss=?]\n",
      "Iteration 4: 에러가 발생했습니다. 다음 반복으로 이동합니다. 오류 내용: Solver 'OSQP' failed. Try another solver, or solve with verbose=True for more information.\n",
      " 66%|██████▌   | 33/50 [00:05<00:02,  5.83trial/s, best loss: 2076.979778428283] "
     ]
    },
    {
     "name": "stderr",
     "output_type": "stream",
     "text": [
      "job exception: Solver 'OSQP' failed. Try another solver, or solve with verbose=True for more information.\n",
      "\n"
     ]
    },
    {
     "name": "stdout",
     "output_type": "stream",
     "text": [
      " 66%|██████▌   | 33/50 [00:05<00:02,  5.98trial/s, best loss: 2076.979778428283]\n",
      "Iteration 5: 에러가 발생했습니다. 다음 반복으로 이동합니다. 오류 내용: Solver 'OSQP' failed. Try another solver, or solve with verbose=True for more information.\n",
      "  0%|          | 0/50 [00:00<?, ?trial/s, best loss=?]"
     ]
    },
    {
     "name": "stderr",
     "output_type": "stream",
     "text": [
      "job exception: Solver 'OSQP' failed. Try another solver, or solve with verbose=True for more information.\n",
      "\n"
     ]
    },
    {
     "name": "stdout",
     "output_type": "stream",
     "text": [
      "  0%|          | 0/50 [00:00<?, ?trial/s, best loss=?]\n",
      "Iteration 6: 에러가 발생했습니다. 다음 반복으로 이동합니다. 오류 내용: Solver 'OSQP' failed. Try another solver, or solve with verbose=True for more information.\n",
      " 12%|█▏        | 6/50 [00:00<00:06,  6.53trial/s, best loss: 3013.7690687907725]"
     ]
    },
    {
     "name": "stderr",
     "output_type": "stream",
     "text": [
      "c:\\Users\\FILab\\anaconda3\\lib\\site-packages\\cvxpy\\problems\\problem.py:1385: UserWarning: Solution may be inaccurate. Try another solver, adjusting the solver settings, or solve with verbose=True for more information.\n",
      "  warnings.warn(\n",
      "\n"
     ]
    },
    {
     "name": "stdout",
     "output_type": "stream",
     "text": [
      " 32%|███▏      | 16/50 [00:02<00:05,  6.26trial/s, best loss: 2077.9692009267123]"
     ]
    },
    {
     "name": "stderr",
     "output_type": "stream",
     "text": [
      "job exception: Solver 'OSQP' failed. Try another solver, or solve with verbose=True for more information.\n",
      "\n"
     ]
    },
    {
     "name": "stdout",
     "output_type": "stream",
     "text": [
      " 32%|███▏      | 16/50 [00:02<00:05,  6.06trial/s, best loss: 2077.9692009267123]\n",
      "Iteration 7: 에러가 발생했습니다. 다음 반복으로 이동합니다. 오류 내용: Solver 'OSQP' failed. Try another solver, or solve with verbose=True for more information.\n",
      " 10%|█         | 5/50 [00:00<00:07,  6.18trial/s, best loss: 2381.4787422943755]"
     ]
    },
    {
     "name": "stderr",
     "output_type": "stream",
     "text": [
      "job exception: Solver 'OSQP' failed. Try another solver, or solve with verbose=True for more information.\n",
      "\n"
     ]
    },
    {
     "name": "stdout",
     "output_type": "stream",
     "text": [
      " 10%|█         | 5/50 [00:00<00:08,  5.25trial/s, best loss: 2381.4787422943755]\n",
      "Iteration 8: 에러가 발생했습니다. 다음 반복으로 이동합니다. 오류 내용: Solver 'OSQP' failed. Try another solver, or solve with verbose=True for more information.\n",
      " 14%|█▍        | 7/50 [00:01<00:07,  6.13trial/s, best loss: 2073.735518334004]"
     ]
    },
    {
     "name": "stderr",
     "output_type": "stream",
     "text": [
      "job exception: Solver 'OSQP' failed. Try another solver, or solve with verbose=True for more information.\n",
      "\n"
     ]
    },
    {
     "name": "stdout",
     "output_type": "stream",
     "text": [
      " 14%|█▍        | 7/50 [00:01<00:08,  5.25trial/s, best loss: 2073.735518334004]\n",
      "Iteration 9: 에러가 발생했습니다. 다음 반복으로 이동합니다. 오류 내용: Solver 'OSQP' failed. Try another solver, or solve with verbose=True for more information.\n",
      " 10%|█         | 5/50 [00:00<00:07,  5.97trial/s, best loss: 2146.4109578549956]"
     ]
    },
    {
     "name": "stderr",
     "output_type": "stream",
     "text": [
      "job exception: Solver 'OSQP' failed. Try another solver, or solve with verbose=True for more information.\n",
      "\n"
     ]
    },
    {
     "name": "stdout",
     "output_type": "stream",
     "text": [
      " 10%|█         | 5/50 [00:00<00:08,  5.02trial/s, best loss: 2146.4109578549956]\n",
      "Iteration 10: 에러가 발생했습니다. 다음 반복으로 이동합니다. 오류 내용: Solver 'OSQP' failed. Try another solver, or solve with verbose=True for more information.\n",
      " 60%|██████    | 30/50 [00:04<00:03,  6.08trial/s, best loss: 2053.0913277299674]"
     ]
    },
    {
     "name": "stderr",
     "output_type": "stream",
     "text": [
      "job exception: Solver 'OSQP' failed. Try another solver, or solve with verbose=True for more information.\n",
      "\n"
     ]
    },
    {
     "name": "stdout",
     "output_type": "stream",
     "text": [
      " 60%|██████    | 30/50 [00:04<00:03,  6.11trial/s, best loss: 2053.0913277299674]\n",
      "Iteration 11: 에러가 발생했습니다. 다음 반복으로 이동합니다. 오류 내용: Solver 'OSQP' failed. Try another solver, or solve with verbose=True for more information.\n",
      "100%|██████████| 50/50 [00:08<00:00,  5.56trial/s, best loss: 2062.914443208928] \n",
      "100%|██████████| 50/50 [00:08<00:00,  5.61trial/s, best loss: 2052.862148318781] \n",
      "  2%|▏         | 1/50 [00:00<00:11,  4.39trial/s, best loss: 4636.231982979281]"
     ]
    },
    {
     "name": "stderr",
     "output_type": "stream",
     "text": [
      "job exception: Solver 'OSQP' failed. Try another solver, or solve with verbose=True for more information.\n",
      "\n"
     ]
    },
    {
     "name": "stdout",
     "output_type": "stream",
     "text": [
      "  2%|▏         | 1/50 [00:00<00:19,  2.46trial/s, best loss: 4636.231982979281]\n",
      "Iteration 14: 에러가 발생했습니다. 다음 반복으로 이동합니다. 오류 내용: Solver 'OSQP' failed. Try another solver, or solve with verbose=True for more information.\n",
      " 26%|██▌       | 13/50 [00:02<00:06,  5.71trial/s, best loss: 2074.084617367382]"
     ]
    },
    {
     "name": "stderr",
     "output_type": "stream",
     "text": [
      "job exception: Solver 'OSQP' failed. Try another solver, or solve with verbose=True for more information.\n",
      "\n"
     ]
    },
    {
     "name": "stdout",
     "output_type": "stream",
     "text": [
      " 26%|██▌       | 13/50 [00:02<00:06,  5.35trial/s, best loss: 2074.084617367382]\n",
      "Iteration 15: 에러가 발생했습니다. 다음 반복으로 이동합니다. 오류 내용: Solver 'OSQP' failed. Try another solver, or solve with verbose=True for more information.\n",
      " 10%|█         | 5/50 [00:00<00:08,  5.32trial/s, best loss: 2171.0741581069956]"
     ]
    },
    {
     "name": "stderr",
     "output_type": "stream",
     "text": [
      "job exception: Solver 'OSQP' failed. Try another solver, or solve with verbose=True for more information.\n",
      "\n"
     ]
    },
    {
     "name": "stdout",
     "output_type": "stream",
     "text": [
      " 10%|█         | 5/50 [00:01<00:10,  4.42trial/s, best loss: 2171.0741581069956]\n",
      "Iteration 16: 에러가 발생했습니다. 다음 반복으로 이동합니다. 오류 내용: Solver 'OSQP' failed. Try another solver, or solve with verbose=True for more information.\n",
      " 10%|█         | 5/50 [00:00<00:07,  5.68trial/s, best loss: 2066.76268594147] "
     ]
    },
    {
     "name": "stderr",
     "output_type": "stream",
     "text": [
      "job exception: Solver 'OSQP' failed. Try another solver, or solve with verbose=True for more information.\n",
      "\n"
     ]
    },
    {
     "name": "stdout",
     "output_type": "stream",
     "text": [
      " 10%|█         | 5/50 [00:01<00:09,  4.54trial/s, best loss: 2066.76268594147]\n",
      "Iteration 17: 에러가 발생했습니다. 다음 반복으로 이동합니다. 오류 내용: Solver 'OSQP' failed. Try another solver, or solve with verbose=True for more information.\n",
      "  4%|▍         | 2/50 [00:00<00:08,  5.76trial/s, best loss: 2864.22188386305] "
     ]
    },
    {
     "name": "stderr",
     "output_type": "stream",
     "text": [
      "job exception: Solver 'OSQP' failed. Try another solver, or solve with verbose=True for more information.\n",
      "\n"
     ]
    },
    {
     "name": "stdout",
     "output_type": "stream",
     "text": [
      "  4%|▍         | 2/50 [00:00<00:14,  3.28trial/s, best loss: 2864.22188386305]\n",
      "Iteration 18: 에러가 발생했습니다. 다음 반복으로 이동합니다. 오류 내용: Solver 'OSQP' failed. Try another solver, or solve with verbose=True for more information.\n",
      " 46%|████▌     | 23/50 [00:03<00:04,  6.17trial/s, best loss: 2053.7049447279423]"
     ]
    },
    {
     "name": "stderr",
     "output_type": "stream",
     "text": [
      "job exception: 'NoneType' object is not subscriptable\n",
      "\n"
     ]
    },
    {
     "name": "stdout",
     "output_type": "stream",
     "text": [
      " 46%|████▌     | 23/50 [00:03<00:04,  5.78trial/s, best loss: 2053.7049447279423]\n",
      "Iteration 19: 에러가 발생했습니다. 다음 반복으로 이동합니다. 오류 내용: 'NoneType' object is not subscriptable\n",
      "  8%|▊         | 4/50 [00:00<00:09,  4.65trial/s, best loss: 4635.977566813714]"
     ]
    },
    {
     "name": "stderr",
     "output_type": "stream",
     "text": [
      "job exception: Solver 'OSQP' failed. Try another solver, or solve with verbose=True for more information.\n",
      "\n"
     ]
    },
    {
     "name": "stdout",
     "output_type": "stream",
     "text": [
      "  8%|▊         | 4/50 [00:01<00:11,  3.86trial/s, best loss: 4635.977566813714]\n",
      "Iteration 20: 에러가 발생했습니다. 다음 반복으로 이동합니다. 오류 내용: Solver 'OSQP' failed. Try another solver, or solve with verbose=True for more information.\n",
      " 42%|████▏     | 21/50 [00:03<00:04,  6.05trial/s, best loss: 2058.2315224483373]"
     ]
    },
    {
     "name": "stderr",
     "output_type": "stream",
     "text": [
      "job exception: Solver 'OSQP' failed. Try another solver, or solve with verbose=True for more information.\n",
      "\n"
     ]
    },
    {
     "name": "stdout",
     "output_type": "stream",
     "text": [
      " 42%|████▏     | 21/50 [00:03<00:05,  5.25trial/s, best loss: 2058.2315224483373]\n",
      "Iteration 21: 에러가 발생했습니다. 다음 반복으로 이동합니다. 오류 내용: Solver 'OSQP' failed. Try another solver, or solve with verbose=True for more information.\n",
      " 22%|██▏       | 11/50 [00:01<00:07,  5.36trial/s, best loss: 2113.9444174339114]"
     ]
    },
    {
     "name": "stderr",
     "output_type": "stream",
     "text": [
      "job exception: Solver 'OSQP' failed. Try another solver, or solve with verbose=True for more information.\n",
      "\n"
     ]
    },
    {
     "name": "stdout",
     "output_type": "stream",
     "text": [
      " 22%|██▏       | 11/50 [00:02<00:07,  5.07trial/s, best loss: 2113.9444174339114]\n",
      "Iteration 22: 에러가 발생했습니다. 다음 반복으로 이동합니다. 오류 내용: Solver 'OSQP' failed. Try another solver, or solve with verbose=True for more information.\n",
      " 10%|█         | 5/50 [00:00<00:07,  5.63trial/s, best loss: 3439.5377596415483]"
     ]
    },
    {
     "name": "stderr",
     "output_type": "stream",
     "text": [
      "job exception: Solver 'OSQP' failed. Try another solver, or solve with verbose=True for more information.\n",
      "\n"
     ]
    },
    {
     "name": "stdout",
     "output_type": "stream",
     "text": [
      " 10%|█         | 5/50 [00:01<00:09,  4.67trial/s, best loss: 3439.5377596415483]\n",
      "Iteration 23: 에러가 발생했습니다. 다음 반복으로 이동합니다. 오류 내용: Solver 'OSQP' failed. Try another solver, or solve with verbose=True for more information.\n",
      "  6%|▌         | 3/50 [00:00<00:07,  6.07trial/s, best loss: 3498.228694639617]"
     ]
    },
    {
     "name": "stderr",
     "output_type": "stream",
     "text": [
      "job exception: Solver 'OSQP' failed. Try another solver, or solve with verbose=True for more information.\n",
      "\n"
     ]
    },
    {
     "name": "stdout",
     "output_type": "stream",
     "text": [
      "  6%|▌         | 3/50 [00:00<00:10,  4.50trial/s, best loss: 3498.228694639617]\n",
      "Iteration 24: 에러가 발생했습니다. 다음 반복으로 이동합니다. 오류 내용: Solver 'OSQP' failed. Try another solver, or solve with verbose=True for more information.\n",
      " 14%|█▍        | 7/50 [00:01<00:07,  5.71trial/s, best loss: 2170.4819741246415]"
     ]
    },
    {
     "name": "stderr",
     "output_type": "stream",
     "text": [
      "job exception: Solver 'OSQP' failed. Try another solver, or solve with verbose=True for more information.\n",
      "\n"
     ]
    },
    {
     "name": "stdout",
     "output_type": "stream",
     "text": [
      " 14%|█▍        | 7/50 [00:01<00:09,  4.71trial/s, best loss: 2170.4819741246415]\n",
      "Iteration 25: 에러가 발생했습니다. 다음 반복으로 이동합니다. 오류 내용: Solver 'OSQP' failed. Try another solver, or solve with verbose=True for more information.\n",
      " 26%|██▌       | 13/50 [00:02<00:06,  5.86trial/s, best loss: 2072.3214036437494]"
     ]
    },
    {
     "name": "stderr",
     "output_type": "stream",
     "text": [
      "job exception: Solver 'OSQP' failed. Try another solver, or solve with verbose=True for more information.\n",
      "\n"
     ]
    },
    {
     "name": "stdout",
     "output_type": "stream",
     "text": [
      " 26%|██▌       | 13/50 [00:02<00:07,  4.91trial/s, best loss: 2072.3214036437494]\n",
      "Iteration 26: 에러가 발생했습니다. 다음 반복으로 이동합니다. 오류 내용: Solver 'OSQP' failed. Try another solver, or solve with verbose=True for more information.\n",
      " 30%|███       | 15/50 [00:02<00:05,  6.03trial/s, best loss: 2277.12691785065]  "
     ]
    },
    {
     "name": "stderr",
     "output_type": "stream",
     "text": [
      "job exception: Solver 'OSQP' failed. Try another solver, or solve with verbose=True for more information.\n",
      "\n"
     ]
    },
    {
     "name": "stdout",
     "output_type": "stream",
     "text": [
      " 30%|███       | 15/50 [00:02<00:06,  5.37trial/s, best loss: 2277.12691785065]\n",
      "Iteration 27: 에러가 발생했습니다. 다음 반복으로 이동합니다. 오류 내용: Solver 'OSQP' failed. Try another solver, or solve with verbose=True for more information.\n",
      "  4%|▍         | 2/50 [00:00<00:06,  7.10trial/s, best loss: 4636.231982979281]"
     ]
    },
    {
     "name": "stderr",
     "output_type": "stream",
     "text": [
      "job exception: Solver 'OSQP' failed. Try another solver, or solve with verbose=True for more information.\n",
      "\n"
     ]
    },
    {
     "name": "stdout",
     "output_type": "stream",
     "text": [
      "  4%|▍         | 2/50 [00:00<00:11,  4.27trial/s, best loss: 4636.231982979281]\n",
      "Iteration 28: 에러가 발생했습니다. 다음 반복으로 이동합니다. 오류 내용: Solver 'OSQP' failed. Try another solver, or solve with verbose=True for more information.\n",
      " 92%|█████████▏| 46/50 [00:07<00:00,  5.45trial/s, best loss: 2056.4131394250526]"
     ]
    },
    {
     "name": "stderr",
     "output_type": "stream",
     "text": [
      "job exception: Solver 'OSQP' failed. Try another solver, or solve with verbose=True for more information.\n",
      "\n"
     ]
    },
    {
     "name": "stdout",
     "output_type": "stream",
     "text": [
      " 92%|█████████▏| 46/50 [00:08<00:00,  5.65trial/s, best loss: 2056.4131394250526]\n",
      "Iteration 29: 에러가 발생했습니다. 다음 반복으로 이동합니다. 오류 내용: Solver 'OSQP' failed. Try another solver, or solve with verbose=True for more information.\n",
      "  0%|          | 0/50 [00:00<?, ?trial/s, best loss=?]"
     ]
    },
    {
     "name": "stderr",
     "output_type": "stream",
     "text": [
      "job exception: Solver 'OSQP' failed. Try another solver, or solve with verbose=True for more information.\n",
      "\n"
     ]
    },
    {
     "name": "stdout",
     "output_type": "stream",
     "text": [
      "  0%|          | 0/50 [00:00<?, ?trial/s, best loss=?]\n",
      "Iteration 30: 에러가 발생했습니다. 다음 반복으로 이동합니다. 오류 내용: Solver 'OSQP' failed. Try another solver, or solve with verbose=True for more information.\n",
      " 32%|███▏      | 16/50 [00:02<00:05,  6.08trial/s, best loss: 2243.148456968464]"
     ]
    },
    {
     "name": "stderr",
     "output_type": "stream",
     "text": [
      "job exception: Solver 'OSQP' failed. Try another solver, or solve with verbose=True for more information.\n",
      "\n"
     ]
    },
    {
     "name": "stdout",
     "output_type": "stream",
     "text": [
      " 32%|███▏      | 16/50 [00:02<00:06,  5.52trial/s, best loss: 2243.148456968464]\n",
      "Iteration 31: 에러가 발생했습니다. 다음 반복으로 이동합니다. 오류 내용: Solver 'OSQP' failed. Try another solver, or solve with verbose=True for more information.\n",
      "100%|██████████| 50/50 [00:08<00:00,  5.66trial/s, best loss: 2053.0014612756613]\n",
      "  0%|          | 0/50 [00:00<?, ?trial/s, best loss=?]"
     ]
    },
    {
     "name": "stderr",
     "output_type": "stream",
     "text": [
      "job exception: Solver 'OSQP' failed. Try another solver, or solve with verbose=True for more information.\n",
      "\n"
     ]
    },
    {
     "name": "stdout",
     "output_type": "stream",
     "text": [
      "  0%|          | 0/50 [00:00<?, ?trial/s, best loss=?]\n",
      "Iteration 33: 에러가 발생했습니다. 다음 반복으로 이동합니다. 오류 내용: Solver 'OSQP' failed. Try another solver, or solve with verbose=True for more information.\n",
      " 68%|██████▊   | 34/50 [00:05<00:02,  5.41trial/s, best loss: 2054.4661106964018]"
     ]
    },
    {
     "name": "stderr",
     "output_type": "stream",
     "text": [
      "job exception: Solver 'OSQP' failed. Try another solver, or solve with verbose=True for more information.\n",
      "\n"
     ]
    },
    {
     "name": "stdout",
     "output_type": "stream",
     "text": [
      " 68%|██████▊   | 34/50 [00:06<00:02,  5.50trial/s, best loss: 2054.4661106964018]\n",
      "Iteration 34: 에러가 발생했습니다. 다음 반복으로 이동합니다. 오류 내용: Solver 'OSQP' failed. Try another solver, or solve with verbose=True for more information.\n",
      " 60%|██████    | 30/50 [00:05<00:03,  5.74trial/s, best loss: 2057.4282490526857]"
     ]
    },
    {
     "name": "stderr",
     "output_type": "stream",
     "text": [
      "job exception: Solver 'OSQP' failed. Try another solver, or solve with verbose=True for more information.\n",
      "\n"
     ]
    },
    {
     "name": "stdout",
     "output_type": "stream",
     "text": [
      " 60%|██████    | 30/50 [00:05<00:03,  5.49trial/s, best loss: 2057.4282490526857]\n",
      "Iteration 35: 에러가 발생했습니다. 다음 반복으로 이동합니다. 오류 내용: Solver 'OSQP' failed. Try another solver, or solve with verbose=True for more information.\n",
      " 10%|█         | 5/50 [00:00<00:07,  5.63trial/s, best loss: 2084.0854109177003]"
     ]
    },
    {
     "name": "stderr",
     "output_type": "stream",
     "text": [
      "job exception: Solver 'OSQP' failed. Try another solver, or solve with verbose=True for more information.\n",
      "\n"
     ]
    },
    {
     "name": "stdout",
     "output_type": "stream",
     "text": [
      " 10%|█         | 5/50 [00:01<00:10,  4.45trial/s, best loss: 2084.0854109177003]\n",
      "Iteration 36: 에러가 발생했습니다. 다음 반복으로 이동합니다. 오류 내용: Solver 'OSQP' failed. Try another solver, or solve with verbose=True for more information.\n",
      " 12%|█▏        | 6/50 [00:01<00:07,  5.96trial/s, best loss: 2185.953338934754]"
     ]
    },
    {
     "name": "stderr",
     "output_type": "stream",
     "text": [
      "job exception: Solver 'OSQP' failed. Try another solver, or solve with verbose=True for more information.\n",
      "\n"
     ]
    },
    {
     "name": "stdout",
     "output_type": "stream",
     "text": [
      " 12%|█▏        | 6/50 [00:01<00:08,  4.93trial/s, best loss: 2185.953338934754]\n",
      "Iteration 37: 에러가 발생했습니다. 다음 반복으로 이동합니다. 오류 내용: Solver 'OSQP' failed. Try another solver, or solve with verbose=True for more information.\n",
      "  2%|▏         | 1/50 [00:00<00:08,  5.78trial/s, best loss: 2874.6095387026044]"
     ]
    },
    {
     "name": "stderr",
     "output_type": "stream",
     "text": [
      "job exception: Solver 'OSQP' failed. Try another solver, or solve with verbose=True for more information.\n",
      "\n"
     ]
    },
    {
     "name": "stdout",
     "output_type": "stream",
     "text": [
      "  2%|▏         | 1/50 [00:00<00:17,  2.84trial/s, best loss: 2874.6095387026044]\n",
      "Iteration 38: 에러가 발생했습니다. 다음 반복으로 이동합니다. 오류 내용: Solver 'OSQP' failed. Try another solver, or solve with verbose=True for more information.\n",
      " 30%|███       | 15/50 [00:02<00:05,  6.08trial/s, best loss: 2075.5028306412883]"
     ]
    },
    {
     "name": "stderr",
     "output_type": "stream",
     "text": [
      "job exception: Solver 'OSQP' failed. Try another solver, or solve with verbose=True for more information.\n",
      "\n"
     ]
    },
    {
     "name": "stdout",
     "output_type": "stream",
     "text": [
      " 30%|███       | 15/50 [00:02<00:06,  5.68trial/s, best loss: 2075.5028306412883]\n",
      "Iteration 39: 에러가 발생했습니다. 다음 반복으로 이동합니다. 오류 내용: Solver 'OSQP' failed. Try another solver, or solve with verbose=True for more information.\n",
      " 16%|█▌        | 8/50 [00:01<00:06,  6.21trial/s, best loss: 2113.395608966764]"
     ]
    },
    {
     "name": "stderr",
     "output_type": "stream",
     "text": [
      "job exception: Solver 'OSQP' failed. Try another solver, or solve with verbose=True for more information.\n",
      "\n"
     ]
    },
    {
     "name": "stdout",
     "output_type": "stream",
     "text": [
      " 16%|█▌        | 8/50 [00:01<00:08,  5.22trial/s, best loss: 2113.395608966764]\n",
      "Iteration 40: 에러가 발생했습니다. 다음 반복으로 이동합니다. 오류 내용: Solver 'OSQP' failed. Try another solver, or solve with verbose=True for more information.\n",
      "  2%|▏         | 1/50 [00:00<00:11,  4.30trial/s, best loss: 4636.231982979281]"
     ]
    },
    {
     "name": "stderr",
     "output_type": "stream",
     "text": [
      "job exception: Solver 'OSQP' failed. Try another solver, or solve with verbose=True for more information.\n",
      "\n"
     ]
    },
    {
     "name": "stdout",
     "output_type": "stream",
     "text": [
      "  2%|▏         | 1/50 [00:00<00:22,  2.14trial/s, best loss: 4636.231982979281]\n",
      "Iteration 41: 에러가 발생했습니다. 다음 반복으로 이동합니다. 오류 내용: Solver 'OSQP' failed. Try another solver, or solve with verbose=True for more information.\n",
      " 18%|█▊        | 9/50 [00:01<00:07,  5.43trial/s, best loss: 2171.2749710711446]"
     ]
    },
    {
     "name": "stderr",
     "output_type": "stream",
     "text": [
      "job exception: Solver 'OSQP' failed. Try another solver, or solve with verbose=True for more information.\n",
      "\n"
     ]
    },
    {
     "name": "stdout",
     "output_type": "stream",
     "text": [
      " 18%|█▊        | 9/50 [00:01<00:08,  4.71trial/s, best loss: 2171.2749710711446]\n",
      "Iteration 42: 에러가 발생했습니다. 다음 반복으로 이동합니다. 오류 내용: Solver 'OSQP' failed. Try another solver, or solve with verbose=True for more information.\n",
      " 44%|████▍     | 22/50 [00:04<00:05,  5.41trial/s, best loss: 2077.965110390451] "
     ]
    },
    {
     "name": "stderr",
     "output_type": "stream",
     "text": [
      "job exception: Solver 'OSQP' failed. Try another solver, or solve with verbose=True for more information.\n",
      "\n"
     ]
    },
    {
     "name": "stdout",
     "output_type": "stream",
     "text": [
      " 44%|████▍     | 22/50 [00:04<00:05,  5.22trial/s, best loss: 2077.965110390451]\n",
      "Iteration 43: 에러가 발생했습니다. 다음 반복으로 이동합니다. 오류 내용: Solver 'OSQP' failed. Try another solver, or solve with verbose=True for more information.\n",
      "100%|██████████| 50/50 [00:09<00:00,  5.49trial/s, best loss: 2067.3033159166557]\n",
      " 82%|████████▏ | 41/50 [00:07<00:01,  5.82trial/s, best loss: 2052.8382790663272]"
     ]
    },
    {
     "name": "stderr",
     "output_type": "stream",
     "text": [
      "job exception: Solver 'OSQP' failed. Try another solver, or solve with verbose=True for more information.\n",
      "\n"
     ]
    },
    {
     "name": "stdout",
     "output_type": "stream",
     "text": [
      " 82%|████████▏ | 41/50 [00:07<00:01,  5.63trial/s, best loss: 2052.8382790663272]\n",
      "Iteration 45: 에러가 발생했습니다. 다음 반복으로 이동합니다. 오류 내용: Solver 'OSQP' failed. Try another solver, or solve with verbose=True for more information.\n",
      " 60%|██████    | 30/50 [00:05<00:03,  5.65trial/s, best loss: 2052.881876777132] "
     ]
    },
    {
     "name": "stderr",
     "output_type": "stream",
     "text": [
      "job exception: Solver 'OSQP' failed. Try another solver, or solve with verbose=True for more information.\n",
      "\n"
     ]
    },
    {
     "name": "stdout",
     "output_type": "stream",
     "text": [
      " 60%|██████    | 30/50 [00:05<00:03,  5.64trial/s, best loss: 2052.881876777132]\n",
      "Iteration 46: 에러가 발생했습니다. 다음 반복으로 이동합니다. 오류 내용: Solver 'OSQP' failed. Try another solver, or solve with verbose=True for more information.\n",
      "  4%|▍         | 2/50 [00:00<00:09,  5.00trial/s, best loss: 4636.231982979281]"
     ]
    },
    {
     "name": "stderr",
     "output_type": "stream",
     "text": [
      "job exception: Solver 'OSQP' failed. Try another solver, or solve with verbose=True for more information.\n",
      "\n"
     ]
    },
    {
     "name": "stdout",
     "output_type": "stream",
     "text": [
      "  4%|▍         | 2/50 [00:00<00:14,  3.41trial/s, best loss: 4636.231982979281]\n",
      "Iteration 47: 에러가 발생했습니다. 다음 반복으로 이동합니다. 오류 내용: Solver 'OSQP' failed. Try another solver, or solve with verbose=True for more information.\n",
      "100%|██████████| 50/50 [00:08<00:00,  5.58trial/s, best loss: 2053.002679004584] \n",
      "  4%|▍         | 2/50 [00:00<00:08,  5.69trial/s, best loss: 2867.993026490825] "
     ]
    },
    {
     "name": "stderr",
     "output_type": "stream",
     "text": [
      "job exception: Solver 'OSQP' failed. Try another solver, or solve with verbose=True for more information.\n",
      "\n"
     ]
    },
    {
     "name": "stdout",
     "output_type": "stream",
     "text": [
      "  4%|▍         | 2/50 [00:00<00:12,  3.81trial/s, best loss: 2867.993026490825]\n",
      "Iteration 49: 에러가 발생했습니다. 다음 반복으로 이동합니다. 오류 내용: Solver 'OSQP' failed. Try another solver, or solve with verbose=True for more information.\n",
      " 30%|███       | 15/50 [00:02<00:05,  6.12trial/s, best loss: 2073.265298990942]"
     ]
    },
    {
     "name": "stderr",
     "output_type": "stream",
     "text": [
      "job exception: Solver 'OSQP' failed. Try another solver, or solve with verbose=True for more information.\n",
      "\n"
     ]
    },
    {
     "name": "stdout",
     "output_type": "stream",
     "text": [
      " 30%|███       | 15/50 [00:02<00:06,  5.44trial/s, best loss: 2073.265298990942]\n",
      "Iteration 50: 에러가 발생했습니다. 다음 반복으로 이동합니다. 오류 내용: Solver 'OSQP' failed. Try another solver, or solve with verbose=True for more information.\n",
      " 62%|██████▏   | 31/50 [00:05<00:03,  6.17trial/s, best loss: 2055.5843451437354]"
     ]
    },
    {
     "name": "stderr",
     "output_type": "stream",
     "text": [
      "job exception: Solver 'OSQP' failed. Try another solver, or solve with verbose=True for more information.\n",
      "\n"
     ]
    },
    {
     "name": "stdout",
     "output_type": "stream",
     "text": [
      " 62%|██████▏   | 31/50 [00:05<00:03,  5.55trial/s, best loss: 2055.5843451437354]\n",
      "Iteration 51: 에러가 발생했습니다. 다음 반복으로 이동합니다. 오류 내용: Solver 'OSQP' failed. Try another solver, or solve with verbose=True for more information.\n",
      " 12%|█▏        | 6/50 [00:00<00:07,  6.12trial/s, best loss: 2174.885054433912] "
     ]
    },
    {
     "name": "stderr",
     "output_type": "stream",
     "text": [
      "job exception: Solver 'OSQP' failed. Try another solver, or solve with verbose=True for more information.\n",
      "\n"
     ]
    },
    {
     "name": "stdout",
     "output_type": "stream",
     "text": [
      " 12%|█▏        | 6/50 [00:01<00:08,  5.22trial/s, best loss: 2174.885054433912]\n",
      "Iteration 52: 에러가 발생했습니다. 다음 반복으로 이동합니다. 오류 내용: Solver 'OSQP' failed. Try another solver, or solve with verbose=True for more information.\n",
      " 64%|██████▍   | 32/50 [00:05<00:03,  5.40trial/s, best loss: 2053.8549121103956]"
     ]
    },
    {
     "name": "stderr",
     "output_type": "stream",
     "text": [
      "job exception: Solver 'OSQP' failed. Try another solver, or solve with verbose=True for more information.\n",
      "\n"
     ]
    },
    {
     "name": "stdout",
     "output_type": "stream",
     "text": [
      " 64%|██████▍   | 32/50 [00:05<00:03,  5.48trial/s, best loss: 2053.8549121103956]\n",
      "Iteration 53: 에러가 발생했습니다. 다음 반복으로 이동합니다. 오류 내용: Solver 'OSQP' failed. Try another solver, or solve with verbose=True for more information.\n",
      "100%|██████████| 50/50 [00:08<00:00,  5.78trial/s, best loss: 2053.65162576324]  \n",
      " 20%|██        | 10/50 [00:01<00:07,  5.27trial/s, best loss: 2849.518029421818]"
     ]
    },
    {
     "name": "stderr",
     "output_type": "stream",
     "text": [
      "job exception: Solver 'OSQP' failed. Try another solver, or solve with verbose=True for more information.\n",
      "\n"
     ]
    },
    {
     "name": "stdout",
     "output_type": "stream",
     "text": [
      " 20%|██        | 10/50 [00:01<00:07,  5.24trial/s, best loss: 2849.518029421818]\n",
      "Iteration 55: 에러가 발생했습니다. 다음 반복으로 이동합니다. 오류 내용: Solver 'OSQP' failed. Try another solver, or solve with verbose=True for more information.\n",
      " 68%|██████▊   | 34/50 [00:05<00:02,  6.35trial/s, best loss: 2059.1260281974] "
     ]
    },
    {
     "name": "stderr",
     "output_type": "stream",
     "text": [
      "job exception: Solver 'OSQP' failed. Try another solver, or solve with verbose=True for more information.\n",
      "\n"
     ]
    },
    {
     "name": "stdout",
     "output_type": "stream",
     "text": [
      " 68%|██████▊   | 34/50 [00:06<00:02,  5.60trial/s, best loss: 2059.1260281974]\n",
      "Iteration 56: 에러가 발생했습니다. 다음 반복으로 이동합니다. 오류 내용: Solver 'OSQP' failed. Try another solver, or solve with verbose=True for more information.\n",
      " 12%|█▏        | 6/50 [00:00<00:06,  6.47trial/s, best loss: 2167.3834455398055]"
     ]
    },
    {
     "name": "stderr",
     "output_type": "stream",
     "text": [
      "job exception: Solver 'OSQP' failed. Try another solver, or solve with verbose=True for more information.\n",
      "\n"
     ]
    },
    {
     "name": "stdout",
     "output_type": "stream",
     "text": [
      " 12%|█▏        | 6/50 [00:01<00:08,  5.18trial/s, best loss: 2167.3834455398055]\n",
      "Iteration 57: 에러가 발생했습니다. 다음 반복으로 이동합니다. 오류 내용: Solver 'OSQP' failed. Try another solver, or solve with verbose=True for more information.\n",
      "  0%|          | 0/50 [00:00<?, ?trial/s, best loss=?]"
     ]
    },
    {
     "name": "stderr",
     "output_type": "stream",
     "text": [
      "job exception: Solver 'OSQP' failed. Try another solver, or solve with verbose=True for more information.\n",
      "\n"
     ]
    },
    {
     "name": "stdout",
     "output_type": "stream",
     "text": [
      "  0%|          | 0/50 [00:00<?, ?trial/s, best loss=?]\n",
      "Iteration 58: 에러가 발생했습니다. 다음 반복으로 이동합니다. 오류 내용: Solver 'OSQP' failed. Try another solver, or solve with verbose=True for more information.\n",
      " 46%|████▌     | 23/50 [00:03<00:04,  6.55trial/s, best loss: 2052.7871297336214]"
     ]
    },
    {
     "name": "stderr",
     "output_type": "stream",
     "text": [
      "job exception: Solver 'OSQP' failed. Try another solver, or solve with verbose=True for more information.\n",
      "\n"
     ]
    },
    {
     "name": "stdout",
     "output_type": "stream",
     "text": [
      " 46%|████▌     | 23/50 [00:03<00:04,  6.20trial/s, best loss: 2052.7871297336214]\n",
      "Iteration 59: 에러가 발생했습니다. 다음 반복으로 이동합니다. 오류 내용: Solver 'OSQP' failed. Try another solver, or solve with verbose=True for more information.\n",
      " 10%|█         | 5/50 [00:00<00:06,  6.49trial/s, best loss: 2059.2474353510797]"
     ]
    },
    {
     "name": "stderr",
     "output_type": "stream",
     "text": [
      "job exception: Solver 'OSQP' failed. Try another solver, or solve with verbose=True for more information.\n",
      "\n"
     ]
    },
    {
     "name": "stdout",
     "output_type": "stream",
     "text": [
      " 10%|█         | 5/50 [00:00<00:08,  5.35trial/s, best loss: 2059.2474353510797]\n",
      "Iteration 60: 에러가 발생했습니다. 다음 반복으로 이동합니다. 오류 내용: Solver 'OSQP' failed. Try another solver, or solve with verbose=True for more information.\n",
      " 68%|██████▊   | 34/50 [00:05<00:02,  6.27trial/s, best loss: 2053.267639641749]"
     ]
    },
    {
     "name": "stderr",
     "output_type": "stream",
     "text": [
      "job exception: Solver 'OSQP' failed. Try another solver, or solve with verbose=True for more information.\n",
      "\n"
     ]
    },
    {
     "name": "stdout",
     "output_type": "stream",
     "text": [
      " 68%|██████▊   | 34/50 [00:05<00:02,  6.14trial/s, best loss: 2053.267639641749]\n",
      "Iteration 61: 에러가 발생했습니다. 다음 반복으로 이동합니다. 오류 내용: Solver 'OSQP' failed. Try another solver, or solve with verbose=True for more information.\n",
      " 80%|████████  | 40/50 [00:06<00:01,  6.45trial/s, best loss: 2054.726259140132] "
     ]
    },
    {
     "name": "stderr",
     "output_type": "stream",
     "text": [
      "job exception: Solver 'OSQP' failed. Try another solver, or solve with verbose=True for more information.\n",
      "\n"
     ]
    },
    {
     "name": "stdout",
     "output_type": "stream",
     "text": [
      " 80%|████████  | 40/50 [00:06<00:01,  6.19trial/s, best loss: 2054.726259140132]\n",
      "Iteration 62: 에러가 발생했습니다. 다음 반복으로 이동합니다. 오류 내용: Solver 'OSQP' failed. Try another solver, or solve with verbose=True for more information.\n",
      "  0%|          | 0/50 [00:00<?, ?trial/s, best loss=?]"
     ]
    },
    {
     "name": "stderr",
     "output_type": "stream",
     "text": [
      "job exception: Solver 'OSQP' failed. Try another solver, or solve with verbose=True for more information.\n",
      "\n"
     ]
    },
    {
     "name": "stdout",
     "output_type": "stream",
     "text": [
      "  0%|          | 0/50 [00:00<?, ?trial/s, best loss=?]\n",
      "Iteration 63: 에러가 발생했습니다. 다음 반복으로 이동합니다. 오류 내용: Solver 'OSQP' failed. Try another solver, or solve with verbose=True for more information.\n",
      " 62%|██████▏   | 31/50 [00:04<00:02,  6.56trial/s, best loss: 2055.13430218076]"
     ]
    },
    {
     "name": "stderr",
     "output_type": "stream",
     "text": [
      "job exception: Solver 'OSQP' failed. Try another solver, or solve with verbose=True for more information.\n",
      "\n"
     ]
    },
    {
     "name": "stdout",
     "output_type": "stream",
     "text": [
      " 62%|██████▏   | 31/50 [00:05<00:03,  6.11trial/s, best loss: 2055.13430218076]\n",
      "Iteration 64: 에러가 발생했습니다. 다음 반복으로 이동합니다. 오류 내용: Solver 'OSQP' failed. Try another solver, or solve with verbose=True for more information.\n",
      " 28%|██▊       | 14/50 [00:02<00:06,  5.95trial/s, best loss: 2974.7996571197864]"
     ]
    },
    {
     "name": "stderr",
     "output_type": "stream",
     "text": [
      "job exception: Solver 'OSQP' failed. Try another solver, or solve with verbose=True for more information.\n",
      "\n"
     ]
    },
    {
     "name": "stdout",
     "output_type": "stream",
     "text": [
      " 28%|██▊       | 14/50 [00:02<00:06,  5.77trial/s, best loss: 2974.7996571197864]\n",
      "Iteration 65: 에러가 발생했습니다. 다음 반복으로 이동합니다. 오류 내용: Solver 'OSQP' failed. Try another solver, or solve with verbose=True for more information.\n",
      " 14%|█▍        | 7/50 [00:01<00:07,  5.98trial/s, best loss: 2055.6517214742385]"
     ]
    },
    {
     "name": "stderr",
     "output_type": "stream",
     "text": [
      "job exception: Solver 'OSQP' failed. Try another solver, or solve with verbose=True for more information.\n",
      "\n"
     ]
    },
    {
     "name": "stdout",
     "output_type": "stream",
     "text": [
      " 14%|█▍        | 7/50 [00:01<00:07,  5.42trial/s, best loss: 2055.6517214742385]\n",
      "Iteration 66: 에러가 발생했습니다. 다음 반복으로 이동합니다. 오류 내용: Solver 'OSQP' failed. Try another solver, or solve with verbose=True for more information.\n",
      " 16%|█▌        | 8/50 [00:01<00:07,  5.96trial/s, best loss: 2942.8664597633374]"
     ]
    },
    {
     "name": "stderr",
     "output_type": "stream",
     "text": [
      "job exception: Solver 'OSQP' failed. Try another solver, or solve with verbose=True for more information.\n",
      "\n"
     ]
    },
    {
     "name": "stdout",
     "output_type": "stream",
     "text": [
      " 16%|█▌        | 8/50 [00:01<00:07,  5.55trial/s, best loss: 2942.8664597633374]\n",
      "Iteration 67: 에러가 발생했습니다. 다음 반복으로 이동합니다. 오류 내용: Solver 'OSQP' failed. Try another solver, or solve with verbose=True for more information.\n",
      "  4%|▍         | 2/50 [00:00<00:07,  6.46trial/s, best loss: 2800.4654970200936]"
     ]
    },
    {
     "name": "stderr",
     "output_type": "stream",
     "text": [
      "job exception: Solver 'OSQP' failed. Try another solver, or solve with verbose=True for more information.\n",
      "\n"
     ]
    },
    {
     "name": "stdout",
     "output_type": "stream",
     "text": [
      "  4%|▍         | 2/50 [00:00<00:11,  4.11trial/s, best loss: 2800.4654970200936]\n",
      "Iteration 68: 에러가 발생했습니다. 다음 반복으로 이동합니다. 오류 내용: Solver 'OSQP' failed. Try another solver, or solve with verbose=True for more information.\n",
      " 28%|██▊       | 14/50 [00:02<00:05,  6.52trial/s, best loss: 2059.4746903033306]"
     ]
    },
    {
     "name": "stderr",
     "output_type": "stream",
     "text": [
      "job exception: Solver 'OSQP' failed. Try another solver, or solve with verbose=True for more information.\n",
      "\n"
     ]
    },
    {
     "name": "stdout",
     "output_type": "stream",
     "text": [
      " 28%|██▊       | 14/50 [00:02<00:05,  6.00trial/s, best loss: 2059.4746903033306]\n",
      "Iteration 69: 에러가 발생했습니다. 다음 반복으로 이동합니다. 오류 내용: Solver 'OSQP' failed. Try another solver, or solve with verbose=True for more information.\n",
      "  2%|▏         | 1/50 [00:00<00:09,  5.37trial/s, best loss: 2667.9775111495974]"
     ]
    },
    {
     "name": "stderr",
     "output_type": "stream",
     "text": [
      "job exception: Solver 'OSQP' failed. Try another solver, or solve with verbose=True for more information.\n",
      "\n"
     ]
    },
    {
     "name": "stdout",
     "output_type": "stream",
     "text": [
      "  2%|▏         | 1/50 [00:00<00:16,  2.90trial/s, best loss: 2667.9775111495974]\n",
      "Iteration 70: 에러가 발생했습니다. 다음 반복으로 이동합니다. 오류 내용: Solver 'OSQP' failed. Try another solver, or solve with verbose=True for more information.\n",
      "  6%|▌         | 3/50 [00:00<00:07,  5.93trial/s, best loss: 2814.6386979504136]"
     ]
    },
    {
     "name": "stderr",
     "output_type": "stream",
     "text": [
      "job exception: Solver 'OSQP' failed. Try another solver, or solve with verbose=True for more information.\n",
      "\n"
     ]
    },
    {
     "name": "stdout",
     "output_type": "stream",
     "text": [
      "  6%|▌         | 3/50 [00:00<00:10,  4.61trial/s, best loss: 2814.6386979504136]\n",
      "Iteration 71: 에러가 발생했습니다. 다음 반복으로 이동합니다. 오류 내용: Solver 'OSQP' failed. Try another solver, or solve with verbose=True for more information.\n",
      "  8%|▊         | 4/50 [00:00<00:07,  6.34trial/s, best loss: 4635.977566813714]"
     ]
    },
    {
     "name": "stderr",
     "output_type": "stream",
     "text": [
      "job exception: Solver 'OSQP' failed. Try another solver, or solve with verbose=True for more information.\n",
      "\n"
     ]
    },
    {
     "name": "stdout",
     "output_type": "stream",
     "text": [
      "  8%|▊         | 4/50 [00:00<00:09,  4.61trial/s, best loss: 4635.977566813714]\n",
      "Iteration 72: 에러가 발생했습니다. 다음 반복으로 이동합니다. 오류 내용: Solver 'OSQP' failed. Try another solver, or solve with verbose=True for more information.\n",
      " 14%|█▍        | 7/50 [00:01<00:07,  5.89trial/s, best loss: 2081.375746952001] "
     ]
    },
    {
     "name": "stderr",
     "output_type": "stream",
     "text": [
      "job exception: Solver 'OSQP' failed. Try another solver, or solve with verbose=True for more information.\n",
      "\n"
     ]
    },
    {
     "name": "stdout",
     "output_type": "stream",
     "text": [
      " 14%|█▍        | 7/50 [00:01<00:08,  5.30trial/s, best loss: 2081.375746952001]\n",
      "Iteration 73: 에러가 발생했습니다. 다음 반복으로 이동합니다. 오류 내용: Solver 'OSQP' failed. Try another solver, or solve with verbose=True for more information.\n",
      " 90%|█████████ | 45/50 [00:07<00:00,  6.35trial/s, best loss: 2052.8633661303425]"
     ]
    },
    {
     "name": "stderr",
     "output_type": "stream",
     "text": [
      "job exception: Solver 'OSQP' failed. Try another solver, or solve with verbose=True for more information.\n",
      "\n"
     ]
    },
    {
     "name": "stdout",
     "output_type": "stream",
     "text": [
      " 90%|█████████ | 45/50 [00:07<00:00,  6.10trial/s, best loss: 2052.8633661303425]\n",
      "Iteration 74: 에러가 발생했습니다. 다음 반복으로 이동합니다. 오류 내용: Solver 'OSQP' failed. Try another solver, or solve with verbose=True for more information.\n",
      "  2%|▏         | 1/50 [00:00<00:06,  7.35trial/s, best loss: 2846.651366079099]"
     ]
    },
    {
     "name": "stderr",
     "output_type": "stream",
     "text": [
      "job exception: Solver 'OSQP' failed. Try another solver, or solve with verbose=True for more information.\n",
      "\n"
     ]
    },
    {
     "name": "stdout",
     "output_type": "stream",
     "text": [
      "  2%|▏         | 1/50 [00:00<00:14,  3.34trial/s, best loss: 2846.651366079099]\n",
      "Iteration 75: 에러가 발생했습니다. 다음 반복으로 이동합니다. 오류 내용: Solver 'OSQP' failed. Try another solver, or solve with verbose=True for more information.\n",
      "  6%|▌         | 3/50 [00:00<00:06,  7.08trial/s, best loss: 2793.250257316734]"
     ]
    },
    {
     "name": "stderr",
     "output_type": "stream",
     "text": [
      "job exception: Solver 'OSQP' failed. Try another solver, or solve with verbose=True for more information.\n",
      "\n"
     ]
    },
    {
     "name": "stdout",
     "output_type": "stream",
     "text": [
      "  6%|▌         | 3/50 [00:00<00:09,  4.93trial/s, best loss: 2793.250257316734]\n",
      "Iteration 76: 에러가 발생했습니다. 다음 반복으로 이동합니다. 오류 내용: Solver 'OSQP' failed. Try another solver, or solve with verbose=True for more information.\n",
      "  4%|▍         | 2/50 [00:00<00:07,  6.36trial/s, best loss: 2157.073016844817] "
     ]
    },
    {
     "name": "stderr",
     "output_type": "stream",
     "text": [
      "job exception: Solver 'OSQP' failed. Try another solver, or solve with verbose=True for more information.\n",
      "\n"
     ]
    },
    {
     "name": "stdout",
     "output_type": "stream",
     "text": [
      "  4%|▍         | 2/50 [00:00<00:11,  4.15trial/s, best loss: 2157.073016844817]\n",
      "Iteration 77: 에러가 발생했습니다. 다음 반복으로 이동합니다. 오류 내용: Solver 'OSQP' failed. Try another solver, or solve with verbose=True for more information.\n",
      " 20%|██        | 10/50 [00:01<00:06,  6.23trial/s, best loss: 2062.292898693103]"
     ]
    },
    {
     "name": "stderr",
     "output_type": "stream",
     "text": [
      "job exception: Solver 'OSQP' failed. Try another solver, or solve with verbose=True for more information.\n",
      "\n"
     ]
    },
    {
     "name": "stdout",
     "output_type": "stream",
     "text": [
      " 20%|██        | 10/50 [00:01<00:07,  5.44trial/s, best loss: 2062.292898693103]\n",
      "Iteration 78: 에러가 발생했습니다. 다음 반복으로 이동합니다. 오류 내용: Solver 'OSQP' failed. Try another solver, or solve with verbose=True for more information.\n",
      " 30%|███       | 15/50 [00:02<00:05,  6.65trial/s, best loss: 2831.9879943248347]"
     ]
    },
    {
     "name": "stderr",
     "output_type": "stream",
     "text": [
      "job exception: Solver 'OSQP' failed. Try another solver, or solve with verbose=True for more information.\n",
      "\n"
     ]
    },
    {
     "name": "stdout",
     "output_type": "stream",
     "text": [
      " 30%|███       | 15/50 [00:02<00:05,  5.89trial/s, best loss: 2831.9879943248347]\n",
      "Iteration 79: 에러가 발생했습니다. 다음 반복으로 이동합니다. 오류 내용: Solver 'OSQP' failed. Try another solver, or solve with verbose=True for more information.\n",
      " 64%|██████▍   | 32/50 [00:05<00:03,  5.61trial/s, best loss: 2053.0913277299674]"
     ]
    },
    {
     "name": "stderr",
     "output_type": "stream",
     "text": [
      "job exception: Solver 'OSQP' failed. Try another solver, or solve with verbose=True for more information.\n",
      "\n"
     ]
    },
    {
     "name": "stdout",
     "output_type": "stream",
     "text": [
      " 64%|██████▍   | 32/50 [00:05<00:02,  6.07trial/s, best loss: 2053.0913277299674]\n",
      "Iteration 80: 에러가 발생했습니다. 다음 반복으로 이동합니다. 오류 내용: Solver 'OSQP' failed. Try another solver, or solve with verbose=True for more information.\n",
      "  2%|▏         | 1/50 [00:00<00:07,  6.85trial/s, best loss: 4636.231982979281]"
     ]
    },
    {
     "name": "stderr",
     "output_type": "stream",
     "text": [
      "job exception: Solver 'OSQP' failed. Try another solver, or solve with verbose=True for more information.\n",
      "\n"
     ]
    },
    {
     "name": "stdout",
     "output_type": "stream",
     "text": [
      "  2%|▏         | 1/50 [00:00<00:17,  2.76trial/s, best loss: 4636.231982979281]\n",
      "Iteration 81: 에러가 발생했습니다. 다음 반복으로 이동합니다. 오류 내용: Solver 'OSQP' failed. Try another solver, or solve with verbose=True for more information.\n",
      "  2%|▏         | 1/50 [00:00<00:09,  5.10trial/s, best loss: 2177.9954086269327]"
     ]
    },
    {
     "name": "stderr",
     "output_type": "stream",
     "text": [
      "job exception: Solver 'OSQP' failed. Try another solver, or solve with verbose=True for more information.\n",
      "\n"
     ]
    },
    {
     "name": "stdout",
     "output_type": "stream",
     "text": [
      "  2%|▏         | 1/50 [00:00<00:20,  2.44trial/s, best loss: 2177.9954086269327]\n",
      "Iteration 82: 에러가 발생했습니다. 다음 반복으로 이동합니다. 오류 내용: Solver 'OSQP' failed. Try another solver, or solve with verbose=True for more information.\n",
      " 68%|██████▊   | 34/50 [00:06<00:02,  5.47trial/s, best loss: 2056.222750579324]"
     ]
    },
    {
     "name": "stderr",
     "output_type": "stream",
     "text": [
      "job exception: Solver 'OSQP' failed. Try another solver, or solve with verbose=True for more information.\n",
      "\n"
     ]
    },
    {
     "name": "stdout",
     "output_type": "stream",
     "text": [
      " 68%|██████▊   | 34/50 [00:06<00:03,  5.30trial/s, best loss: 2056.222750579324]\n",
      "Iteration 83: 에러가 발생했습니다. 다음 반복으로 이동합니다. 오류 내용: Solver 'OSQP' failed. Try another solver, or solve with verbose=True for more information.\n",
      " 70%|███████   | 35/50 [00:06<00:02,  5.47trial/s, best loss: 2116.1335024047985]"
     ]
    },
    {
     "name": "stderr",
     "output_type": "stream",
     "text": [
      "job exception: 'NoneType' object is not subscriptable\n",
      "\n"
     ]
    },
    {
     "name": "stdout",
     "output_type": "stream",
     "text": [
      " 70%|███████   | 35/50 [00:06<00:02,  5.33trial/s, best loss: 2116.1335024047985]\n",
      "Iteration 84: 에러가 발생했습니다. 다음 반복으로 이동합니다. 오류 내용: 'NoneType' object is not subscriptable\n",
      "  0%|          | 0/50 [00:00<?, ?trial/s, best loss=?]"
     ]
    },
    {
     "name": "stderr",
     "output_type": "stream",
     "text": [
      "job exception: Solver 'OSQP' failed. Try another solver, or solve with verbose=True for more information.\n",
      "\n"
     ]
    },
    {
     "name": "stdout",
     "output_type": "stream",
     "text": [
      "  0%|          | 0/50 [00:00<?, ?trial/s, best loss=?]\n",
      "Iteration 85: 에러가 발생했습니다. 다음 반복으로 이동합니다. 오류 내용: Solver 'OSQP' failed. Try another solver, or solve with verbose=True for more information.\n",
      "  2%|▏         | 1/50 [00:00<00:09,  5.13trial/s, best loss: 4636.231982979281]"
     ]
    },
    {
     "name": "stderr",
     "output_type": "stream",
     "text": [
      "job exception: Solver 'OSQP' failed. Try another solver, or solve with verbose=True for more information.\n",
      "\n"
     ]
    },
    {
     "name": "stdout",
     "output_type": "stream",
     "text": [
      "  2%|▏         | 1/50 [00:00<00:18,  2.62trial/s, best loss: 4636.231982979281]\n",
      "Iteration 86: 에러가 발생했습니다. 다음 반복으로 이동합니다. 오류 내용: Solver 'OSQP' failed. Try another solver, or solve with verbose=True for more information.\n",
      " 46%|████▌     | 23/50 [00:03<00:04,  5.61trial/s, best loss: 2053.1634128826668]"
     ]
    },
    {
     "name": "stderr",
     "output_type": "stream",
     "text": [
      "job exception: Solver 'OSQP' failed. Try another solver, or solve with verbose=True for more information.\n",
      "\n"
     ]
    },
    {
     "name": "stdout",
     "output_type": "stream",
     "text": [
      " 46%|████▌     | 23/50 [00:04<00:04,  5.46trial/s, best loss: 2053.1634128826668]\n",
      "Iteration 87: 에러가 발생했습니다. 다음 반복으로 이동합니다. 오류 내용: Solver 'OSQP' failed. Try another solver, or solve with verbose=True for more information.\n",
      "100%|██████████| 50/50 [00:08<00:00,  5.58trial/s, best loss: 2052.88650441275] \n",
      " 94%|█████████▍| 47/50 [00:08<00:00,  5.80trial/s, best loss: 2052.914026451181] "
     ]
    },
    {
     "name": "stderr",
     "output_type": "stream",
     "text": [
      "job exception: Solver 'OSQP' failed. Try another solver, or solve with verbose=True for more information.\n",
      "\n"
     ]
    },
    {
     "name": "stdout",
     "output_type": "stream",
     "text": [
      " 94%|█████████▍| 47/50 [00:08<00:00,  5.36trial/s, best loss: 2052.914026451181]\n",
      "Iteration 89: 에러가 발생했습니다. 다음 반복으로 이동합니다. 오류 내용: Solver 'OSQP' failed. Try another solver, or solve with verbose=True for more information.\n",
      " 14%|█▍        | 7/50 [00:01<00:07,  5.51trial/s, best loss: 2098.0417059725005]"
     ]
    },
    {
     "name": "stderr",
     "output_type": "stream",
     "text": [
      "job exception: Solver 'OSQP' failed. Try another solver, or solve with verbose=True for more information.\n",
      "\n"
     ]
    },
    {
     "name": "stdout",
     "output_type": "stream",
     "text": [
      " 14%|█▍        | 7/50 [00:01<00:08,  5.04trial/s, best loss: 2098.0417059725005]\n",
      "Iteration 90: 에러가 발생했습니다. 다음 반복으로 이동합니다. 오류 내용: Solver 'OSQP' failed. Try another solver, or solve with verbose=True for more information.\n",
      " 16%|█▌        | 8/50 [00:01<00:06,  6.21trial/s, best loss: 2184.434938376513]"
     ]
    },
    {
     "name": "stderr",
     "output_type": "stream",
     "text": [
      "job exception: Solver 'OSQP' failed. Try another solver, or solve with verbose=True for more information.\n",
      "\n"
     ]
    },
    {
     "name": "stdout",
     "output_type": "stream",
     "text": [
      " 16%|█▌        | 8/50 [00:01<00:07,  5.29trial/s, best loss: 2184.434938376513]\n",
      "Iteration 91: 에러가 발생했습니다. 다음 반복으로 이동합니다. 오류 내용: Solver 'OSQP' failed. Try another solver, or solve with verbose=True for more information.\n",
      " 18%|█▊        | 9/50 [00:01<00:07,  5.73trial/s, best loss: 2610.727101786014]"
     ]
    },
    {
     "name": "stderr",
     "output_type": "stream",
     "text": [
      "job exception: Solver 'OSQP' failed. Try another solver, or solve with verbose=True for more information.\n",
      "\n"
     ]
    },
    {
     "name": "stdout",
     "output_type": "stream",
     "text": [
      " 18%|█▊        | 9/50 [00:01<00:08,  4.77trial/s, best loss: 2610.727101786014]\n",
      "Iteration 92: 에러가 발생했습니다. 다음 반복으로 이동합니다. 오류 내용: Solver 'OSQP' failed. Try another solver, or solve with verbose=True for more information.\n",
      " 18%|█▊        | 9/50 [00:01<00:06,  6.03trial/s, best loss: 2903.0561482685794]"
     ]
    },
    {
     "name": "stderr",
     "output_type": "stream",
     "text": [
      "job exception: Solver 'OSQP' failed. Try another solver, or solve with verbose=True for more information.\n",
      "\n"
     ]
    },
    {
     "name": "stdout",
     "output_type": "stream",
     "text": [
      " 18%|█▊        | 9/50 [00:01<00:08,  4.91trial/s, best loss: 2903.0561482685794]\n",
      "Iteration 93: 에러가 발생했습니다. 다음 반복으로 이동합니다. 오류 내용: Solver 'OSQP' failed. Try another solver, or solve with verbose=True for more information.\n",
      " 18%|█▊        | 9/50 [00:01<00:07,  5.65trial/s, best loss: 2411.276840182396]"
     ]
    },
    {
     "name": "stderr",
     "output_type": "stream",
     "text": [
      "job exception: Solver 'OSQP' failed. Try another solver, or solve with verbose=True for more information.\n",
      "\n"
     ]
    },
    {
     "name": "stdout",
     "output_type": "stream",
     "text": [
      " 18%|█▊        | 9/50 [00:01<00:08,  4.82trial/s, best loss: 2411.276840182396]\n",
      "Iteration 94: 에러가 발생했습니다. 다음 반복으로 이동합니다. 오류 내용: Solver 'OSQP' failed. Try another solver, or solve with verbose=True for more information.\n",
      " 66%|██████▌   | 33/50 [00:05<00:02,  6.14trial/s, best loss: 2065.4943718151353]"
     ]
    },
    {
     "name": "stderr",
     "output_type": "stream",
     "text": [
      "job exception: Solver 'OSQP' failed. Try another solver, or solve with verbose=True for more information.\n",
      "\n"
     ]
    },
    {
     "name": "stdout",
     "output_type": "stream",
     "text": [
      " 66%|██████▌   | 33/50 [00:05<00:03,  5.67trial/s, best loss: 2065.4943718151353]\n",
      "Iteration 95: 에러가 발생했습니다. 다음 반복으로 이동합니다. 오류 내용: Solver 'OSQP' failed. Try another solver, or solve with verbose=True for more information.\n",
      " 16%|█▌        | 8/50 [00:01<00:07,  5.55trial/s, best loss: 2103.382276239866]"
     ]
    },
    {
     "name": "stderr",
     "output_type": "stream",
     "text": [
      "job exception: Solver 'OSQP' failed. Try another solver, or solve with verbose=True for more information.\n",
      "\n"
     ]
    },
    {
     "name": "stdout",
     "output_type": "stream",
     "text": [
      " 16%|█▌        | 8/50 [00:01<00:08,  5.19trial/s, best loss: 2103.382276239866]\n",
      "Iteration 96: 에러가 발생했습니다. 다음 반복으로 이동합니다. 오류 내용: Solver 'OSQP' failed. Try another solver, or solve with verbose=True for more information.\n",
      "  2%|▏         | 1/50 [00:00<00:10,  4.71trial/s, best loss: 4634.681003046488]"
     ]
    },
    {
     "name": "stderr",
     "output_type": "stream",
     "text": [
      "job exception: Solver 'OSQP' failed. Try another solver, or solve with verbose=True for more information.\n",
      "\n"
     ]
    },
    {
     "name": "stdout",
     "output_type": "stream",
     "text": [
      "  2%|▏         | 1/50 [00:00<00:19,  2.56trial/s, best loss: 4634.681003046488]\n",
      "Iteration 97: 에러가 발생했습니다. 다음 반복으로 이동합니다. 오류 내용: Solver 'OSQP' failed. Try another solver, or solve with verbose=True for more information.\n",
      " 30%|███       | 15/50 [00:02<00:05,  6.16trial/s, best loss: 2558.4252969355975]"
     ]
    },
    {
     "name": "stderr",
     "output_type": "stream",
     "text": [
      "job exception: Solver 'OSQP' failed. Try another solver, or solve with verbose=True for more information.\n",
      "\n"
     ]
    },
    {
     "name": "stdout",
     "output_type": "stream",
     "text": [
      " 30%|███       | 15/50 [00:02<00:06,  5.62trial/s, best loss: 2558.4252969355975]\n",
      "Iteration 98: 에러가 발생했습니다. 다음 반복으로 이동합니다. 오류 내용: Solver 'OSQP' failed. Try another solver, or solve with verbose=True for more information.\n",
      " 14%|█▍        | 7/50 [00:01<00:07,  6.00trial/s, best loss: 3654.5215829161552]"
     ]
    },
    {
     "name": "stderr",
     "output_type": "stream",
     "text": [
      "job exception: Solver 'OSQP' failed. Try another solver, or solve with verbose=True for more information.\n",
      "\n"
     ]
    },
    {
     "name": "stdout",
     "output_type": "stream",
     "text": [
      " 14%|█▍        | 7/50 [00:01<00:08,  5.10trial/s, best loss: 3654.5215829161552]\n",
      "Iteration 99: 에러가 발생했습니다. 다음 반복으로 이동합니다. 오류 내용: Solver 'OSQP' failed. Try another solver, or solve with verbose=True for more information.\n"
     ]
    }
   ],
   "source": [
    "from hyperopt import hp, fmin, tpe, Trials\n",
    "\n",
    "def objective(args):\n",
    "    beta, gamma = args\n",
    "    solution = solve(e_T=train_eT, beta=beta, gamma=gamma)\n",
    "    x = np.zeros(66)\n",
    "    for i in solution:\n",
    "        x[i] = solution[i]\n",
    "    e = p_matrix @ x\n",
    "    diff = np.linalg.norm(train_eT - e)\n",
    "    return diff\n",
    "\n",
    "space = [\n",
    "    hp.quniform('beta', 1, 999, 1),\n",
    "    hp.quniform('gamma', 1, 999, 1)\n",
    "]\n",
    "\n",
    "results = []\n",
    "for i in range(100):\n",
    "    try:\n",
    "        trials = Trials()\n",
    "        result = fmin(\n",
    "            fn=objective,\n",
    "            space=space,\n",
    "            algo=tpe.suggest,\n",
    "            max_evals=50\n",
    "        )\n",
    "        \n",
    "        results.append(result)\n",
    "    except Exception as e:\n",
    "        print(f\"Iteration {i}: 에러가 발생했습니다. 다음 반복으로 이동합니다. 오류 내용: {e}\")"
   ]
  },
  {
   "cell_type": "code",
   "execution_count": 81,
   "metadata": {},
   "outputs": [
    {
     "data": {
      "text/plain": [
       "[{'beta': 6.0, 'gamma': 841.0},\n",
       " {'beta': 4.0, 'gamma': 991.0},\n",
       " {'beta': 8.0, 'gamma': 994.0},\n",
       " {'beta': 93.0, 'gamma': 846.0},\n",
       " {'beta': 8.0, 'gamma': 995.0},\n",
       " {'beta': 13.0, 'gamma': 962.0},\n",
       " {'beta': 5.0, 'gamma': 990.0}]"
      ]
     },
     "execution_count": 81,
     "metadata": {},
     "output_type": "execute_result"
    }
   ],
   "source": [
    "results"
   ]
  },
  {
   "cell_type": "code",
   "execution_count": 83,
   "metadata": {},
   "outputs": [],
   "source": [
    "errors = []\n",
    "for result in results:\n",
    "    solution = solve(e_T=train_eT, beta=result['beta'], gamma=result['gamma'])\n",
    "    x = np.zeros(66)\n",
    "    for i in solution:\n",
    "        x[i] = solution[i]\n",
    "    e = p_matrix @ x\n",
    "    errors.append(np.linalg.norm(train_eT - e))"
   ]
  },
  {
   "cell_type": "code",
   "execution_count": 84,
   "metadata": {},
   "outputs": [
    {
     "data": {
      "text/plain": [
       "1"
      ]
     },
     "execution_count": 84,
     "metadata": {},
     "output_type": "execute_result"
    }
   ],
   "source": [
    "errors.index(min(errors))"
   ]
  },
  {
   "cell_type": "code",
   "execution_count": 86,
   "metadata": {},
   "outputs": [
    {
     "data": {
      "text/plain": [
       "{'beta': 4.0, 'gamma': 991.0}"
      ]
     },
     "execution_count": 86,
     "metadata": {},
     "output_type": "execute_result"
    }
   ],
   "source": [
    "results[1]"
   ]
  },
  {
   "cell_type": "code",
   "execution_count": 87,
   "metadata": {},
   "outputs": [
    {
     "name": "stdout",
     "output_type": "stream",
     "text": [
      "[   0. 1550. 1178. 1680. 1908.    0. 1628. 1466.    0. 1478.]\n",
      "[1005 1553 1180 1682 1911 1424 1628 1494 1084 1454]\n",
      "2052.862148318781\n"
     ]
    }
   ],
   "source": [
    "solution = solve(e_T=train_eT, beta=4, gamma=991)\n",
    "x = np.zeros(66)\n",
    "for i in solution:\n",
    "    x[i] = solution[i]\n",
    "e = p_matrix@x\n",
    "print(e)\n",
    "print(train_eT)\n",
    "print(np.linalg.norm(train_eT-e))"
   ]
  },
  {
   "cell_type": "code",
   "execution_count": null,
   "metadata": {},
   "outputs": [],
   "source": []
  }
 ],
 "metadata": {
  "kernelspec": {
   "display_name": "base",
   "language": "python",
   "name": "python3"
  },
  "language_info": {
   "codemirror_mode": {
    "name": "ipython",
    "version": 3
   },
   "file_extension": ".py",
   "mimetype": "text/x-python",
   "name": "python",
   "nbconvert_exporter": "python",
   "pygments_lexer": "ipython3",
   "version": "3.9.13"
  },
  "orig_nbformat": 4
 },
 "nbformat": 4,
 "nbformat_minor": 2
}
