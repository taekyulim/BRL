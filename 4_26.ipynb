{
 "cells": [
  {
   "cell_type": "code",
   "execution_count": 1,
   "metadata": {},
   "outputs": [],
   "source": [
    "import numpy as np\n",
    "from BRL import *\n",
    "from optimizer import *"
   ]
  },
  {
   "cell_type": "code",
   "execution_count": 2,
   "metadata": {},
   "outputs": [
    {
     "data": {
      "text/plain": [
       "['3_1o', '3_2o', '3_3o']"
      ]
     },
     "execution_count": 2,
     "metadata": {},
     "output_type": "execute_result"
    }
   ],
   "source": [
    "cr = crossroad['3_0i']\n",
    "cr"
   ]
  },
  {
   "cell_type": "code",
   "execution_count": 3,
   "metadata": {},
   "outputs": [
    {
     "data": {
      "text/plain": [
       "{'0_0i': [['0_0i', '0_1o'], ['0_0i', '0_2o']],\n",
       " '0_1i': [['0_1i', '0_0o'], ['0_1i', '0_2o']],\n",
       " '0_1o': [['0_1o', 'r1_0_1']],\n",
       " '0_2i': [['0_2i', '0_0o'], ['0_2i', '0_1o']],\n",
       " '1_0i': [['1_0i', '1_1o'], ['1_0i', '1_2o'], ['1_0i', '1_3o']],\n",
       " '1_0o': [['1_0o', 'r1_1_0']],\n",
       " '1_1i': [['1_1i', '1_0o'], ['1_1i', '1_2o'], ['1_1i', '1_3o']],\n",
       " '1_1o': [['1_1o', 'r5_1_4']],\n",
       " '1_2i': [['1_2i', '1_0o'], ['1_2i', '1_1o'], ['1_2i', '1_3o']],\n",
       " '1_2o': [['1_2o', 'r2_1_2']],\n",
       " '1_3i': [['1_3i', '1_0o'], ['1_3i', '1_1o'], ['1_3i', '1_2o']],\n",
       " '2_0i': [['2_0i', '2_1o'], ['2_0i', '2_2o']],\n",
       " '2_0o': [['2_0o', 'r2_2_1']],\n",
       " '2_1i': [['2_1i', '2_0o'], ['2_1i', '2_2o']],\n",
       " '2_1o': [['2_1o', 'r3_2_3']],\n",
       " '2_2i': [['2_2i', '2_0o'], ['2_2i', '2_1o']],\n",
       " '3_0i': [['3_0i', '3_1o'], ['3_0i', '3_2o'], ['3_0i', '3_3o']],\n",
       " '3_0o': [['3_0o', 'r4_3_4']],\n",
       " '3_1i': [['3_1i', '3_0o'], ['3_1i', '3_2o'], ['3_1i', '3_3o']],\n",
       " '3_2i': [['3_2i', '3_0o'], ['3_2i', '3_1o'], ['3_2i', '3_3o']],\n",
       " '3_3i': [['3_3i', '3_0o'], ['3_3i', '3_1o'], ['3_3i', '3_2o']],\n",
       " '3_3o': [['3_3o', 'r3_3_2']],\n",
       " '4_0i': [['4_0i', '4_1o'], ['4_0i', '4_2o'], ['4_0i', '4_3o']],\n",
       " '4_1i': [['4_1i', '4_0o'], ['4_1i', '4_2o'], ['4_1i', '4_3o']],\n",
       " '4_2i': [['4_2i', '4_0o'], ['4_2i', '4_1o'], ['4_2i', '4_3o']],\n",
       " '4_2o': [['4_2o', 'r4_4_3']],\n",
       " '4_3i': [['4_3i', '4_0o'], ['4_3i', '4_1o'], ['4_3i', '4_2o']],\n",
       " '4_3o': [['4_3o', 'r5_4_1']]}"
      ]
     },
     "execution_count": 3,
     "metadata": {},
     "output_type": "execute_result"
    }
   ],
   "source": [
    "crossroad_var"
   ]
  },
  {
   "cell_type": "code",
   "execution_count": 18,
   "metadata": {},
   "outputs": [
    {
     "data": {
      "text/plain": [
       "False"
      ]
     },
     "execution_count": 18,
     "metadata": {},
     "output_type": "execute_result"
    }
   ],
   "source": [
    "is_sequenetial(['3_0i', '3_2o'], all_shortest_paths[2])"
   ]
  },
  {
   "cell_type": "code",
   "execution_count": 13,
   "metadata": {},
   "outputs": [
    {
     "name": "stdout",
     "output_type": "stream",
     "text": [
      "끝 노드\n",
      "끝 노드\n",
      "계속 진행\n"
     ]
    }
   ],
   "source": [
    "for c in cr:\n",
    "    if edges[c][1] in origin_nodes:\n",
    "        print(\"끝 노드\")\n",
    "    else:\n",
    "        print(\"계속 진행\")"
   ]
  },
  {
   "cell_type": "code",
   "execution_count": 20,
   "metadata": {},
   "outputs": [],
   "source": [
    "count = 0\n",
    "for i in list(crossroad.keys()):\n",
    "    count += len(crossroad[i])"
   ]
  },
  {
   "cell_type": "code",
   "execution_count": 21,
   "metadata": {},
   "outputs": [
    {
     "data": {
      "text/plain": [
       "58"
      ]
     },
     "execution_count": 21,
     "metadata": {},
     "output_type": "execute_result"
    }
   ],
   "source": [
    "count"
   ]
  },
  {
   "cell_type": "code",
   "execution_count": 22,
   "metadata": {},
   "outputs": [],
   "source": [
    "crossroad_var = []"
   ]
  },
  {
   "cell_type": "code",
   "execution_count": 24,
   "metadata": {},
   "outputs": [],
   "source": [
    "keys = list(crossroad.keys())"
   ]
  },
  {
   "cell_type": "code",
   "execution_count": 25,
   "metadata": {},
   "outputs": [],
   "source": [
    "for i in keys:\n",
    "    if crossroad[i]:\n",
    "        for j in crossroad[i]:\n",
    "            crossroad_var.append([i ,j])\n",
    "    else:\n",
    "        pass"
   ]
  },
  {
   "cell_type": "code",
   "execution_count": 29,
   "metadata": {},
   "outputs": [
    {
     "name": "stdout",
     "output_type": "stream",
     "text": [
      "0_0\n",
      "0_2\n",
      "1_3\n",
      "2_2\n",
      "4_0\n",
      "4_1\n",
      "3_1\n",
      "3_2\n"
     ]
    }
   ],
   "source": [
    "for i in origin_nodes:\n",
    "    "
   ]
  },
  {
   "cell_type": "code",
   "execution_count": 28,
   "metadata": {},
   "outputs": [
    {
     "data": {
      "text/plain": [
       "[['0_0i', '0_1o'],\n",
       " ['0_0i', '0_2o'],\n",
       " ['0_1i', '0_0o'],\n",
       " ['0_1i', '0_2o'],\n",
       " ['0_1o', 'r1_0_1'],\n",
       " ['0_2i', '0_0o'],\n",
       " ['0_2i', '0_1o'],\n",
       " ['1_0i', '1_1o'],\n",
       " ['1_0i', '1_2o'],\n",
       " ['1_0i', '1_3o'],\n",
       " ['1_0o', 'r1_1_0'],\n",
       " ['1_1i', '1_0o'],\n",
       " ['1_1i', '1_2o'],\n",
       " ['1_1i', '1_3o'],\n",
       " ['1_1o', 'r5_1_4'],\n",
       " ['1_2i', '1_0o'],\n",
       " ['1_2i', '1_1o'],\n",
       " ['1_2i', '1_3o'],\n",
       " ['1_2o', 'r2_1_2'],\n",
       " ['1_3i', '1_0o'],\n",
       " ['1_3i', '1_1o'],\n",
       " ['1_3i', '1_2o'],\n",
       " ['2_0i', '2_1o'],\n",
       " ['2_0i', '2_2o'],\n",
       " ['2_0o', 'r2_2_1'],\n",
       " ['2_1i', '2_0o'],\n",
       " ['2_1i', '2_2o'],\n",
       " ['2_1o', 'r3_2_3'],\n",
       " ['2_2i', '2_0o'],\n",
       " ['2_2i', '2_1o'],\n",
       " ['3_0i', '3_1o'],\n",
       " ['3_0i', '3_2o'],\n",
       " ['3_0i', '3_3o'],\n",
       " ['3_0o', 'r4_3_4'],\n",
       " ['3_1i', '3_0o'],\n",
       " ['3_1i', '3_2o'],\n",
       " ['3_1i', '3_3o'],\n",
       " ['3_2i', '3_0o'],\n",
       " ['3_2i', '3_1o'],\n",
       " ['3_2i', '3_3o'],\n",
       " ['3_3i', '3_0o'],\n",
       " ['3_3i', '3_1o'],\n",
       " ['3_3i', '3_2o'],\n",
       " ['3_3o', 'r3_3_2'],\n",
       " ['4_0i', '4_1o'],\n",
       " ['4_0i', '4_2o'],\n",
       " ['4_0i', '4_3o'],\n",
       " ['4_1i', '4_0o'],\n",
       " ['4_1i', '4_2o'],\n",
       " ['4_1i', '4_3o'],\n",
       " ['4_2i', '4_0o'],\n",
       " ['4_2i', '4_1o'],\n",
       " ['4_2i', '4_3o'],\n",
       " ['4_2o', 'r4_4_3'],\n",
       " ['4_3i', '4_0o'],\n",
       " ['4_3i', '4_1o'],\n",
       " ['4_3i', '4_2o'],\n",
       " ['4_3o', 'r5_4_1']]"
      ]
     },
     "execution_count": 28,
     "metadata": {},
     "output_type": "execute_result"
    }
   ],
   "source": [
    "crossroad_var"
   ]
  },
  {
   "cell_type": "code",
   "execution_count": 30,
   "metadata": {},
   "outputs": [],
   "source": [
    "groups = {}  # 첫번째 원소를 기준으로 그룹을 만들기 위한 딕셔너리\n",
    "for pair in crossroad_var:  # pairs는 주어진 이중 리스트\n",
    "    key = pair[0]  # 첫번째 원소를 기준으로 그룹을 만들어야 하므로, key 변수에 첫번째 원소를 저장\n",
    "    if key not in groups:  # key가 딕셔너리의 키에 없다면 새로운 리스트를 value로 추가\n",
    "        groups[key] = []\n",
    "    groups[key].append(pair)  "
   ]
  },
  {
   "cell_type": "code",
   "execution_count": 31,
   "metadata": {},
   "outputs": [
    {
     "data": {
      "text/plain": [
       "{'0_0i': [['0_0i', '0_1o'], ['0_0i', '0_2o']],\n",
       " '0_1i': [['0_1i', '0_0o'], ['0_1i', '0_2o']],\n",
       " '0_1o': [['0_1o', 'r1_0_1']],\n",
       " '0_2i': [['0_2i', '0_0o'], ['0_2i', '0_1o']],\n",
       " '1_0i': [['1_0i', '1_1o'], ['1_0i', '1_2o'], ['1_0i', '1_3o']],\n",
       " '1_0o': [['1_0o', 'r1_1_0']],\n",
       " '1_1i': [['1_1i', '1_0o'], ['1_1i', '1_2o'], ['1_1i', '1_3o']],\n",
       " '1_1o': [['1_1o', 'r5_1_4']],\n",
       " '1_2i': [['1_2i', '1_0o'], ['1_2i', '1_1o'], ['1_2i', '1_3o']],\n",
       " '1_2o': [['1_2o', 'r2_1_2']],\n",
       " '1_3i': [['1_3i', '1_0o'], ['1_3i', '1_1o'], ['1_3i', '1_2o']],\n",
       " '2_0i': [['2_0i', '2_1o'], ['2_0i', '2_2o']],\n",
       " '2_0o': [['2_0o', 'r2_2_1']],\n",
       " '2_1i': [['2_1i', '2_0o'], ['2_1i', '2_2o']],\n",
       " '2_1o': [['2_1o', 'r3_2_3']],\n",
       " '2_2i': [['2_2i', '2_0o'], ['2_2i', '2_1o']],\n",
       " '3_0i': [['3_0i', '3_1o'], ['3_0i', '3_2o'], ['3_0i', '3_3o']],\n",
       " '3_0o': [['3_0o', 'r4_3_4']],\n",
       " '3_1i': [['3_1i', '3_0o'], ['3_1i', '3_2o'], ['3_1i', '3_3o']],\n",
       " '3_2i': [['3_2i', '3_0o'], ['3_2i', '3_1o'], ['3_2i', '3_3o']],\n",
       " '3_3i': [['3_3i', '3_0o'], ['3_3i', '3_1o'], ['3_3i', '3_2o']],\n",
       " '3_3o': [['3_3o', 'r3_3_2']],\n",
       " '4_0i': [['4_0i', '4_1o'], ['4_0i', '4_2o'], ['4_0i', '4_3o']],\n",
       " '4_1i': [['4_1i', '4_0o'], ['4_1i', '4_2o'], ['4_1i', '4_3o']],\n",
       " '4_2i': [['4_2i', '4_0o'], ['4_2i', '4_1o'], ['4_2i', '4_3o']],\n",
       " '4_2o': [['4_2o', 'r4_4_3']],\n",
       " '4_3i': [['4_3i', '4_0o'], ['4_3i', '4_1o'], ['4_3i', '4_2o']],\n",
       " '4_3o': [['4_3o', 'r5_4_1']]}"
      ]
     },
     "execution_count": 31,
     "metadata": {},
     "output_type": "execute_result"
    }
   ],
   "source": [
    "groups"
   ]
  },
  {
   "cell_type": "code",
   "execution_count": null,
   "metadata": {},
   "outputs": [],
   "source": [
    "for i in crossroad_var:\n",
    "    "
   ]
  },
  {
   "cell_type": "code",
   "execution_count": 27,
   "metadata": {},
   "outputs": [
    {
     "data": {
      "text/plain": [
       "58"
      ]
     },
     "execution_count": 27,
     "metadata": {},
     "output_type": "execute_result"
    }
   ],
   "source": [
    "len(crossroad_var)"
   ]
  },
  {
   "cell_type": "code",
   "execution_count": 14,
   "metadata": {},
   "outputs": [
    {
     "data": {
      "text/plain": [
       "['0_0i', '0_1o', 'r1_0_1', '1_0i', '1_2o', 'r2_1_2', '2_0i', '2_2o']"
      ]
     },
     "execution_count": 14,
     "metadata": {},
     "output_type": "execute_result"
    }
   ],
   "source": [
    "all_shortest_paths[2]"
   ]
  },
  {
   "attachments": {},
   "cell_type": "markdown",
   "metadata": {},
   "source": [
    "최적화 변수 -> 파이썬 코드를 인덱스 기반으로 바꿔야 할듯."
   ]
  },
  {
   "cell_type": "code",
   "execution_count": 16,
   "metadata": {},
   "outputs": [],
   "source": [
    "crossroad_num = len(crossroad.keys())\n",
    "all_shortest_paths_num = len(all_shortest_paths)"
   ]
  },
  {
   "cell_type": "code",
   "execution_count": null,
   "metadata": {},
   "outputs": [],
   "source": [
    "for k in range(crossroad_num):\n",
    "    "
   ]
  }
 ],
 "metadata": {
  "kernelspec": {
   "display_name": "base",
   "language": "python",
   "name": "python3"
  },
  "language_info": {
   "codemirror_mode": {
    "name": "ipython",
    "version": 3
   },
   "file_extension": ".py",
   "mimetype": "text/x-python",
   "name": "python",
   "nbconvert_exporter": "python",
   "pygments_lexer": "ipython3",
   "version": "3.9.13"
  },
  "orig_nbformat": 4
 },
 "nbformat": 4,
 "nbformat_minor": 2
}
