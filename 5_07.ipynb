{
 "cells": [
  {
   "cell_type": "code",
   "execution_count": 1,
   "metadata": {},
   "outputs": [],
   "source": [
    "from optimizer4 import solve\n",
    "from BRL2 import *"
   ]
  },
  {
   "cell_type": "code",
   "execution_count": 2,
   "metadata": {},
   "outputs": [
    {
     "data": {
      "text/plain": [
       "72"
      ]
     },
     "execution_count": 2,
     "metadata": {},
     "output_type": "execute_result"
    }
   ],
   "source": [
    "len(all_shortest_paths)"
   ]
  },
  {
   "cell_type": "code",
   "execution_count": 3,
   "metadata": {},
   "outputs": [],
   "source": [
    "import pandas as pd\n",
    "import numpy as np"
   ]
  },
  {
   "cell_type": "code",
   "execution_count": 4,
   "metadata": {},
   "outputs": [
    {
     "data": {
      "text/html": [
       "<div>\n",
       "<style scoped>\n",
       "    .dataframe tbody tr th:only-of-type {\n",
       "        vertical-align: middle;\n",
       "    }\n",
       "\n",
       "    .dataframe tbody tr th {\n",
       "        vertical-align: top;\n",
       "    }\n",
       "\n",
       "    .dataframe thead th {\n",
       "        text-align: right;\n",
       "    }\n",
       "</style>\n",
       "<table border=\"1\" class=\"dataframe\">\n",
       "  <thead>\n",
       "    <tr style=\"text-align: right;\">\n",
       "      <th></th>\n",
       "      <th>0</th>\n",
       "      <th>1</th>\n",
       "      <th>2</th>\n",
       "      <th>3</th>\n",
       "      <th>4</th>\n",
       "      <th>5</th>\n",
       "      <th>6</th>\n",
       "      <th>7</th>\n",
       "      <th>8</th>\n",
       "      <th>9</th>\n",
       "      <th>10</th>\n",
       "    </tr>\n",
       "  </thead>\n",
       "  <tbody>\n",
       "    <tr>\n",
       "      <th>0</th>\n",
       "      <td>2023-04-24 00시</td>\n",
       "      <td>236</td>\n",
       "      <td>251</td>\n",
       "      <td>253</td>\n",
       "      <td>254</td>\n",
       "      <td>265</td>\n",
       "      <td>279</td>\n",
       "      <td>261</td>\n",
       "      <td>279</td>\n",
       "      <td>140</td>\n",
       "      <td>183</td>\n",
       "    </tr>\n",
       "    <tr>\n",
       "      <th>1</th>\n",
       "      <td>2023-04-24 01시</td>\n",
       "      <td>211</td>\n",
       "      <td>190</td>\n",
       "      <td>164</td>\n",
       "      <td>192</td>\n",
       "      <td>184</td>\n",
       "      <td>241</td>\n",
       "      <td>208</td>\n",
       "      <td>243</td>\n",
       "      <td>126</td>\n",
       "      <td>138</td>\n",
       "    </tr>\n",
       "    <tr>\n",
       "      <th>2</th>\n",
       "      <td>2023-04-24 02시</td>\n",
       "      <td>145</td>\n",
       "      <td>161</td>\n",
       "      <td>115</td>\n",
       "      <td>200</td>\n",
       "      <td>152</td>\n",
       "      <td>184</td>\n",
       "      <td>151</td>\n",
       "      <td>173</td>\n",
       "      <td>83</td>\n",
       "      <td>94</td>\n",
       "    </tr>\n",
       "    <tr>\n",
       "      <th>3</th>\n",
       "      <td>2023-04-24 03시</td>\n",
       "      <td>162</td>\n",
       "      <td>170</td>\n",
       "      <td>105</td>\n",
       "      <td>185</td>\n",
       "      <td>119</td>\n",
       "      <td>152</td>\n",
       "      <td>196</td>\n",
       "      <td>141</td>\n",
       "      <td>59</td>\n",
       "      <td>86</td>\n",
       "    </tr>\n",
       "    <tr>\n",
       "      <th>4</th>\n",
       "      <td>2023-04-24 04시</td>\n",
       "      <td>200</td>\n",
       "      <td>299</td>\n",
       "      <td>151</td>\n",
       "      <td>47</td>\n",
       "      <td>181</td>\n",
       "      <td>289</td>\n",
       "      <td>362</td>\n",
       "      <td>207</td>\n",
       "      <td>135</td>\n",
       "      <td>169</td>\n",
       "    </tr>\n",
       "  </tbody>\n",
       "</table>\n",
       "</div>"
      ],
      "text/plain": [
       "               0    1    2    3    4    5    6    7    8    9    10\n",
       "0  2023-04-24 00시  236  251  253  254  265  279  261  279  140  183\n",
       "1  2023-04-24 01시  211  190  164  192  184  241  208  243  126  138\n",
       "2  2023-04-24 02시  145  161  115  200  152  184  151  173   83   94\n",
       "3  2023-04-24 03시  162  170  105  185  119  152  196  141   59   86\n",
       "4  2023-04-24 04시  200  299  151   47  181  289  362  207  135  169"
      ]
     },
     "execution_count": 4,
     "metadata": {},
     "output_type": "execute_result"
    }
   ],
   "source": [
    "data = pd.read_excel('./data/data.xlsx', index_col=0)\n",
    "data.head()"
   ]
  },
  {
   "cell_type": "code",
   "execution_count": 5,
   "metadata": {},
   "outputs": [
    {
     "data": {
      "text/plain": [
       "array([[ 236,  251,  253, ...,  279,  140,  183],\n",
       "       [ 211,  190,  164, ...,  243,  126,  138],\n",
       "       [ 145,  161,  115, ...,  173,   83,   94],\n",
       "       ...,\n",
       "       [ 845,  799, 1163, ..., 1144,  534,  607],\n",
       "       [ 682,  659,  956, ...,  938,  449,  489],\n",
       "       [ 429,  452,  555, ...,  600,  347,  355]])"
      ]
     },
     "execution_count": 5,
     "metadata": {},
     "output_type": "execute_result"
    }
   ],
   "source": [
    "tests = data.iloc[:,1:].values\n",
    "tests"
   ]
  },
  {
   "cell_type": "code",
   "execution_count": 6,
   "metadata": {},
   "outputs": [],
   "source": [
    "solution = solve(e_T=tests[56])\n",
    "x = np.zeros(66)\n",
    "for i in solution:\n",
    "    x[i] = solution[i]"
   ]
  },
  {
   "cell_type": "code",
   "execution_count": 7,
   "metadata": {},
   "outputs": [
    {
     "data": {
      "text/plain": [
       "array([[ 0.  ,  0.  ,  0.  ,  2.72, 26.02, 47.38, 21.36,  2.52],\n",
       "       [ 0.  ,  0.  ,  1.77,  2.47,  9.36, 41.87, 23.32, 21.2 ],\n",
       "       [ 0.56,  7.55,  0.  ,  6.75, 12.93, 32.13, 25.06, 15.02],\n",
       "       [ 6.66, 13.46, 12.5 ,  0.  ,  8.14,  0.15, 25.67, 33.43],\n",
       "       [54.29, 45.71,  0.  ,  0.  ,  0.  ,  0.  ,  0.  ,  0.  ],\n",
       "       [24.5 , 13.18,  7.33,  4.66, 12.81,  0.  , 21.61, 15.91],\n",
       "       [14.43,  5.57, 10.27, 10.82, 29.29, 22.62,  0.  ,  6.99],\n",
       "       [ 0.  , 25.49,  8.17, 37.74,  7.39, 21.21,  0.  ,  0.  ]])"
      ]
     },
     "execution_count": 7,
     "metadata": {},
     "output_type": "execute_result"
    }
   ],
   "source": [
    "get_ratio_matrix(x)"
   ]
  },
  {
   "cell_type": "code",
   "execution_count": null,
   "metadata": {},
   "outputs": [],
   "source": []
  }
 ],
 "metadata": {
  "kernelspec": {
   "display_name": "base",
   "language": "python",
   "name": "python3"
  },
  "language_info": {
   "codemirror_mode": {
    "name": "ipython",
    "version": 3
   },
   "file_extension": ".py",
   "mimetype": "text/x-python",
   "name": "python",
   "nbconvert_exporter": "python",
   "pygments_lexer": "ipython3",
   "version": "3.9.10"
  },
  "orig_nbformat": 4
 },
 "nbformat": 4,
 "nbformat_minor": 2
}
