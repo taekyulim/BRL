{
 "cells": [
  {
   "cell_type": "code",
   "execution_count": 1,
   "metadata": {},
   "outputs": [],
   "source": [
    "import pandas as pd\n",
    "from BRL import *\n",
    "from optimizer2 import solve"
   ]
  },
  {
   "cell_type": "code",
   "execution_count": 2,
   "metadata": {},
   "outputs": [],
   "source": [
    "data = pd.read_excel('./data/data.xlsx', index_col=0)"
   ]
  },
  {
   "cell_type": "code",
   "execution_count": 3,
   "metadata": {},
   "outputs": [],
   "source": [
    "data.drop(index=56, inplace=True)"
   ]
  },
  {
   "cell_type": "code",
   "execution_count": 4,
   "metadata": {},
   "outputs": [],
   "source": [
    "tests = data.iloc[:,1:].values"
   ]
  },
  {
   "cell_type": "code",
   "execution_count": 5,
   "metadata": {},
   "outputs": [
    {
     "data": {
      "text/plain": [
       "array([[ 236,  251,  253, ...,  279,  140,  183],\n",
       "       [ 211,  190,  164, ...,  243,  126,  138],\n",
       "       [ 145,  161,  115, ...,  173,   83,   94],\n",
       "       ...,\n",
       "       [ 845,  799, 1163, ..., 1144,  534,  607],\n",
       "       [ 682,  659,  956, ...,  938,  449,  489],\n",
       "       [ 429,  452,  555, ...,  600,  347,  355]], dtype=int64)"
      ]
     },
     "execution_count": 5,
     "metadata": {},
     "output_type": "execute_result"
    }
   ],
   "source": [
    "tests"
   ]
  },
  {
   "attachments": {},
   "cell_type": "markdown",
   "metadata": {},
   "source": [
    "{'w2': 607.0, 'w3': 51.0, 'w5': 456.0, 'w6': 8.0, 'w8': 960.0, 'w9': 66.0}"
   ]
  },
  {
   "cell_type": "code",
   "execution_count": 7,
   "metadata": {},
   "outputs": [],
   "source": [
    "import numpy as np\n",
    "input_volumes = []\n",
    "output_volumes = []\n",
    "for test in tests:\n",
    "    solution = solve(e_T=test, w2=607, w3=51, w5=456, w6=8, w8=960, w9=66)\n",
    "    x = np.zeros(66)\n",
    "    if bool(solution):\n",
    "        for i in solution:\n",
    "            x[i] = solution[i]\n",
    "        input_volume = I_matrix@x\n",
    "        output_volume = O_matrix@x\n",
    "        input_volumes.append(input_volume)\n",
    "        output_volumes.append(output_volume)"
   ]
  },
  {
   "cell_type": "code",
   "execution_count": 10,
   "metadata": {},
   "outputs": [],
   "source": [
    "input_df = pd.DataFrame(input_volumes)\n",
    "output_df = pd.DataFrame(output_volumes)\n",
    "input_df.to_excel('./input.xlsx')\n",
    "output_df.to_excel('./output.xlsx')"
   ]
  },
  {
   "cell_type": "code",
   "execution_count": null,
   "metadata": {},
   "outputs": [],
   "source": []
  }
 ],
 "metadata": {
  "kernelspec": {
   "display_name": "base",
   "language": "python",
   "name": "python3"
  },
  "language_info": {
   "codemirror_mode": {
    "name": "ipython",
    "version": 3
   },
   "file_extension": ".py",
   "mimetype": "text/x-python",
   "name": "python",
   "nbconvert_exporter": "python",
   "pygments_lexer": "ipython3",
   "version": "3.9.10"
  },
  "orig_nbformat": 4
 },
 "nbformat": 4,
 "nbformat_minor": 2
}
