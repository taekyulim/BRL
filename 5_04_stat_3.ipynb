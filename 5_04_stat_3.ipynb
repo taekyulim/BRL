{
 "cells": [
  {
   "cell_type": "code",
   "execution_count": 1,
   "metadata": {},
   "outputs": [],
   "source": [
    "import pandas as pd\n",
    "import numpy as np"
   ]
  },
  {
   "cell_type": "code",
   "execution_count": 2,
   "metadata": {},
   "outputs": [
    {
     "data": {
      "text/html": [
       "<div>\n",
       "<style scoped>\n",
       "    .dataframe tbody tr th:only-of-type {\n",
       "        vertical-align: middle;\n",
       "    }\n",
       "\n",
       "    .dataframe tbody tr th {\n",
       "        vertical-align: top;\n",
       "    }\n",
       "\n",
       "    .dataframe thead th {\n",
       "        text-align: right;\n",
       "    }\n",
       "</style>\n",
       "<table border=\"1\" class=\"dataframe\">\n",
       "  <thead>\n",
       "    <tr style=\"text-align: right;\">\n",
       "      <th></th>\n",
       "      <th>0</th>\n",
       "      <th>1</th>\n",
       "      <th>2</th>\n",
       "      <th>3</th>\n",
       "      <th>4</th>\n",
       "      <th>5</th>\n",
       "      <th>6</th>\n",
       "      <th>7</th>\n",
       "      <th>8</th>\n",
       "      <th>9</th>\n",
       "      <th>10</th>\n",
       "    </tr>\n",
       "  </thead>\n",
       "  <tbody>\n",
       "    <tr>\n",
       "      <th>0</th>\n",
       "      <td>2023-04-24 00시</td>\n",
       "      <td>236</td>\n",
       "      <td>251</td>\n",
       "      <td>253</td>\n",
       "      <td>254</td>\n",
       "      <td>265</td>\n",
       "      <td>279</td>\n",
       "      <td>261</td>\n",
       "      <td>279</td>\n",
       "      <td>140</td>\n",
       "      <td>183</td>\n",
       "    </tr>\n",
       "    <tr>\n",
       "      <th>1</th>\n",
       "      <td>2023-04-24 01시</td>\n",
       "      <td>211</td>\n",
       "      <td>190</td>\n",
       "      <td>164</td>\n",
       "      <td>192</td>\n",
       "      <td>184</td>\n",
       "      <td>241</td>\n",
       "      <td>208</td>\n",
       "      <td>243</td>\n",
       "      <td>126</td>\n",
       "      <td>138</td>\n",
       "    </tr>\n",
       "    <tr>\n",
       "      <th>2</th>\n",
       "      <td>2023-04-24 02시</td>\n",
       "      <td>145</td>\n",
       "      <td>161</td>\n",
       "      <td>115</td>\n",
       "      <td>200</td>\n",
       "      <td>152</td>\n",
       "      <td>184</td>\n",
       "      <td>151</td>\n",
       "      <td>173</td>\n",
       "      <td>83</td>\n",
       "      <td>94</td>\n",
       "    </tr>\n",
       "    <tr>\n",
       "      <th>3</th>\n",
       "      <td>2023-04-24 03시</td>\n",
       "      <td>162</td>\n",
       "      <td>170</td>\n",
       "      <td>105</td>\n",
       "      <td>185</td>\n",
       "      <td>119</td>\n",
       "      <td>152</td>\n",
       "      <td>196</td>\n",
       "      <td>141</td>\n",
       "      <td>59</td>\n",
       "      <td>86</td>\n",
       "    </tr>\n",
       "    <tr>\n",
       "      <th>4</th>\n",
       "      <td>2023-04-24 04시</td>\n",
       "      <td>200</td>\n",
       "      <td>299</td>\n",
       "      <td>151</td>\n",
       "      <td>47</td>\n",
       "      <td>181</td>\n",
       "      <td>289</td>\n",
       "      <td>362</td>\n",
       "      <td>207</td>\n",
       "      <td>135</td>\n",
       "      <td>169</td>\n",
       "    </tr>\n",
       "  </tbody>\n",
       "</table>\n",
       "</div>"
      ],
      "text/plain": [
       "               0    1    2    3    4    5    6    7    8    9    10\n",
       "0  2023-04-24 00시  236  251  253  254  265  279  261  279  140  183\n",
       "1  2023-04-24 01시  211  190  164  192  184  241  208  243  126  138\n",
       "2  2023-04-24 02시  145  161  115  200  152  184  151  173   83   94\n",
       "3  2023-04-24 03시  162  170  105  185  119  152  196  141   59   86\n",
       "4  2023-04-24 04시  200  299  151   47  181  289  362  207  135  169"
      ]
     },
     "execution_count": 2,
     "metadata": {},
     "output_type": "execute_result"
    }
   ],
   "source": [
    "data = pd.read_excel('./data/data.xlsx', index_col=0)\n",
    "data.head()"
   ]
  },
  {
   "cell_type": "code",
   "execution_count": 3,
   "metadata": {},
   "outputs": [
    {
     "data": {
      "text/html": [
       "<div>\n",
       "<style scoped>\n",
       "    .dataframe tbody tr th:only-of-type {\n",
       "        vertical-align: middle;\n",
       "    }\n",
       "\n",
       "    .dataframe tbody tr th {\n",
       "        vertical-align: top;\n",
       "    }\n",
       "\n",
       "    .dataframe thead th {\n",
       "        text-align: right;\n",
       "    }\n",
       "</style>\n",
       "<table border=\"1\" class=\"dataframe\">\n",
       "  <thead>\n",
       "    <tr style=\"text-align: right;\">\n",
       "      <th></th>\n",
       "      <th>0_0</th>\n",
       "      <th>0_2</th>\n",
       "      <th>1_3</th>\n",
       "      <th>2_2</th>\n",
       "      <th>3_2</th>\n",
       "      <th>3_1</th>\n",
       "      <th>4_1</th>\n",
       "      <th>4_2</th>\n",
       "    </tr>\n",
       "  </thead>\n",
       "  <tbody>\n",
       "    <tr>\n",
       "      <th>0</th>\n",
       "      <td>295</td>\n",
       "      <td>491</td>\n",
       "      <td>158</td>\n",
       "      <td>254</td>\n",
       "      <td>208</td>\n",
       "      <td>232</td>\n",
       "      <td>300</td>\n",
       "      <td>252</td>\n",
       "    </tr>\n",
       "    <tr>\n",
       "      <th>1</th>\n",
       "      <td>216</td>\n",
       "      <td>437</td>\n",
       "      <td>103</td>\n",
       "      <td>226</td>\n",
       "      <td>189</td>\n",
       "      <td>141</td>\n",
       "      <td>185</td>\n",
       "      <td>220</td>\n",
       "    </tr>\n",
       "    <tr>\n",
       "      <th>2</th>\n",
       "      <td>195</td>\n",
       "      <td>314</td>\n",
       "      <td>93</td>\n",
       "      <td>197</td>\n",
       "      <td>147</td>\n",
       "      <td>128</td>\n",
       "      <td>187</td>\n",
       "      <td>147</td>\n",
       "    </tr>\n",
       "    <tr>\n",
       "      <th>3</th>\n",
       "      <td>205</td>\n",
       "      <td>352</td>\n",
       "      <td>68</td>\n",
       "      <td>256</td>\n",
       "      <td>204</td>\n",
       "      <td>119</td>\n",
       "      <td>258</td>\n",
       "      <td>143</td>\n",
       "    </tr>\n",
       "    <tr>\n",
       "      <th>4</th>\n",
       "      <td>482</td>\n",
       "      <td>520</td>\n",
       "      <td>161</td>\n",
       "      <td>438</td>\n",
       "      <td>313</td>\n",
       "      <td>335</td>\n",
       "      <td>747</td>\n",
       "      <td>205</td>\n",
       "    </tr>\n",
       "    <tr>\n",
       "      <th>...</th>\n",
       "      <td>...</td>\n",
       "      <td>...</td>\n",
       "      <td>...</td>\n",
       "      <td>...</td>\n",
       "      <td>...</td>\n",
       "      <td>...</td>\n",
       "      <td>...</td>\n",
       "      <td>...</td>\n",
       "    </tr>\n",
       "    <tr>\n",
       "      <th>115</th>\n",
       "      <td>1435</td>\n",
       "      <td>2103</td>\n",
       "      <td>738</td>\n",
       "      <td>1313</td>\n",
       "      <td>1133</td>\n",
       "      <td>1080</td>\n",
       "      <td>1249</td>\n",
       "      <td>1479</td>\n",
       "    </tr>\n",
       "    <tr>\n",
       "      <th>116</th>\n",
       "      <td>1129</td>\n",
       "      <td>1850</td>\n",
       "      <td>673</td>\n",
       "      <td>1168</td>\n",
       "      <td>897</td>\n",
       "      <td>857</td>\n",
       "      <td>1096</td>\n",
       "      <td>1256</td>\n",
       "    </tr>\n",
       "    <tr>\n",
       "      <th>117</th>\n",
       "      <td>989</td>\n",
       "      <td>1627</td>\n",
       "      <td>527</td>\n",
       "      <td>1051</td>\n",
       "      <td>750</td>\n",
       "      <td>830</td>\n",
       "      <td>893</td>\n",
       "      <td>1033</td>\n",
       "    </tr>\n",
       "    <tr>\n",
       "      <th>118</th>\n",
       "      <td>875</td>\n",
       "      <td>1407</td>\n",
       "      <td>438</td>\n",
       "      <td>843</td>\n",
       "      <td>628</td>\n",
       "      <td>628</td>\n",
       "      <td>775</td>\n",
       "      <td>818</td>\n",
       "    </tr>\n",
       "    <tr>\n",
       "      <th>119</th>\n",
       "      <td>604</td>\n",
       "      <td>1002</td>\n",
       "      <td>306</td>\n",
       "      <td>526</td>\n",
       "      <td>419</td>\n",
       "      <td>382</td>\n",
       "      <td>549</td>\n",
       "      <td>572</td>\n",
       "    </tr>\n",
       "  </tbody>\n",
       "</table>\n",
       "<p>120 rows × 8 columns</p>\n",
       "</div>"
      ],
      "text/plain": [
       "      0_0   0_2  1_3   2_2   3_2   3_1   4_1   4_2\n",
       "0     295   491  158   254   208   232   300   252\n",
       "1     216   437  103   226   189   141   185   220\n",
       "2     195   314   93   197   147   128   187   147\n",
       "3     205   352   68   256   204   119   258   143\n",
       "4     482   520  161   438   313   335   747   205\n",
       "..    ...   ...  ...   ...   ...   ...   ...   ...\n",
       "115  1435  2103  738  1313  1133  1080  1249  1479\n",
       "116  1129  1850  673  1168   897   857  1096  1256\n",
       "117   989  1627  527  1051   750   830   893  1033\n",
       "118   875  1407  438   843   628   628   775   818\n",
       "119   604  1002  306   526   419   382   549   572\n",
       "\n",
       "[120 rows x 8 columns]"
      ]
     },
     "execution_count": 3,
     "metadata": {},
     "output_type": "execute_result"
    }
   ],
   "source": [
    "input_volumes = pd.read_excel('./data/input_volume.xlsx', index_col=0)\n",
    "input_volumes"
   ]
  },
  {
   "cell_type": "code",
   "execution_count": 4,
   "metadata": {},
   "outputs": [
    {
     "data": {
      "text/plain": [
       "array([1005, 1553, 1180, 1682, 1911, 1424, 1628, 1494, 1084, 1454],\n",
       "      dtype=object)"
      ]
     },
     "execution_count": 4,
     "metadata": {},
     "output_type": "execute_result"
    }
   ],
   "source": [
    "train_eT = np.array(data.iloc[56,1:].values)\n",
    "train_eT"
   ]
  },
  {
   "cell_type": "code",
   "execution_count": 5,
   "metadata": {},
   "outputs": [
    {
     "data": {
      "text/plain": [
       "array([1549, 2560, 1157, 2065, 1801, 1514, 1842, 1211], dtype=int64)"
      ]
     },
     "execution_count": 5,
     "metadata": {},
     "output_type": "execute_result"
    }
   ],
   "source": [
    "train_input = input_volumes.iloc[56,:].values\n",
    "train_input"
   ]
  },
  {
   "cell_type": "code",
   "execution_count": 6,
   "metadata": {},
   "outputs": [],
   "source": [
    "from BRL import p_matrix, I_matrix\n",
    "from optimizer4 import solve"
   ]
  },
  {
   "cell_type": "code",
   "execution_count": 8,
   "metadata": {},
   "outputs": [
    {
     "data": {
      "text/plain": [
       "{8: 30,\n",
       " 9: 5,\n",
       " 10: 85,\n",
       " 11: 86,\n",
       " 12: 136,\n",
       " 13: 280,\n",
       " 14: 136,\n",
       " 15: 249,\n",
       " 17: 82,\n",
       " 19: 76,\n",
       " 20: 217,\n",
       " 21: 414,\n",
       " 22: 244,\n",
       " 23: 239,\n",
       " 24: 317,\n",
       " 26: 8,\n",
       " 28: 27,\n",
       " 29: 280,\n",
       " 30: 27,\n",
       " 31: 251,\n",
       " 32: 145,\n",
       " 33: 148,\n",
       " 35: 58,\n",
       " 36: 64,\n",
       " 38: 15,\n",
       " 39: 136,\n",
       " 40: 137,\n",
       " 42: 59,\n",
       " 43: 84,\n",
       " 45: 62,\n",
       " 46: 137,\n",
       " 47: 137,\n",
       " 49: 54,\n",
       " 50: 237,\n",
       " 51: 404,\n",
       " 52: 171,\n",
       " 53: 293,\n",
       " 55: 78,\n",
       " 56: 75,\n",
       " 58: 54,\n",
       " 59: 186,\n",
       " 60: 405,\n",
       " 61: 140,\n",
       " 62: 293,\n",
       " 64: 132,\n",
       " 65: 69}"
      ]
     },
     "execution_count": 8,
     "metadata": {},
     "output_type": "execute_result"
    }
   ],
   "source": [
    "solution = solve(e_T=train_eT)\n",
    "solution"
   ]
  },
  {
   "cell_type": "code",
   "execution_count": 9,
   "metadata": {},
   "outputs": [
    {
     "name": "stdout",
     "output_type": "stream",
     "text": [
      "[1007. 1547. 1172. 1565. 1914. 1503. 1619. 1472. 1076. 1443.]\n",
      "[1005 1553 1180 1682 1911 1424 1628 1494 1084 1454]\n"
     ]
    }
   ],
   "source": [
    "x = np.zeros(66)\n",
    "for i in solution:\n",
    "    x[i] = solution[i]\n",
    "print(p_matrix@x)\n",
    "print(train_eT)"
   ]
  },
  {
   "cell_type": "code",
   "execution_count": 11,
   "metadata": {},
   "outputs": [
    {
     "name": "stdout",
     "output_type": "stream",
     "text": [
      "100%|██████████| 10/10 [01:41<00:00, 10.15s/trial, best loss: 29.120439557122072]\n",
      "100%|██████████| 10/10 [01:41<00:00, 10.15s/trial, best loss: 60.29925372672534]\n",
      "100%|██████████| 10/10 [01:41<00:00, 10.15s/trial, best loss: 41.36423575989287]\n",
      "100%|██████████| 10/10 [01:41<00:00, 10.16s/trial, best loss: 39.59797974644666]\n",
      "100%|██████████| 10/10 [01:41<00:00, 10.15s/trial, best loss: 50.84289527554464]\n",
      "100%|██████████| 10/10 [01:41<00:00, 10.16s/trial, best loss: 44.86646854834911]\n",
      "100%|██████████| 10/10 [01:41<00:00, 10.15s/trial, best loss: 53.68426212587819]\n",
      "100%|██████████| 10/10 [01:41<00:00, 10.15s/trial, best loss: 33.555923471125034]\n",
      "100%|██████████| 10/10 [01:41<00:00, 10.15s/trial, best loss: 50.21951811795888]\n",
      "100%|██████████| 10/10 [01:41<00:00, 10.15s/trial, best loss: 40.049968789001575]\n",
      "100%|██████████| 10/10 [01:41<00:00, 10.15s/trial, best loss: 36.89173349139343]\n",
      "100%|██████████| 10/10 [01:41<00:00, 10.16s/trial, best loss: 43.116122274620196]\n",
      "100%|██████████| 10/10 [01:41<00:00, 10.15s/trial, best loss: 38.61346915261564]\n",
      "100%|██████████| 10/10 [01:41<00:00, 10.15s/trial, best loss: 36.89173349139343]\n",
      "100%|██████████| 10/10 [01:41<00:00, 10.15s/trial, best loss: 48.41487374764082]\n",
      "100%|██████████| 10/10 [01:41<00:00, 10.15s/trial, best loss: 33.94112549695428]\n",
      "100%|██████████| 10/10 [01:41<00:00, 10.15s/trial, best loss: 36.193922141707716]\n",
      "100%|██████████| 10/10 [01:41<00:00, 10.15s/trial, best loss: 40.69397989875161]\n",
      "100%|██████████| 10/10 [01:41<00:00, 10.16s/trial, best loss: 45.83666654546336]\n",
      "100%|██████████| 10/10 [01:41<00:00, 10.15s/trial, best loss: 35.0]            \n",
      "100%|██████████| 10/10 [01:41<00:00, 10.15s/trial, best loss: 30.708305065568176]\n",
      "100%|██████████| 10/10 [01:41<00:00, 10.15s/trial, best loss: 44.034077712607996]\n",
      "100%|██████████| 10/10 [01:41<00:00, 10.16s/trial, best loss: 31.22498999199199]\n",
      "100%|██████████| 10/10 [01:41<00:00, 10.16s/trial, best loss: 37.54996671103717]\n",
      "100%|██████████| 10/10 [01:41<00:00, 10.15s/trial, best loss: 39.03844259188627]\n",
      "100%|██████████| 10/10 [01:41<00:00, 10.15s/trial, best loss: 30.380915061926625]\n",
      "100%|██████████| 10/10 [01:41<00:00, 10.15s/trial, best loss: 34.351128074635334]\n",
      "100%|██████████| 10/10 [01:41<00:00, 10.16s/trial, best loss: 88.83692925805124]\n",
      "100%|██████████| 10/10 [01:41<00:00, 10.15s/trial, best loss: 35.298725189445584]\n",
      "100%|██████████| 10/10 [01:41<00:00, 10.15s/trial, best loss: 31.04834939252005]\n",
      "100%|██████████| 10/10 [01:41<00:00, 10.15s/trial, best loss: 46.10856753359401]\n",
      "100%|██████████| 10/10 [01:41<00:00, 10.15s/trial, best loss: 24.310491562286437]\n",
      "100%|██████████| 10/10 [01:41<00:00, 10.15s/trial, best loss: 47.49736834815167]\n",
      "100%|██████████| 10/10 [01:41<00:00, 10.15s/trial, best loss: 35.369478367654786]\n",
      "100%|██████████| 10/10 [01:41<00:00, 10.15s/trial, best loss: 57.52390807307862]\n",
      "100%|██████████| 10/10 [01:41<00:00, 10.15s/trial, best loss: 32.155870381627054]\n",
      "100%|██████████| 10/10 [01:41<00:00, 10.15s/trial, best loss: 31.54362059117501]\n",
      "100%|██████████| 10/10 [01:41<00:00, 10.15s/trial, best loss: 31.906112267087632]\n",
      "100%|██████████| 10/10 [01:41<00:00, 10.15s/trial, best loss: 36.61966684720111]\n",
      "100%|██████████| 10/10 [01:41<00:00, 10.15s/trial, best loss: 32.55764119219941]\n",
      "100%|██████████| 10/10 [01:41<00:00, 10.16s/trial, best loss: 34.52535300326414]\n",
      "100%|██████████| 10/10 [01:41<00:00, 10.15s/trial, best loss: 28.053520278211074]\n",
      "100%|██████████| 10/10 [01:41<00:00, 10.15s/trial, best loss: 32.31098884280702]\n",
      "100%|██████████| 10/10 [01:41<00:00, 10.15s/trial, best loss: 29.49576240750525]\n",
      "100%|██████████| 10/10 [01:41<00:00, 10.15s/trial, best loss: 33.76388603226827]\n",
      "100%|██████████| 10/10 [01:41<00:00, 10.16s/trial, best loss: 41.2189276910499] \n",
      "100%|██████████| 10/10 [01:41<00:00, 10.16s/trial, best loss: 33.66006535941367]\n",
      "100%|██████████| 10/10 [01:41<00:00, 10.16s/trial, best loss: 29.5296461204668]\n",
      "100%|██████████| 10/10 [01:41<00:00, 10.16s/trial, best loss: 45.93473631142341]\n",
      "100%|██████████| 10/10 [01:41<00:00, 10.15s/trial, best loss: 36.9729630946723]\n"
     ]
    }
   ],
   "source": [
    "from hyperopt import hp, fmin, tpe, Trials\n",
    "def objective(args):\n",
    "    w2, w3, w5, w6, w8, w9 = args\n",
    "    solution = solve(e_T=train_eT, w2=int(w2), w3=int(w3), w5=int(w5), w6=int(w6), w8=int(w8), w9=int(w9))\n",
    "    if bool(solution): # 해가 존재\n",
    "        x = np.zeros(66)\n",
    "        for i in solution:\n",
    "            x[i] = solution[i]\n",
    "        e = p_matrix @ x\n",
    "        diff = np.linalg.norm(train_eT - e)\n",
    "        return diff\n",
    "    else: # 해가 존재하지 않음\n",
    "        return np.Inf\n",
    "\n",
    "space = [\n",
    "    hp.quniform('w2', 1, 999, 1),\n",
    "    hp.quniform('w3', 1, 999, 1),\n",
    "    hp.quniform('w5', 1, 999, 1),\n",
    "    hp.quniform('w6', 1, 999, 1),\n",
    "    hp.quniform('w8', 1, 999, 1),\n",
    "    hp.quniform('w9', 1, 999, 1),\n",
    "]\n",
    "\n",
    "results = []\n",
    "for i in range(50):\n",
    "    try:\n",
    "        trials = Trials()\n",
    "        result = fmin(\n",
    "            fn=objective,\n",
    "            space=space,\n",
    "            algo=tpe.suggest,\n",
    "            max_evals=10\n",
    "        )\n",
    "        \n",
    "        results.append(result)\n",
    "    except Exception as e:\n",
    "        print(f\"Iteration {i}: 에러가 발생했습니다. 다음 반복으로 이동합니다. 오류 내용: {e}\")"
   ]
  },
  {
   "cell_type": "code",
   "execution_count": 12,
   "metadata": {},
   "outputs": [
    {
     "data": {
      "text/plain": [
       "[{'w2': 675.0, 'w3': 52.0, 'w5': 24.0, 'w6': 127.0, 'w8': 932.0, 'w9': 610.0},\n",
       " {'w2': 590.0, 'w3': 638.0, 'w5': 19.0, 'w6': 714.0, 'w8': 710.0, 'w9': 769.0},\n",
       " {'w2': 398.0,\n",
       "  'w3': 752.0,\n",
       "  'w5': 847.0,\n",
       "  'w6': 277.0,\n",
       "  'w8': 155.0,\n",
       "  'w9': 993.0},\n",
       " {'w2': 646.0, 'w3': 77.0, 'w5': 268.0, 'w6': 406.0, 'w8': 554.0, 'w9': 888.0},\n",
       " {'w2': 691.0, 'w3': 422.0, 'w5': 643.0, 'w6': 18.0, 'w8': 606.0, 'w9': 372.0},\n",
       " {'w2': 889.0,\n",
       "  'w3': 600.0,\n",
       "  'w5': 733.0,\n",
       "  'w6': 445.0,\n",
       "  'w8': 804.0,\n",
       "  'w9': 188.0},\n",
       " {'w2': 382.0, 'w3': 471.0, 'w5': 409.0, 'w6': 260.0, 'w8': 65.0, 'w9': 297.0},\n",
       " {'w2': 696.0, 'w3': 93.0, 'w5': 752.0, 'w6': 56.0, 'w8': 852.0, 'w9': 512.0},\n",
       " {'w2': 957.0,\n",
       "  'w3': 301.0,\n",
       "  'w5': 820.0,\n",
       "  'w6': 461.0,\n",
       "  'w8': 756.0,\n",
       "  'w9': 445.0},\n",
       " {'w2': 699.0, 'w3': 367.0, 'w5': 202.0, 'w6': 475.0, 'w8': 732.0, 'w9': 78.0},\n",
       " {'w2': 357.0,\n",
       "  'w3': 756.0,\n",
       "  'w5': 398.0,\n",
       "  'w6': 132.0,\n",
       "  'w8': 307.0,\n",
       "  'w9': 955.0},\n",
       " {'w2': 256.0,\n",
       "  'w3': 724.0,\n",
       "  'w5': 861.0,\n",
       "  'w6': 519.0,\n",
       "  'w8': 971.0,\n",
       "  'w9': 394.0},\n",
       " {'w2': 513.0, 'w3': 264.0, 'w5': 118.0, 'w6': 959.0, 'w8': 61.0, 'w9': 204.0},\n",
       " {'w2': 761.0, 'w3': 602.0, 'w5': 71.0, 'w6': 674.0, 'w8': 67.0, 'w9': 867.0},\n",
       " {'w2': 777.0, 'w3': 33.0, 'w5': 652.0, 'w6': 365.0, 'w8': 642.0, 'w9': 646.0},\n",
       " {'w2': 480.0, 'w3': 177.0, 'w5': 874.0, 'w6': 103.0, 'w8': 79.0, 'w9': 942.0},\n",
       " {'w2': 570.0,\n",
       "  'w3': 559.0,\n",
       "  'w5': 296.0,\n",
       "  'w6': 663.0,\n",
       "  'w8': 631.0,\n",
       "  'w9': 392.0},\n",
       " {'w2': 592.0, 'w3': 448.0, 'w5': 63.0, 'w6': 856.0, 'w8': 858.0, 'w9': 122.0},\n",
       " {'w2': 711.0,\n",
       "  'w3': 404.0,\n",
       "  'w5': 100.0,\n",
       "  'w6': 294.0,\n",
       "  'w8': 235.0,\n",
       "  'w9': 107.0},\n",
       " {'w2': 720.0,\n",
       "  'w3': 299.0,\n",
       "  'w5': 763.0,\n",
       "  'w6': 816.0,\n",
       "  'w8': 416.0,\n",
       "  'w9': 451.0},\n",
       " {'w2': 596.0, 'w3': 92.0, 'w5': 694.0, 'w6': 913.0, 'w8': 238.0, 'w9': 379.0},\n",
       " {'w2': 536.0,\n",
       "  'w3': 532.0,\n",
       "  'w5': 364.0,\n",
       "  'w6': 730.0,\n",
       "  'w8': 840.0,\n",
       "  'w9': 239.0},\n",
       " {'w2': 984.0,\n",
       "  'w3': 404.0,\n",
       "  'w5': 576.0,\n",
       "  'w6': 607.0,\n",
       "  'w8': 262.0,\n",
       "  'w9': 499.0},\n",
       " {'w2': 921.0,\n",
       "  'w3': 329.0,\n",
       "  'w5': 282.0,\n",
       "  'w6': 495.0,\n",
       "  'w8': 713.0,\n",
       "  'w9': 376.0},\n",
       " {'w2': 607.0, 'w3': 67.0, 'w5': 811.0, 'w6': 797.0, 'w8': 752.0, 'w9': 743.0},\n",
       " {'w2': 693.0, 'w3': 4.0, 'w5': 807.0, 'w6': 569.0, 'w8': 870.0, 'w9': 348.0},\n",
       " {'w2': 626.0,\n",
       "  'w3': 231.0,\n",
       "  'w5': 650.0,\n",
       "  'w6': 934.0,\n",
       "  'w8': 802.0,\n",
       "  'w9': 513.0},\n",
       " {'w2': 610.0,\n",
       "  'w3': 316.0,\n",
       "  'w5': 282.0,\n",
       "  'w6': 477.0,\n",
       "  'w8': 666.0,\n",
       "  'w9': 280.0},\n",
       " {'w2': 470.0, 'w3': 499.0, 'w5': 458.0, 'w6': 121.0, 'w8': 71.0, 'w9': 657.0},\n",
       " {'w2': 922.0,\n",
       "  'w3': 583.0,\n",
       "  'w5': 736.0,\n",
       "  'w6': 251.0,\n",
       "  'w8': 165.0,\n",
       "  'w9': 839.0},\n",
       " {'w2': 732.0,\n",
       "  'w3': 520.0,\n",
       "  'w5': 353.0,\n",
       "  'w6': 541.0,\n",
       "  'w8': 245.0,\n",
       "  'w9': 567.0},\n",
       " {'w2': 927.0,\n",
       "  'w3': 205.0,\n",
       "  'w5': 470.0,\n",
       "  'w6': 457.0,\n",
       "  'w8': 659.0,\n",
       "  'w9': 866.0},\n",
       " {'w2': 544.0, 'w3': 64.0, 'w5': 986.0, 'w6': 933.0, 'w8': 956.0, 'w9': 433.0},\n",
       " {'w2': 506.0,\n",
       "  'w3': 388.0,\n",
       "  'w5': 393.0,\n",
       "  'w6': 264.0,\n",
       "  'w8': 436.0,\n",
       "  'w9': 127.0},\n",
       " {'w2': 443.0,\n",
       "  'w3': 269.0,\n",
       "  'w5': 779.0,\n",
       "  'w6': 821.0,\n",
       "  'w8': 964.0,\n",
       "  'w9': 377.0},\n",
       " {'w2': 630.0,\n",
       "  'w3': 455.0,\n",
       "  'w5': 705.0,\n",
       "  'w6': 166.0,\n",
       "  'w8': 272.0,\n",
       "  'w9': 651.0},\n",
       " {'w2': 734.0,\n",
       "  'w3': 357.0,\n",
       "  'w5': 126.0,\n",
       "  'w6': 494.0,\n",
       "  'w8': 691.0,\n",
       "  'w9': 550.0},\n",
       " {'w2': 616.0,\n",
       "  'w3': 443.0,\n",
       "  'w5': 833.0,\n",
       "  'w6': 781.0,\n",
       "  'w8': 197.0,\n",
       "  'w9': 739.0},\n",
       " {'w2': 619.0, 'w3': 24.0, 'w5': 625.0, 'w6': 25.0, 'w8': 887.0, 'w9': 922.0},\n",
       " {'w2': 696.0, 'w3': 28.0, 'w5': 598.0, 'w6': 863.0, 'w8': 729.0, 'w9': 442.0},\n",
       " {'w2': 785.0,\n",
       "  'w3': 118.0,\n",
       "  'w5': 751.0,\n",
       "  'w6': 496.0,\n",
       "  'w8': 571.0,\n",
       "  'w9': 788.0},\n",
       " {'w2': 420.0,\n",
       "  'w3': 583.0,\n",
       "  'w5': 439.0,\n",
       "  'w6': 952.0,\n",
       "  'w8': 532.0,\n",
       "  'w9': 107.0},\n",
       " {'w2': 575.0,\n",
       "  'w3': 615.0,\n",
       "  'w5': 812.0,\n",
       "  'w6': 850.0,\n",
       "  'w8': 747.0,\n",
       "  'w9': 179.0},\n",
       " {'w2': 478.0, 'w3': 387.0, 'w5': 639.0, 'w6': 421.0, 'w8': 477.0, 'w9': 22.0},\n",
       " {'w2': 368.0, 'w3': 31.0, 'w5': 209.0, 'w6': 79.0, 'w8': 109.0, 'w9': 607.0},\n",
       " {'w2': 696.0, 'w3': 379.0, 'w5': 232.0, 'w6': 431.0, 'w8': 904.0, 'w9': 87.0},\n",
       " {'w2': 841.0, 'w3': 159.0, 'w5': 832.0, 'w6': 33.0, 'w8': 128.0, 'w9': 960.0},\n",
       " {'w2': 366.0, 'w3': 13.0, 'w5': 818.0, 'w6': 504.0, 'w8': 634.0, 'w9': 241.0},\n",
       " {'w2': 666.0, 'w3': 417.0, 'w5': 629.0, 'w6': 41.0, 'w8': 132.0, 'w9': 351.0},\n",
       " {'w2': 672.0, 'w3': 78.0, 'w5': 451.0, 'w6': 935.0, 'w8': 878.0, 'w9': 797.0}]"
      ]
     },
     "execution_count": 12,
     "metadata": {},
     "output_type": "execute_result"
    }
   ],
   "source": [
    "results"
   ]
  },
  {
   "cell_type": "code",
   "execution_count": 14,
   "metadata": {},
   "outputs": [],
   "source": [
    "errors = []\n",
    "for result in results:\n",
    "    solution = solve(e_T=train_eT, w2=int(result['w2']), w3=int(result['w3']), w5=int(result['w5']),\\\n",
    "        w6=int(result['w6']), w8=int(result['w8']), w9=int(result['w9']))\n",
    "    x = np.zeros(66)\n",
    "    for i in solution:\n",
    "        x[i] = solution[i]\n",
    "    e = p_matrix @ x\n",
    "    errors.append(np.linalg.norm(train_eT - e))"
   ]
  },
  {
   "cell_type": "code",
   "execution_count": 16,
   "metadata": {},
   "outputs": [
    {
     "data": {
      "text/plain": [
       "[46.8081189538738,\n",
       " 50.28916384272063,\n",
       " 49.26459174701441,\n",
       " 61.48170459575759,\n",
       " 93.04300081145277,\n",
       " 35.76310948449533,\n",
       " 59.64059020499378,\n",
       " 68.45436436049933,\n",
       " 48.507731342539614,\n",
       " 55.00909015790027,\n",
       " 50.90186637049765,\n",
       " 70.0,\n",
       " 49.39635614091387,\n",
       " 65.77993615077473,\n",
       " 63.80438856379708,\n",
       " 48.41487374764082,\n",
       " 44.35087372307337,\n",
       " 46.0,\n",
       " 98.8736567544662,\n",
       " 181.96153439669604,\n",
       " 32.92415526630866,\n",
       " 63.047601064592456,\n",
       " 34.249087579087416,\n",
       " 82.68010643437755,\n",
       " 98.75221516502808,\n",
       " 63.4428877022476,\n",
       " 51.76871642217914,\n",
       " 35.45419580247167,\n",
       " 55.02726596879042,\n",
       " 98.85342685005918,\n",
       " 82.83115355951527,\n",
       " 43.347433603386484,\n",
       " 113.85956261992227,\n",
       " 50.60632371551998,\n",
       " 97.70363350459388,\n",
       " 63.50590523722971,\n",
       " 66.9552089086428,\n",
       " 51.38093031466052,\n",
       " 70.37755323965163,\n",
       " 79.5989949685296,\n",
       " 53.150729063673246,\n",
       " 40.80441152620633,\n",
       " 67.56478372643548,\n",
       " 36.24913792078372,\n",
       " 69.18814927427962,\n",
       " 74.48489779814429,\n",
       " 44.22668877499196,\n",
       " 33.896902513356586,\n",
       " 34.48187929913333,\n",
       " 50.57667446560717]"
      ]
     },
     "execution_count": 16,
     "metadata": {},
     "output_type": "execute_result"
    }
   ],
   "source": [
    "errors"
   ]
  },
  {
   "cell_type": "code",
   "execution_count": 19,
   "metadata": {},
   "outputs": [],
   "source": [
    "import pickle\n",
    "with open('errors.pickle', 'wb') as f:\n",
    "    pickle.dump(errors, f)"
   ]
  },
  {
   "cell_type": "code",
   "execution_count": 24,
   "metadata": {},
   "outputs": [
    {
     "name": "stdout",
     "output_type": "stream",
     "text": [
      "Error : 187.74450724322136, Parameter : {'lambda2': 0, 'w2': 650.0, 'w3': 727.0, 'w5': 852.0, 'w6': 810.0, 'w8': 703.0, 'w9': 568.0}\n",
      "Error : 197.06344156134085, Parameter : {'lambda2': 0, 'w2': 218.0, 'w3': 812.0, 'w5': 399.0, 'w6': 929.0, 'w8': 507.0, 'w9': 692.0}\n",
      "Error : 171.37969541342989, Parameter : {'lambda2': 0, 'w2': 463.0, 'w3': 930.0, 'w5': 868.0, 'w6': 144.0, 'w8': 646.0, 'w9': 571.0}\n",
      "Error : 182.2333668678708, Parameter : {'lambda2': 0, 'w2': 319.0, 'w3': 754.0, 'w5': 664.0, 'w6': 863.0, 'w8': 927.0, 'w9': 632.0}\n",
      "Error : 171.9447585708852, Parameter : {'lambda2': 0, 'w2': 328.0, 'w3': 895.0, 'w5': 491.0, 'w6': 261.0, 'w8': 58.0, 'w9': 399.0}\n"
     ]
    }
   ],
   "source": [
    "outliers = [i for i in errors if i > 160]\n",
    "for outlier in outliers:\n",
    "    print(f\"Error : {outlier}, Parameter : {results[errors.index(outlier)]}\")"
   ]
  },
  {
   "cell_type": "code",
   "execution_count": 17,
   "metadata": {},
   "outputs": [
    {
     "data": {
      "text/plain": [
       "20"
      ]
     },
     "execution_count": 17,
     "metadata": {},
     "output_type": "execute_result"
    }
   ],
   "source": [
    "errors.index(min(errors))"
   ]
  },
  {
   "cell_type": "code",
   "execution_count": 18,
   "metadata": {},
   "outputs": [
    {
     "name": "stdout",
     "output_type": "stream",
     "text": [
      "32.92415526630866 {'w2': 596.0, 'w3': 92.0, 'w5': 694.0, 'w6': 913.0, 'w8': 238.0, 'w9': 379.0}\n"
     ]
    }
   ],
   "source": [
    "print(errors[errors.index(min(errors))], results[errors.index(min(errors))])"
   ]
  },
  {
   "cell_type": "code",
   "execution_count": 19,
   "metadata": {},
   "outputs": [
    {
     "data": {
      "image/png": "[encoded data removed]",
      "text/plain": [
       "<Figure size 640x480 with 1 Axes>"
      ]
     },
     "metadata": {},
     "output_type": "display_data"
    }
   ],
   "source": [
    "import matplotlib.pyplot as plt\n",
    "import seaborn as sns\n",
    "\n",
    "sns.kdeplot(errors)\n",
    "plt.show()"
   ]
  },
  {
   "cell_type": "code",
   "execution_count": 20,
   "metadata": {},
   "outputs": [
    {
     "ename": "TypeError",
     "evalue": "solve() got an unexpected keyword argument 'lambda2'",
     "output_type": "error",
     "traceback": [
      "\u001b[1;31m---------------------------------------------------------------------------\u001b[0m",
      "\u001b[1;31mTypeError\u001b[0m                                 Traceback (most recent call last)",
      "\u001b[1;32m~\\AppData\\Local\\Temp\\ipykernel_27428\\4060963422.py\u001b[0m in \u001b[0;36m<module>\u001b[1;34m\u001b[0m\n\u001b[1;32m----> 1\u001b[1;33m \u001b[0msolution\u001b[0m \u001b[1;33m=\u001b[0m \u001b[0msolve\u001b[0m\u001b[1;33m(\u001b[0m\u001b[0me_T\u001b[0m\u001b[1;33m=\u001b[0m\u001b[0mtrain_eT\u001b[0m\u001b[1;33m,\u001b[0m \u001b[0mw2\u001b[0m\u001b[1;33m=\u001b[0m\u001b[1;36m824\u001b[0m\u001b[1;33m,\u001b[0m \u001b[0mw3\u001b[0m\u001b[1;33m=\u001b[0m\u001b[1;36m159\u001b[0m\u001b[1;33m,\u001b[0m \u001b[0mw5\u001b[0m\u001b[1;33m=\u001b[0m\u001b[1;36m362\u001b[0m\u001b[1;33m,\u001b[0m \u001b[0mw6\u001b[0m\u001b[1;33m=\u001b[0m\u001b[1;36m95\u001b[0m\u001b[1;33m,\u001b[0m \u001b[0mw8\u001b[0m\u001b[1;33m=\u001b[0m\u001b[1;36m364\u001b[0m\u001b[1;33m,\u001b[0m \u001b[0mw9\u001b[0m\u001b[1;33m=\u001b[0m\u001b[1;36m63\u001b[0m\u001b[1;33m,\u001b[0m \u001b[0mlambda2\u001b[0m\u001b[1;33m=\u001b[0m\u001b[1;36m1\u001b[0m\u001b[1;33m)\u001b[0m\u001b[1;33m\u001b[0m\u001b[1;33m\u001b[0m\u001b[0m\n\u001b[0m\u001b[0;32m      2\u001b[0m \u001b[0mx\u001b[0m \u001b[1;33m=\u001b[0m \u001b[0mnp\u001b[0m\u001b[1;33m.\u001b[0m\u001b[0mzeros\u001b[0m\u001b[1;33m(\u001b[0m\u001b[1;36m66\u001b[0m\u001b[1;33m)\u001b[0m\u001b[1;33m\u001b[0m\u001b[1;33m\u001b[0m\u001b[0m\n\u001b[0;32m      3\u001b[0m \u001b[1;32mfor\u001b[0m \u001b[0mi\u001b[0m \u001b[1;32min\u001b[0m \u001b[0msolution\u001b[0m\u001b[1;33m:\u001b[0m\u001b[1;33m\u001b[0m\u001b[1;33m\u001b[0m\u001b[0m\n\u001b[0;32m      4\u001b[0m     \u001b[0mx\u001b[0m\u001b[1;33m[\u001b[0m\u001b[0mi\u001b[0m\u001b[1;33m]\u001b[0m \u001b[1;33m=\u001b[0m \u001b[0msolution\u001b[0m\u001b[1;33m[\u001b[0m\u001b[0mi\u001b[0m\u001b[1;33m]\u001b[0m\u001b[1;33m\u001b[0m\u001b[1;33m\u001b[0m\u001b[0m\n\u001b[0;32m      5\u001b[0m \u001b[0me\u001b[0m \u001b[1;33m=\u001b[0m \u001b[0mp_matrix\u001b[0m\u001b[1;33m@\u001b[0m\u001b[0mx\u001b[0m\u001b[1;33m\u001b[0m\u001b[1;33m\u001b[0m\u001b[0m\n",
      "\u001b[1;31mTypeError\u001b[0m: solve() got an unexpected keyword argument 'lambda2'"
     ]
    }
   ],
   "source": [
    "solution = solve(e_T=train_eT, w2=824, w3=159, w5=362, w6=95, w8=364, w9=63)\n",
    "x = np.zeros(66)\n",
    "for i in solution:\n",
    "    x[i] = solution[i]\n",
    "e = p_matrix@x\n",
    "print(e)\n",
    "print(train_eT)"
   ]
  },
  {
   "cell_type": "code",
   "execution_count": null,
   "metadata": {},
   "outputs": [
    {
     "data": {
      "text/plain": [
       "array([   0., 1745., 1167.,    0., 1796., 1501., 1582., 1166.])"
      ]
     },
     "execution_count": 31,
     "metadata": {},
     "output_type": "execute_result"
    }
   ],
   "source": [
    "I_matrix@x"
   ]
  }
 ],
 "metadata": {
  "kernelspec": {
   "display_name": "base",
   "language": "python",
   "name": "python3"
  },
  "language_info": {
   "codemirror_mode": {
    "name": "ipython",
    "version": 3
   },
   "file_extension": ".py",
   "mimetype": "text/x-python",
   "name": "python",
   "nbconvert_exporter": "python",
   "pygments_lexer": "ipython3",
   "version": "3.9.13"
  },
  "orig_nbformat": 4
 },
 "nbformat": 4,
 "nbformat_minor": 2
}
