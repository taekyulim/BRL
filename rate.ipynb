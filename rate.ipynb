{
 "cells": [
  {
   "cell_type": "code",
   "execution_count": 1,
   "metadata": {},
   "outputs": [],
   "source": [
    "from optimizer4 import solve\n",
    "from BRL import *"
   ]
  },
  {
   "cell_type": "code",
   "execution_count": 2,
   "metadata": {},
   "outputs": [],
   "source": [
    "import pandas as pd\n",
    "import numpy as np"
   ]
  },
  {
   "cell_type": "code",
   "execution_count": 3,
   "metadata": {},
   "outputs": [
    {
     "data": {
      "text/html": [
       "<div>\n",
       "<style scoped>\n",
       "    .dataframe tbody tr th:only-of-type {\n",
       "        vertical-align: middle;\n",
       "    }\n",
       "\n",
       "    .dataframe tbody tr th {\n",
       "        vertical-align: top;\n",
       "    }\n",
       "\n",
       "    .dataframe thead th {\n",
       "        text-align: right;\n",
       "    }\n",
       "</style>\n",
       "<table border=\"1\" class=\"dataframe\">\n",
       "  <thead>\n",
       "    <tr style=\"text-align: right;\">\n",
       "      <th></th>\n",
       "      <th>0</th>\n",
       "      <th>1</th>\n",
       "      <th>2</th>\n",
       "      <th>3</th>\n",
       "      <th>4</th>\n",
       "      <th>5</th>\n",
       "      <th>6</th>\n",
       "      <th>7</th>\n",
       "      <th>8</th>\n",
       "      <th>9</th>\n",
       "      <th>10</th>\n",
       "    </tr>\n",
       "  </thead>\n",
       "  <tbody>\n",
       "    <tr>\n",
       "      <th>0</th>\n",
       "      <td>2023-04-24 00시</td>\n",
       "      <td>236</td>\n",
       "      <td>251</td>\n",
       "      <td>253</td>\n",
       "      <td>254</td>\n",
       "      <td>265</td>\n",
       "      <td>279</td>\n",
       "      <td>261</td>\n",
       "      <td>279</td>\n",
       "      <td>140</td>\n",
       "      <td>183</td>\n",
       "    </tr>\n",
       "    <tr>\n",
       "      <th>1</th>\n",
       "      <td>2023-04-24 01시</td>\n",
       "      <td>211</td>\n",
       "      <td>190</td>\n",
       "      <td>164</td>\n",
       "      <td>192</td>\n",
       "      <td>184</td>\n",
       "      <td>241</td>\n",
       "      <td>208</td>\n",
       "      <td>243</td>\n",
       "      <td>126</td>\n",
       "      <td>138</td>\n",
       "    </tr>\n",
       "    <tr>\n",
       "      <th>2</th>\n",
       "      <td>2023-04-24 02시</td>\n",
       "      <td>145</td>\n",
       "      <td>161</td>\n",
       "      <td>115</td>\n",
       "      <td>200</td>\n",
       "      <td>152</td>\n",
       "      <td>184</td>\n",
       "      <td>151</td>\n",
       "      <td>173</td>\n",
       "      <td>83</td>\n",
       "      <td>94</td>\n",
       "    </tr>\n",
       "    <tr>\n",
       "      <th>3</th>\n",
       "      <td>2023-04-24 03시</td>\n",
       "      <td>162</td>\n",
       "      <td>170</td>\n",
       "      <td>105</td>\n",
       "      <td>185</td>\n",
       "      <td>119</td>\n",
       "      <td>152</td>\n",
       "      <td>196</td>\n",
       "      <td>141</td>\n",
       "      <td>59</td>\n",
       "      <td>86</td>\n",
       "    </tr>\n",
       "    <tr>\n",
       "      <th>4</th>\n",
       "      <td>2023-04-24 04시</td>\n",
       "      <td>200</td>\n",
       "      <td>299</td>\n",
       "      <td>151</td>\n",
       "      <td>47</td>\n",
       "      <td>181</td>\n",
       "      <td>289</td>\n",
       "      <td>362</td>\n",
       "      <td>207</td>\n",
       "      <td>135</td>\n",
       "      <td>169</td>\n",
       "    </tr>\n",
       "  </tbody>\n",
       "</table>\n",
       "</div>"
      ],
      "text/plain": [
       "               0    1    2    3    4    5    6    7    8    9    10\n",
       "0  2023-04-24 00시  236  251  253  254  265  279  261  279  140  183\n",
       "1  2023-04-24 01시  211  190  164  192  184  241  208  243  126  138\n",
       "2  2023-04-24 02시  145  161  115  200  152  184  151  173   83   94\n",
       "3  2023-04-24 03시  162  170  105  185  119  152  196  141   59   86\n",
       "4  2023-04-24 04시  200  299  151   47  181  289  362  207  135  169"
      ]
     },
     "execution_count": 3,
     "metadata": {},
     "output_type": "execute_result"
    }
   ],
   "source": [
    "data = pd.read_excel('./data/data.xlsx', index_col=0)\n",
    "data.head()"
   ]
  },
  {
   "cell_type": "code",
   "execution_count": 4,
   "metadata": {},
   "outputs": [
    {
     "data": {
      "text/plain": [
       "array([[ 236,  251,  253, ...,  279,  140,  183],\n",
       "       [ 211,  190,  164, ...,  243,  126,  138],\n",
       "       [ 145,  161,  115, ...,  173,   83,   94],\n",
       "       ...,\n",
       "       [ 845,  799, 1163, ..., 1144,  534,  607],\n",
       "       [ 682,  659,  956, ...,  938,  449,  489],\n",
       "       [ 429,  452,  555, ...,  600,  347,  355]])"
      ]
     },
     "execution_count": 4,
     "metadata": {},
     "output_type": "execute_result"
    }
   ],
   "source": [
    "tests = data.iloc[:,1:].values\n",
    "tests"
   ]
  },
  {
   "cell_type": "code",
   "execution_count": 10,
   "metadata": {},
   "outputs": [
    {
     "data": {
      "text/plain": [
       "array([1005, 1553, 1180, 1682, 1911, 1424, 1628, 1494, 1084, 1454])"
      ]
     },
     "execution_count": 10,
     "metadata": {},
     "output_type": "execute_result"
    }
   ],
   "source": [
    "tests[56]"
   ]
  },
  {
   "cell_type": "code",
   "execution_count": 5,
   "metadata": {},
   "outputs": [],
   "source": [
    "solution = solve(e_T=tests[56])\n",
    "x = np.zeros(66)\n",
    "for i in solution:\n",
    "    x[i] = solution[i]"
   ]
  },
  {
   "cell_type": "code",
   "execution_count": 12,
   "metadata": {},
   "outputs": [
    {
     "data": {
      "text/plain": [
       "array([1008., 1552., 1161., 1672., 1884., 1416., 1618., 1484., 1080.,\n",
       "       1438.])"
      ]
     },
     "execution_count": 12,
     "metadata": {},
     "output_type": "execute_result"
    }
   ],
   "source": [
    "p_matrix@x"
   ]
  },
  {
   "cell_type": "code",
   "execution_count": 13,
   "metadata": {},
   "outputs": [
    {
     "data": {
      "text/plain": [
       "array([ 505.,  503., 1208., 1417., 1129., 1129.,  519.,  519.])"
      ]
     },
     "execution_count": 13,
     "metadata": {},
     "output_type": "execute_result"
    }
   ],
   "source": [
    "I_matrix@x"
   ]
  },
  {
   "cell_type": "code",
   "execution_count": 6,
   "metadata": {},
   "outputs": [],
   "source": [
    "def return_results(x):\n",
    "    result = {}\n",
    "    for i in range(len(x)):\n",
    "        if x[i] != 0:\n",
    "            path = all_shortest_paths[i]\n",
    "            origin_edge, destination_edge = edges[path[0]][0], edges[path[-1]][-1]\n",
    "            if (origin_edge, destination_edge) not in result:\n",
    "                result[(origin_edge, destination_edge)] = 0\n",
    "            result[(origin_edge, destination_edge)] += x[i]\n",
    "    return result"
   ]
  },
  {
   "cell_type": "code",
   "execution_count": 7,
   "metadata": {},
   "outputs": [
    {
     "data": {
      "text/plain": [
       "{('0_0', '4_0'): 6.0,\n",
       " ('0_0', '4_1'): 7.0,\n",
       " ('0_0', '3_1'): 245.0,\n",
       " ('0_0', '3_2'): 247.0,\n",
       " ('0_2', '4_0'): 8.0,\n",
       " ('0_2', '4_1'): 5.0,\n",
       " ('0_2', '3_1'): 245.0,\n",
       " ('0_2', '3_2'): 245.0,\n",
       " ('1_3', '0_2'): 75.0,\n",
       " ('1_3', '2_2'): 11.0,\n",
       " ('1_3', '4_0'): 109.0,\n",
       " ('1_3', '4_1'): 109.0,\n",
       " ('1_3', '3_1'): 452.0,\n",
       " ('1_3', '3_2'): 452.0,\n",
       " ('2_2', '0_2'): 150.0,\n",
       " ('2_2', '1_3'): 75.0,\n",
       " ('2_2', '4_0'): 439.0,\n",
       " ('2_2', '4_1'): 439.0,\n",
       " ('2_2', '3_1'): 161.0,\n",
       " ('2_2', '3_2'): 153.0,\n",
       " ('4_0', '0_2'): 110.0,\n",
       " ('4_0', '1_3'): 35.0,\n",
       " ('4_0', '2_2'): 178.0,\n",
       " ('4_0', '3_1'): 98.0,\n",
       " ('4_0', '3_2'): 98.0,\n",
       " ('4_1', '0_2'): 110.0,\n",
       " ('4_1', '1_3'): 35.0,\n",
       " ('4_1', '2_2'): 178.0,\n",
       " ('4_1', '3_1'): 98.0,\n",
       " ('4_1', '3_2'): 98.0,\n",
       " ('3_1', '0_0'): 67.0,\n",
       " ('3_1', '0_2'): 485.0,\n",
       " ('3_1', '1_3'): 336.0,\n",
       " ('3_1', '2_2'): 36.0,\n",
       " ('3_1', '4_0'): 104.0,\n",
       " ('3_1', '4_1'): 101.0,\n",
       " ('3_2', '0_0'): 68.0,\n",
       " ('3_2', '0_2'): 487.0,\n",
       " ('3_2', '1_3'): 336.0,\n",
       " ('3_2', '2_2'): 35.0,\n",
       " ('3_2', '4_0'): 101.0,\n",
       " ('3_2', '4_1'): 102.0}"
      ]
     },
     "execution_count": 7,
     "metadata": {},
     "output_type": "execute_result"
    }
   ],
   "source": [
    "result = return_results(x)\n",
    "result"
   ]
  },
  {
   "cell_type": "code",
   "execution_count": 8,
   "metadata": {},
   "outputs": [],
   "source": [
    "def return_ratio(result):\n",
    "    grouped_dict = {}\n",
    "\n",
    "    # 딕셔너리의 키-값 쌍에 대해 반복\n",
    "    for key, value in result.items():\n",
    "        first_element = key[0]\n",
    "        \n",
    "        if first_element not in grouped_dict:\n",
    "            grouped_dict[first_element] = []\n",
    "        \n",
    "        grouped_dict[first_element].append((key, value))\n",
    "\n",
    "    # 비율을 저장할 딕셔너리\n",
    "    ratios = {}\n",
    "\n",
    "    # 각 그룹에 대해 반복\n",
    "    for first_element, group in grouped_dict.items():\n",
    "        total_value = sum(value for _, value in group)\n",
    "        \n",
    "        # 그룹 내의 키-값 쌍에 대해 반복하며 비율 계산\n",
    "        for key, value in group:\n",
    "            ratio = value / total_value\n",
    "            ratios[key] = round(100*ratio, 2)\n",
    "    \n",
    "    updated_ratios = {}\n",
    "\n",
    "    for key, value in ratios.items():\n",
    "        first_key, second_key = key\n",
    "        new_key = (node_index[first_key], node_index[second_key])\n",
    "        updated_ratios[new_key] = value\n",
    "    \n",
    "    return updated_ratios"
   ]
  },
  {
   "cell_type": "code",
   "execution_count": 9,
   "metadata": {},
   "outputs": [
    {
     "data": {
      "text/plain": [
       "{(0, 7): 1.19,\n",
       " (0, 6): 1.39,\n",
       " (0, 5): 48.51,\n",
       " (0, 4): 48.91,\n",
       " (1, 7): 1.59,\n",
       " (1, 6): 0.99,\n",
       " (1, 5): 48.71,\n",
       " (1, 4): 48.71,\n",
       " (2, 1): 6.21,\n",
       " (2, 3): 0.91,\n",
       " (2, 7): 9.02,\n",
       " (2, 6): 9.02,\n",
       " (2, 5): 37.42,\n",
       " (2, 4): 37.42,\n",
       " (3, 1): 10.59,\n",
       " (3, 2): 5.29,\n",
       " (3, 7): 30.98,\n",
       " (3, 6): 30.98,\n",
       " (3, 5): 11.36,\n",
       " (3, 4): 10.8,\n",
       " (7, 1): 21.19,\n",
       " (7, 2): 6.74,\n",
       " (7, 3): 34.3,\n",
       " (7, 5): 18.88,\n",
       " (7, 4): 18.88,\n",
       " (6, 1): 21.19,\n",
       " (6, 2): 6.74,\n",
       " (6, 3): 34.3,\n",
       " (6, 5): 18.88,\n",
       " (6, 4): 18.88,\n",
       " (5, 0): 5.93,\n",
       " (5, 1): 42.96,\n",
       " (5, 2): 29.76,\n",
       " (5, 3): 3.19,\n",
       " (5, 7): 9.21,\n",
       " (5, 6): 8.95,\n",
       " (4, 0): 6.02,\n",
       " (4, 1): 43.14,\n",
       " (4, 2): 29.76,\n",
       " (4, 3): 3.1,\n",
       " (4, 7): 8.95,\n",
       " (4, 6): 9.03}"
      ]
     },
     "execution_count": 9,
     "metadata": {},
     "output_type": "execute_result"
    }
   ],
   "source": [
    "return_ratio(result)"
   ]
  },
  {
   "cell_type": "code",
   "execution_count": null,
   "metadata": {},
   "outputs": [],
   "source": []
  }
 ],
 "metadata": {
  "kernelspec": {
   "display_name": "base",
   "language": "python",
   "name": "python3"
  },
  "language_info": {
   "codemirror_mode": {
    "name": "ipython",
    "version": 3
   },
   "file_extension": ".py",
   "mimetype": "text/x-python",
   "name": "python",
   "nbconvert_exporter": "python",
   "pygments_lexer": "ipython3",
   "version": "3.9.10"
  },
  "orig_nbformat": 4
 },
 "nbformat": 4,
 "nbformat_minor": 2
}
