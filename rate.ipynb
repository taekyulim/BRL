{
 "cells": [
  {
   "cell_type": "code",
   "execution_count": 1,
   "metadata": {},
   "outputs": [],
   "source": [
    "from optimizer_apms import solve\n",
    "from apms import *"
   ]
  },
  {
   "cell_type": "code",
   "execution_count": 2,
   "metadata": {},
   "outputs": [],
   "source": [
    "import pandas as pd\n",
    "import numpy as np"
   ]
  },
  {
   "cell_type": "code",
   "execution_count": 3,
   "metadata": {},
   "outputs": [
    {
     "data": {
      "text/html": [
       "<div>\n",
       "<style scoped>\n",
       "    .dataframe tbody tr th:only-of-type {\n",
       "        vertical-align: middle;\n",
       "    }\n",
       "\n",
       "    .dataframe tbody tr th {\n",
       "        vertical-align: top;\n",
       "    }\n",
       "\n",
       "    .dataframe thead th {\n",
       "        text-align: right;\n",
       "    }\n",
       "</style>\n",
       "<table border=\"1\" class=\"dataframe\">\n",
       "  <thead>\n",
       "    <tr style=\"text-align: right;\">\n",
       "      <th></th>\n",
       "      <th>0</th>\n",
       "      <th>1</th>\n",
       "      <th>2</th>\n",
       "      <th>3</th>\n",
       "      <th>4</th>\n",
       "      <th>5</th>\n",
       "      <th>6</th>\n",
       "      <th>7</th>\n",
       "      <th>8</th>\n",
       "      <th>9</th>\n",
       "      <th>10</th>\n",
       "    </tr>\n",
       "  </thead>\n",
       "  <tbody>\n",
       "    <tr>\n",
       "      <th>0</th>\n",
       "      <td>2023-04-24 00시</td>\n",
       "      <td>236</td>\n",
       "      <td>251</td>\n",
       "      <td>253</td>\n",
       "      <td>254</td>\n",
       "      <td>265</td>\n",
       "      <td>279</td>\n",
       "      <td>261</td>\n",
       "      <td>279</td>\n",
       "      <td>140</td>\n",
       "      <td>183</td>\n",
       "    </tr>\n",
       "    <tr>\n",
       "      <th>1</th>\n",
       "      <td>2023-04-24 01시</td>\n",
       "      <td>211</td>\n",
       "      <td>190</td>\n",
       "      <td>164</td>\n",
       "      <td>192</td>\n",
       "      <td>184</td>\n",
       "      <td>241</td>\n",
       "      <td>208</td>\n",
       "      <td>243</td>\n",
       "      <td>126</td>\n",
       "      <td>138</td>\n",
       "    </tr>\n",
       "    <tr>\n",
       "      <th>2</th>\n",
       "      <td>2023-04-24 02시</td>\n",
       "      <td>145</td>\n",
       "      <td>161</td>\n",
       "      <td>115</td>\n",
       "      <td>200</td>\n",
       "      <td>152</td>\n",
       "      <td>184</td>\n",
       "      <td>151</td>\n",
       "      <td>173</td>\n",
       "      <td>83</td>\n",
       "      <td>94</td>\n",
       "    </tr>\n",
       "    <tr>\n",
       "      <th>3</th>\n",
       "      <td>2023-04-24 03시</td>\n",
       "      <td>162</td>\n",
       "      <td>170</td>\n",
       "      <td>105</td>\n",
       "      <td>185</td>\n",
       "      <td>119</td>\n",
       "      <td>152</td>\n",
       "      <td>196</td>\n",
       "      <td>141</td>\n",
       "      <td>59</td>\n",
       "      <td>86</td>\n",
       "    </tr>\n",
       "    <tr>\n",
       "      <th>4</th>\n",
       "      <td>2023-04-24 04시</td>\n",
       "      <td>200</td>\n",
       "      <td>299</td>\n",
       "      <td>151</td>\n",
       "      <td>47</td>\n",
       "      <td>181</td>\n",
       "      <td>289</td>\n",
       "      <td>362</td>\n",
       "      <td>207</td>\n",
       "      <td>135</td>\n",
       "      <td>169</td>\n",
       "    </tr>\n",
       "  </tbody>\n",
       "</table>\n",
       "</div>"
      ],
      "text/plain": [
       "               0    1    2    3    4    5    6    7    8    9    10\n",
       "0  2023-04-24 00시  236  251  253  254  265  279  261  279  140  183\n",
       "1  2023-04-24 01시  211  190  164  192  184  241  208  243  126  138\n",
       "2  2023-04-24 02시  145  161  115  200  152  184  151  173   83   94\n",
       "3  2023-04-24 03시  162  170  105  185  119  152  196  141   59   86\n",
       "4  2023-04-24 04시  200  299  151   47  181  289  362  207  135  169"
      ]
     },
     "execution_count": 3,
     "metadata": {},
     "output_type": "execute_result"
    }
   ],
   "source": [
    "data = pd.read_excel('./data.xlsx', index_col=0)\n",
    "data.head()"
   ]
  },
  {
   "cell_type": "code",
   "execution_count": 4,
   "metadata": {},
   "outputs": [
    {
     "data": {
      "text/plain": [
       "array([[ 236,  251,  253, ...,  279,  140,  183],\n",
       "       [ 211,  190,  164, ...,  243,  126,  138],\n",
       "       [ 145,  161,  115, ...,  173,   83,   94],\n",
       "       ...,\n",
       "       [ 845,  799, 1163, ..., 1144,  534,  607],\n",
       "       [ 682,  659,  956, ...,  938,  449,  489],\n",
       "       [ 429,  452,  555, ...,  600,  347,  355]], dtype=int64)"
      ]
     },
     "execution_count": 4,
     "metadata": {},
     "output_type": "execute_result"
    }
   ],
   "source": [
    "tests = data.iloc[:,1:].values\n",
    "tests"
   ]
  },
  {
   "cell_type": "code",
   "execution_count": 5,
   "metadata": {},
   "outputs": [
    {
     "data": {
      "text/plain": [
       "array([1005, 1553, 1180, 1682, 1911, 1424, 1628, 1494, 1084, 1454],\n",
       "      dtype=int64)"
      ]
     },
     "execution_count": 5,
     "metadata": {},
     "output_type": "execute_result"
    }
   ],
   "source": [
    "tests[56]"
   ]
  },
  {
   "cell_type": "code",
   "execution_count": 6,
   "metadata": {},
   "outputs": [],
   "source": [
    "solution = solve(e_T=tests[56])\n",
    "x = np.zeros(66)\n",
    "for i in solution:\n",
    "    x[i] = solution[i]"
   ]
  },
  {
   "cell_type": "code",
   "execution_count": 7,
   "metadata": {},
   "outputs": [
    {
     "data": {
      "text/plain": [
       "array([1019., 1520., 1148., 1687., 1522., 1372., 1578., 1482., 1081.,\n",
       "       1406.])"
      ]
     },
     "execution_count": 7,
     "metadata": {},
     "output_type": "execute_result"
    }
   ],
   "source": [
    "p_matrix@x"
   ]
  },
  {
   "cell_type": "code",
   "execution_count": 8,
   "metadata": {},
   "outputs": [
    {
     "data": {
      "text/plain": [
       "array([ 510.,  509., 1136., 1112., 1174., 1159.,  519.,  490.])"
      ]
     },
     "execution_count": 8,
     "metadata": {},
     "output_type": "execute_result"
    }
   ],
   "source": [
    "I_matrix@x"
   ]
  },
  {
   "cell_type": "code",
   "execution_count": 9,
   "metadata": {},
   "outputs": [],
   "source": [
    "def return_results(x):\n",
    "    result = {}\n",
    "    for i in range(len(x)):\n",
    "        if x[i] != 0:\n",
    "            path = all_shortest_paths[i]\n",
    "            origin_edge, destination_edge = edges[path[0]][0], edges[path[-1]][-1]\n",
    "            if (origin_edge, destination_edge) not in result:\n",
    "                result[(origin_edge, destination_edge)] = 0\n",
    "            result[(origin_edge, destination_edge)] += x[i]\n",
    "    return result"
   ]
  },
  {
   "cell_type": "code",
   "execution_count": 10,
   "metadata": {},
   "outputs": [
    {
     "data": {
      "text/plain": [
       "{('0_0', '4_0'): 6.0,\n",
       " ('0_0', '4_1'): 5.0,\n",
       " ('0_0', '3_1'): 250.0,\n",
       " ('0_0', '3_2'): 249.0,\n",
       " ('0_2', '4_0'): 6.0,\n",
       " ('0_2', '4_1'): 5.0,\n",
       " ('0_2', '3_1'): 250.0,\n",
       " ('0_2', '3_2'): 248.0,\n",
       " ('1_3', '0_2'): 68.0,\n",
       " ('1_3', '2_2'): 14.0,\n",
       " ('1_3', '4_0'): 97.0,\n",
       " ('1_3', '4_1'): 97.0,\n",
       " ('1_3', '3_1'): 430.0,\n",
       " ('1_3', '3_2'): 430.0,\n",
       " ('2_2', '0_2'): 163.0,\n",
       " ('2_2', '1_3'): 94.0,\n",
       " ('2_2', '4_0'): 369.0,\n",
       " ('2_2', '4_1'): 369.0,\n",
       " ('2_2', '3_1'): 59.0,\n",
       " ('2_2', '3_2'): 58.0,\n",
       " ('4_0', '0_2'): 92.0,\n",
       " ('4_0', '1_3'): 28.0,\n",
       " ('4_0', '2_2'): 172.0,\n",
       " ('4_0', '3_1'): 99.0,\n",
       " ('4_0', '3_2'): 99.0,\n",
       " ('4_1', '0_2'): 92.0,\n",
       " ('4_1', '1_3'): 38.0,\n",
       " ('4_1', '2_2'): 174.0,\n",
       " ('4_1', '3_1'): 99.0,\n",
       " ('4_1', '3_2'): 116.0,\n",
       " ('3_1', '0_0'): 65.0,\n",
       " ('3_1', '0_2'): 481.0,\n",
       " ('3_1', '1_3'): 344.0,\n",
       " ('3_1', '2_2'): 31.0,\n",
       " ('3_1', '4_0'): 119.0,\n",
       " ('3_1', '4_1'): 119.0,\n",
       " ('3_2', '0_0'): 67.0,\n",
       " ('3_2', '0_2'): 492.0,\n",
       " ('3_2', '1_3'): 345.0,\n",
       " ('3_2', '2_2'): 32.0,\n",
       " ('3_2', '4_0'): 119.0,\n",
       " ('3_2', '4_1'): 119.0}"
      ]
     },
     "execution_count": 10,
     "metadata": {},
     "output_type": "execute_result"
    }
   ],
   "source": [
    "result = return_results(x)\n",
    "result"
   ]
  },
  {
   "cell_type": "code",
   "execution_count": 11,
   "metadata": {},
   "outputs": [],
   "source": [
    "def return_ratio(result):\n",
    "    grouped_dict = {}\n",
    "\n",
    "    # 딕셔너리의 키-값 쌍에 대해 반복\n",
    "    for key, value in result.items():\n",
    "        first_element = key[0]\n",
    "        \n",
    "        if first_element not in grouped_dict:\n",
    "            grouped_dict[first_element] = []\n",
    "        \n",
    "        grouped_dict[first_element].append((key, value))\n",
    "\n",
    "    # 비율을 저장할 딕셔너리\n",
    "    ratios = {}\n",
    "\n",
    "    # 각 그룹에 대해 반복\n",
    "    for first_element, group in grouped_dict.items():\n",
    "        total_value = sum(value for _, value in group)\n",
    "        \n",
    "        # 그룹 내의 키-값 쌍에 대해 반복하며 비율 계산\n",
    "        for key, value in group:\n",
    "            ratio = value / total_value\n",
    "            ratios[key] = round(100*ratio, 2)\n",
    "    \n",
    "    updated_ratios = {}\n",
    "\n",
    "    for key, value in ratios.items():\n",
    "        first_key, second_key = key\n",
    "        new_key = (node_index[first_key], node_index[second_key])\n",
    "        updated_ratios[new_key] = value\n",
    "    \n",
    "    return updated_ratios"
   ]
  },
  {
   "cell_type": "code",
   "execution_count": 12,
   "metadata": {},
   "outputs": [
    {
     "data": {
      "text/plain": [
       "{(0, 7): 1.18,\n",
       " (0, 6): 0.98,\n",
       " (0, 5): 49.02,\n",
       " (0, 4): 48.82,\n",
       " (1, 7): 1.18,\n",
       " (1, 6): 0.98,\n",
       " (1, 5): 49.12,\n",
       " (1, 4): 48.72,\n",
       " (2, 1): 5.99,\n",
       " (2, 3): 1.23,\n",
       " (2, 7): 8.54,\n",
       " (2, 6): 8.54,\n",
       " (2, 5): 37.85,\n",
       " (2, 4): 37.85,\n",
       " (3, 1): 14.66,\n",
       " (3, 2): 8.45,\n",
       " (3, 7): 33.18,\n",
       " (3, 6): 33.18,\n",
       " (3, 5): 5.31,\n",
       " (3, 4): 5.22,\n",
       " (7, 1): 18.78,\n",
       " (7, 2): 5.71,\n",
       " (7, 3): 35.1,\n",
       " (7, 5): 20.2,\n",
       " (7, 4): 20.2,\n",
       " (6, 1): 17.73,\n",
       " (6, 2): 7.32,\n",
       " (6, 3): 33.53,\n",
       " (6, 5): 19.08,\n",
       " (6, 4): 22.35,\n",
       " (5, 0): 5.61,\n",
       " (5, 1): 41.5,\n",
       " (5, 2): 29.68,\n",
       " (5, 3): 2.67,\n",
       " (5, 7): 10.27,\n",
       " (5, 6): 10.27,\n",
       " (4, 0): 5.71,\n",
       " (4, 1): 41.91,\n",
       " (4, 2): 29.39,\n",
       " (4, 3): 2.73,\n",
       " (4, 7): 10.14,\n",
       " (4, 6): 10.14}"
      ]
     },
     "execution_count": 12,
     "metadata": {},
     "output_type": "execute_result"
    }
   ],
   "source": [
    "return_ratio(result)"
   ]
  },
  {
   "cell_type": "code",
   "execution_count": null,
   "metadata": {},
   "outputs": [],
   "source": []
  }
 ],
 "metadata": {
  "kernelspec": {
   "display_name": "base",
   "language": "python",
   "name": "python3"
  },
  "language_info": {
   "codemirror_mode": {
    "name": "ipython",
    "version": 3
   },
   "file_extension": ".py",
   "mimetype": "text/x-python",
   "name": "python",
   "nbconvert_exporter": "python",
   "pygments_lexer": "ipython3",
   "version": "3.9.13"
  },
  "orig_nbformat": 4
 },
 "nbformat": 4,
 "nbformat_minor": 2
}
