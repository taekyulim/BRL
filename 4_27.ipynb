{
 "cells": [
  {
   "cell_type": "code",
   "execution_count": 18,
   "metadata": {},
   "outputs": [],
   "source": [
    "from BRL import *\n",
    "from optimizer import *"
   ]
  },
  {
   "attachments": {},
   "cell_type": "markdown",
   "metadata": {},
   "source": [
    "## 1. 지나가는 group 만들기"
   ]
  },
  {
   "cell_type": "code",
   "execution_count": 36,
   "metadata": {},
   "outputs": [
    {
     "data": {
      "text/plain": [
       "[['1_0i', '1_1o'], ['1_0i', '1_2o'], ['1_0i', '1_3o']]"
      ]
     },
     "execution_count": 36,
     "metadata": {},
     "output_type": "execute_result"
    }
   ],
   "source": [
    "aa = crossroad_var['1_0i']\n",
    "aa"
   ]
  },
  {
   "cell_type": "code",
   "execution_count": 37,
   "metadata": {},
   "outputs": [],
   "source": [
    "result = []\n",
    "for a in aa:\n",
    "    result.append(get_intersection(a))"
   ]
  },
  {
   "cell_type": "code",
   "execution_count": 41,
   "metadata": {},
   "outputs": [
    {
     "data": {
      "text/plain": [
       "[[16, 3, 7, 12, 14, 4, 5, 13], [15, 11, 2, 8, 6, 17], [1, 10]]"
      ]
     },
     "execution_count": 41,
     "metadata": {},
     "output_type": "execute_result"
    }
   ],
   "source": [
    "indices_list = result\n",
    "indices_list"
   ]
  },
  {
   "attachments": {},
   "cell_type": "markdown",
   "metadata": {},
   "source": [
    "## 2. 이중 destination node는 5% 하한, 그것이 아닌 경우 50% 상한"
   ]
  },
  {
   "cell_type": "code",
   "execution_count": 39,
   "metadata": {},
   "outputs": [],
   "source": [
    "is_end = []"
   ]
  },
  {
   "cell_type": "code",
   "execution_count": 40,
   "metadata": {},
   "outputs": [],
   "source": [
    "for a in aa:\n",
    "    if edges[a[1]][1] in destination_nodes:\n",
    "        is_end.append(True)\n",
    "    else:\n",
    "        is_end.append(False)"
   ]
  },
  {
   "cell_type": "code",
   "execution_count": 25,
   "metadata": {},
   "outputs": [
    {
     "data": {
      "text/plain": [
       "[False, False, True]"
      ]
     },
     "execution_count": 25,
     "metadata": {},
     "output_type": "execute_result"
    }
   ],
   "source": [
    "is_end"
   ]
  },
  {
   "attachments": {},
   "cell_type": "markdown",
   "metadata": {},
   "source": [
    "## 모든 crossroad_var에 대해 제약 주기"
   ]
  },
  {
   "cell_type": "code",
   "execution_count": 26,
   "metadata": {},
   "outputs": [
    {
     "data": {
      "text/plain": [
       "['0_0i', '0_1i', '0_1o', '0_2i', '1_0i', '1_0o']"
      ]
     },
     "execution_count": 26,
     "metadata": {},
     "output_type": "execute_result"
    }
   ],
   "source": [
    "keys = list(crossroad_var.keys())\n",
    "keys[:6]"
   ]
  },
  {
   "cell_type": "code",
   "execution_count": 27,
   "metadata": {},
   "outputs": [],
   "source": [
    "for key in keys:\n",
    "    aa = crossroad_var[key]\n",
    "    if len(aa) != 1:\n",
    "        indices_list = []\n",
    "        is_end = []\n",
    "        for a in aa:\n",
    "            indices_list.append(a)\n",
    "            if edges[a[1]][1] in destination_nodes:\n",
    "                is_end.append(True)\n",
    "            else:\n",
    "                is_end.append(False)"
   ]
  },
  {
   "cell_type": "code",
   "execution_count": 28,
   "metadata": {},
   "outputs": [
    {
     "data": {
      "text/plain": [
       "[['4_3i', '4_0o'], ['4_3i', '4_1o'], ['4_3i', '4_2o']]"
      ]
     },
     "execution_count": 28,
     "metadata": {},
     "output_type": "execute_result"
    }
   ],
   "source": [
    "indices_list"
   ]
  },
  {
   "cell_type": "code",
   "execution_count": 29,
   "metadata": {},
   "outputs": [
    {
     "data": {
      "text/plain": [
       "[True, True, False]"
      ]
     },
     "execution_count": 29,
     "metadata": {},
     "output_type": "execute_result"
    }
   ],
   "source": [
    "is_end"
   ]
  },
  {
   "cell_type": "code",
   "execution_count": 30,
   "metadata": {},
   "outputs": [
    {
     "ename": "TypeError",
     "evalue": "list indices must be integers or slices, not str",
     "output_type": "error",
     "traceback": [
      "\u001b[0;31m---------------------------------------------------------------------------\u001b[0m",
      "\u001b[0;31mTypeError\u001b[0m                                 Traceback (most recent call last)",
      "\u001b[1;32m/Users/taekyuim/Desktop/BRL/4_27.ipynb 셀 16\u001b[0m in \u001b[0;36m<cell line: 1>\u001b[0;34m()\u001b[0m\n\u001b[0;32m----> <a href='vscode-notebook-cell:/Users/taekyuim/Desktop/BRL/4_27.ipynb#X45sZmlsZQ%3D%3D?line=0'>1</a>\u001b[0m making_solution()\n",
      "File \u001b[0;32m~/Desktop/BRL/optimizer.py:121\u001b[0m, in \u001b[0;36mmaking_solution\u001b[0;34m(e_T, P)\u001b[0m\n\u001b[1;32m    119\u001b[0m             \u001b[39melse\u001b[39;00m:\n\u001b[1;32m    120\u001b[0m                 is_end\u001b[39m.\u001b[39mappend(\u001b[39mFalse\u001b[39;00m)\n\u001b[0;32m--> 121\u001b[0m     constraint_making(indices_list \u001b[39m=\u001b[39;49m indices_list, is_end \u001b[39m=\u001b[39;49m is_end, x\u001b[39m=\u001b[39;49mx)\n\u001b[1;32m    122\u001b[0m solver\u001b[39m.\u001b[39mSolve()\n\u001b[1;32m    123\u001b[0m \u001b[39mprint\u001b[39m(\u001b[39mf\u001b[39m\u001b[39m\"\u001b[39m\u001b[39mObjective value: \u001b[39m\u001b[39m{\u001b[39;00mobjective\u001b[39m.\u001b[39mValue()\u001b[39m}\u001b[39;00m\u001b[39m\"\u001b[39m)\n",
      "File \u001b[0;32m~/Desktop/BRL/optimizer.py:83\u001b[0m, in \u001b[0;36mconstraint_making\u001b[0;34m(indices_list, is_end, x)\u001b[0m\n\u001b[1;32m     82\u001b[0m \u001b[39mdef\u001b[39;00m \u001b[39mconstraint_making\u001b[39m(indices_list, is_end, x):\n\u001b[0;32m---> 83\u001b[0m     total_x \u001b[39m=\u001b[39m \u001b[39msum\u001b[39;49m(x[i] \u001b[39mfor\u001b[39;49;00m group \u001b[39min\u001b[39;49;00m indices_list \u001b[39mfor\u001b[39;49;00m i \u001b[39min\u001b[39;49;00m group)\n\u001b[1;32m     84\u001b[0m     \u001b[39mfor\u001b[39;00m i \u001b[39min\u001b[39;00m \u001b[39mrange\u001b[39m(\u001b[39mlen\u001b[39m(indices_list)):\n\u001b[1;32m     85\u001b[0m         \u001b[39mif\u001b[39;00m is_end[i]:\u001b[39m# 끝나는 노드 경우\u001b[39;00m\n",
      "File \u001b[0;32m~/Desktop/BRL/optimizer.py:83\u001b[0m, in \u001b[0;36m<genexpr>\u001b[0;34m(.0)\u001b[0m\n\u001b[1;32m     82\u001b[0m \u001b[39mdef\u001b[39;00m \u001b[39mconstraint_making\u001b[39m(indices_list, is_end, x):\n\u001b[0;32m---> 83\u001b[0m     total_x \u001b[39m=\u001b[39m \u001b[39msum\u001b[39m(x[i] \u001b[39mfor\u001b[39;00m group \u001b[39min\u001b[39;00m indices_list \u001b[39mfor\u001b[39;00m i \u001b[39min\u001b[39;00m group)\n\u001b[1;32m     84\u001b[0m     \u001b[39mfor\u001b[39;00m i \u001b[39min\u001b[39;00m \u001b[39mrange\u001b[39m(\u001b[39mlen\u001b[39m(indices_list)):\n\u001b[1;32m     85\u001b[0m         \u001b[39mif\u001b[39;00m is_end[i]:\u001b[39m# 끝나는 노드 경우\u001b[39;00m\n",
      "\u001b[0;31mTypeError\u001b[0m: list indices must be integers or slices, not str"
     ]
    }
   ],
   "source": [
    "making_solution()"
   ]
  },
  {
   "cell_type": "code",
   "execution_count": null,
   "metadata": {},
   "outputs": [],
   "source": []
  }
 ],
 "metadata": {
  "kernelspec": {
   "display_name": "base",
   "language": "python",
   "name": "python3"
  },
  "language_info": {
   "codemirror_mode": {
    "name": "ipython",
    "version": 3
   },
   "file_extension": ".py",
   "mimetype": "text/x-python",
   "name": "python",
   "nbconvert_exporter": "python",
   "pygments_lexer": "ipython3",
   "version": "3.9.10"
  },
  "orig_nbformat": 4
 },
 "nbformat": 4,
 "nbformat_minor": 2
}
