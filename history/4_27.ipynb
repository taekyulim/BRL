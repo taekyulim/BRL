{
 "cells": [
  {
   "cell_type": "code",
   "execution_count": 1,
   "metadata": {},
   "outputs": [],
   "source": [
    "from BRL import *\n",
    "from route_generator import *\n",
    "from optimizer import *"
   ]
  },
  {
   "cell_type": "code",
   "execution_count": 2,
   "metadata": {},
   "outputs": [
    {
     "data": {
      "text/plain": [
       "{'0': [-650.0, 1600.0],\n",
       " '0_0': [-650.0, 1690.0],\n",
       " '0_1': [-650.0, 1425.0],\n",
       " '0_2': [-750.0, 1600.0],\n",
       " '1': [-192.0, 778.0],\n",
       " '1_0': [-192.0, 878.0],\n",
       " '1_1': [-56.0, 778.0],\n",
       " '1_2': [-192.0, 678.0],\n",
       " '1_3': [-322.0, 778.0],\n",
       " '2': [0.0, 0.0],\n",
       " '2_0': [0.0, 100.0],\n",
       " '2_1': [100.0, 0.0],\n",
       " '2_2': [0.0, -70.0],\n",
       " '3': [535.0, 0.0],\n",
       " '3_0': [535.0, 100.0],\n",
       " '3_1': [585.0, 0.0],\n",
       " '3_2': [535.0, -130.0],\n",
       " '3_3': [435.0, 0.0],\n",
       " '4': [535.0, 778.0],\n",
       " '4_0': [535.0, 858.0],\n",
       " '4_1': [615.0, 778.0],\n",
       " '4_2': [535.0, 678.0],\n",
       " '4_3': [435.0, 778.0]}"
      ]
     },
     "execution_count": 2,
     "metadata": {},
     "output_type": "execute_result"
    }
   ],
   "source": [
    "position"
   ]
  },
  {
   "cell_type": "code",
   "execution_count": 3,
   "metadata": {},
   "outputs": [
    {
     "data": {
      "text/plain": [
       "270.0"
      ]
     },
     "execution_count": 3,
     "metadata": {},
     "output_type": "execute_result"
    }
   ],
   "source": [
    "angle_between_points(position['0_0'], position['0'], position['0_2'])"
   ]
  },
  {
   "cell_type": "code",
   "execution_count": 4,
   "metadata": {},
   "outputs": [],
   "source": [
    "import numpy as np"
   ]
  },
  {
   "cell_type": "code",
   "execution_count": 5,
   "metadata": {},
   "outputs": [
    {
     "data": {
      "text/plain": [
       "array([464, 418, 318, 340, 354, 159, 141, 141, 223, 346, 451, 439, 167,\n",
       "       264, 245, 179, 278, 167, 333, 487, 120, 276, 293, 213, 191, 361,\n",
       "       200, 264, 159, 194, 380, 481, 431, 249, 475, 446, 310, 345, 148,\n",
       "       119, 134, 419, 475, 273, 226, 452, 440, 424, 298, 364, 248, 407,\n",
       "       413, 486, 208, 378, 139, 255, 324, 230, 249, 223, 217, 201, 297,\n",
       "       240, 245, 428, 248, 381, 171, 236])"
      ]
     },
     "execution_count": 5,
     "metadata": {},
     "output_type": "execute_result"
    }
   ],
   "source": [
    "a = np.random.randint(100, 500, size=72)\n",
    "a"
   ]
  },
  {
   "attachments": {},
   "cell_type": "markdown",
   "metadata": {},
   "source": [
    "## 두 sub edge를 지나는 최단 경로들\n",
    "## 이 최단 경로들의 합에 대해 제약조건 걸어주기"
   ]
  },
  {
   "cell_type": "code",
   "execution_count": 29,
   "metadata": {},
   "outputs": [
    {
     "data": {
      "text/plain": [
       "[3, 5, 4, 7, 12, 14, 13, 16]"
      ]
     },
     "execution_count": 29,
     "metadata": {},
     "output_type": "execute_result"
    }
   ],
   "source": [
    "get_intersection(['1_0i', '1_1o'])"
   ]
  },
  {
   "attachments": {},
   "cell_type": "markdown",
   "metadata": {},
   "source": [
    "1. 진압한 edge 입력"
   ]
  },
  {
   "cell_type": "code",
   "execution_count": 23,
   "metadata": {},
   "outputs": [
    {
     "data": {
      "text/plain": [
       "[['1_0i', '1_1o'], ['1_0i', '1_2o'], ['1_0i', '1_3o']]"
      ]
     },
     "execution_count": 23,
     "metadata": {},
     "output_type": "execute_result"
    }
   ],
   "source": [
    "crossroad_var['1_0i']"
   ]
  },
  {
   "attachments": {},
   "cell_type": "markdown",
   "metadata": {},
   "source": [
    "2. 각각 전부의 group을 지나는 경로들 반환"
   ]
  },
  {
   "cell_type": "code",
   "execution_count": 31,
   "metadata": {},
   "outputs": [
    {
     "name": "stdout",
     "output_type": "stream",
     "text": [
      "[3, 5, 4, 7, 12, 14, 13, 16]\n",
      "[11, 8, 2, 15, 6, 17]\n",
      "[10, 1]\n"
     ]
    }
   ],
   "source": [
    "print(get_intersection(['1_0i', '1_1o']))\n",
    "print(get_intersection(['1_0i', '1_2o']))\n",
    "print(get_intersection(['1_0i', '1_3o']))"
   ]
  },
  {
   "attachments": {},
   "cell_type": "markdown",
   "metadata": {},
   "source": [
    "하나만 나오는 경우엔 모든 교통량이 전부 들어가므로 딱히 제약 x"
   ]
  },
  {
   "cell_type": "code",
   "execution_count": 34,
   "metadata": {},
   "outputs": [
    {
     "data": {
      "text/plain": [
       "[['0_1o', 'r1_0_1']]"
      ]
     },
     "execution_count": 34,
     "metadata": {},
     "output_type": "execute_result"
    }
   ],
   "source": [
    "crossroad_var['0_1o']"
   ]
  },
  {
   "cell_type": "code",
   "execution_count": 35,
   "metadata": {},
   "outputs": [
    {
     "data": {
      "text/plain": [
       "[10, 3, 11, 8, 5, 4, 2, 7, 12, 14, 15, 13, 1, 17, 6, 16]"
      ]
     },
     "execution_count": 35,
     "metadata": {},
     "output_type": "execute_result"
    }
   ],
   "source": [
    "get_intersection(['0_1o', 'r1_0_1'])"
   ]
  }
 ],
 "metadata": {
  "kernelspec": {
   "display_name": "base",
   "language": "python",
   "name": "python3"
  },
  "language_info": {
   "codemirror_mode": {
    "name": "ipython",
    "version": 3
   },
   "file_extension": ".py",
   "mimetype": "text/x-python",
   "name": "python",
   "nbconvert_exporter": "python",
   "pygments_lexer": "ipython3",
   "version": "3.9.13"
  },
  "orig_nbformat": 4
 },
 "nbformat": 4,
 "nbformat_minor": 2
}
