{
 "cells": [
  {
   "cell_type": "code",
   "execution_count": 3,
   "metadata": {},
   "outputs": [],
   "source": [
    "from BRL import *\n",
    "from optimizer import *"
   ]
  },
  {
   "cell_type": "code",
   "execution_count": 14,
   "metadata": {},
   "outputs": [
    {
     "data": {
      "text/plain": [
       "[4494, 4069, 4227, 4752, 4338, 4844, 4939, 4017, 5137, 4836]"
      ]
     },
     "execution_count": 14,
     "metadata": {},
     "output_type": "execute_result"
    }
   ],
   "source": [
    "[e_T[i] for i in range(10)]"
   ]
  },
  {
   "cell_type": "code",
   "execution_count": 18,
   "metadata": {},
   "outputs": [
    {
     "data": {
      "text/plain": [
       "0"
      ]
     },
     "execution_count": 18,
     "metadata": {},
     "output_type": "execute_result"
    }
   ],
   "source": [
    "p_matrix[1,0]"
   ]
  },
  {
   "attachments": {},
   "cell_type": "markdown",
   "metadata": {},
   "source": [
    "각각 작은 도로에 대해 group 출력"
   ]
  },
  {
   "cell_type": "code",
   "execution_count": 2,
   "metadata": {},
   "outputs": [
    {
     "name": "stdout",
     "output_type": "stream",
     "text": [
      "2\n",
      "2\n",
      "1\n",
      "2\n",
      "3\n",
      "1\n",
      "3\n",
      "1\n",
      "3\n",
      "1\n",
      "3\n",
      "2\n",
      "1\n",
      "2\n",
      "1\n",
      "2\n",
      "3\n",
      "1\n",
      "3\n",
      "3\n",
      "3\n",
      "1\n",
      "3\n",
      "3\n",
      "3\n",
      "1\n",
      "3\n",
      "1\n"
     ]
    }
   ],
   "source": [
    "for i in crossroad_var_keys:\n",
    "    print(len(crossroad_var[i]))"
   ]
  },
  {
   "attachments": {},
   "cell_type": "markdown",
   "metadata": {},
   "source": [
    "이때 그룹의 크기가 1일 경우 경로가 하나로만 진행이 되므로 그냥 계산할때 pass 해주면 된다."
   ]
  },
  {
   "attachments": {},
   "cell_type": "markdown",
   "metadata": {},
   "source": [
    "각 리스트의 첫번째 성분은 같다.  \n",
    "즉 리스트의 두번째 성분의 도착 노드를 바탕으로 직진인지 좌회전인지 우회전인지 구할 수 있음."
   ]
  },
  {
   "cell_type": "code",
   "execution_count": 3,
   "metadata": {},
   "outputs": [
    {
     "name": "stdout",
     "output_type": "stream",
     "text": [
      "['직진', '우회전']\n",
      "['직진', '좌회전']\n",
      "['직진', '좌회전']\n",
      "['좌회전', '우회전']\n",
      "['좌회전', '직진', '우회전']\n",
      "['좌회전', '직진', '우회전']\n",
      "['우회전', '좌회전', '직진']\n",
      "['우회전', '좌회전', '직진']\n",
      "['직진', '우회전', '좌회전']\n",
      "['직진', '우회전', '좌회전']\n",
      "['좌회전', '직진', '우회전']\n",
      "['좌회전', '직진']\n",
      "['좌회전', '직진']\n",
      "['우회전', '좌회전']\n",
      "['우회전', '좌회전']\n",
      "['직진', '우회전']\n",
      "['좌회전', '직진', '우회전']\n",
      "['좌회전', '직진', '우회전']\n",
      "['우회전', '좌회전', '직진']\n",
      "['직진', '우회전', '좌회전']\n",
      "['좌회전', '직진', '우회전']\n",
      "['좌회전', '직진', '우회전']\n",
      "['좌회전', '직진', '우회전']\n",
      "['우회전', '좌회전', '직진']\n",
      "['직진', '우회전', '좌회전']\n",
      "['직진', '우회전', '좌회전']\n",
      "['좌회전', '직진', '우회전']\n",
      "['좌회전', '직진', '우회전']\n"
     ]
    }
   ],
   "source": [
    "for key in crossroad_var_keys:\n",
    "    group = crossroad_var[key]\n",
    "    if len(group) != 1:\n",
    "        temp = []\n",
    "        for element in group:\n",
    "            first = position[edges[element[0]][0]]\n",
    "            second = position[edges[element[0]][1]]\n",
    "            third = position[edges[element[1]][1]]\n",
    "            angle = angle_between_points(first, second, third)\n",
    "            direction = direction_from_angle(angle)\n",
    "            temp.append(direction)\n",
    "    print(temp)"
   ]
  },
  {
   "cell_type": "code",
   "execution_count": 4,
   "metadata": {},
   "outputs": [],
   "source": [
    "aa = crossroad_var['1_0i']\n",
    "indices_list = []\n",
    "for a in aa:\n",
    "    indices_list.append(get_intersection(a))"
   ]
  },
  {
   "cell_type": "code",
   "execution_count": 5,
   "metadata": {},
   "outputs": [
    {
     "data": {
      "text/plain": [
       "[[10, 12, 11, 4, 14, 2, 6, 3], [5, 1, 9, 15, 7, 13], [8, 0]]"
      ]
     },
     "execution_count": 5,
     "metadata": {},
     "output_type": "execute_result"
    }
   ],
   "source": [
    "indices_list"
   ]
  },
  {
   "cell_type": "code",
   "execution_count": 6,
   "metadata": {},
   "outputs": [],
   "source": [
    "directions = []\n",
    "for a in aa:\n",
    "    first = position[edges[a[0]][0]]\n",
    "    second = position[edges[a[0]][1]]\n",
    "    third = position[edges[a[1]][1]]\n",
    "    angle = angle_between_points(first, second, third)\n",
    "    direction = direction_from_angle(angle)\n",
    "    directions.append(direction)"
   ]
  },
  {
   "cell_type": "code",
   "execution_count": 7,
   "metadata": {},
   "outputs": [
    {
     "data": {
      "text/plain": [
       "['좌회전', '직진', '우회전']"
      ]
     },
     "execution_count": 7,
     "metadata": {},
     "output_type": "execute_result"
    }
   ],
   "source": [
    "directions"
   ]
  },
  {
   "cell_type": "code",
   "execution_count": 8,
   "metadata": {},
   "outputs": [
    {
     "data": {
      "text/plain": [
       "[[10, 12, 11, 4, 14, 2, 6, 3], [5, 1, 9, 15, 7, 13], [8, 0]]"
      ]
     },
     "execution_count": 8,
     "metadata": {},
     "output_type": "execute_result"
    }
   ],
   "source": [
    "indices_list"
   ]
  },
  {
   "cell_type": "code",
   "execution_count": 9,
   "metadata": {},
   "outputs": [
    {
     "data": {
      "text/plain": [
       "[5, 1, 9, 15, 7, 13]"
      ]
     },
     "execution_count": 9,
     "metadata": {},
     "output_type": "execute_result"
    }
   ],
   "source": [
    "[j for i , group in enumerate(indices_list) for j in group if directions[i] == \"직진\"]"
   ]
  },
  {
   "cell_type": "code",
   "execution_count": 1,
   "metadata": {},
   "outputs": [],
   "source": [
    "from optimizer2 import solve"
   ]
  },
  {
   "cell_type": "code",
   "execution_count": 6,
   "metadata": {},
   "outputs": [
    {
     "data": {
      "text/plain": "(10, 66)"
     },
     "execution_count": 6,
     "metadata": {},
     "output_type": "execute_result"
    }
   ],
   "source": [
    "p_matrix.shape"
   ]
  },
  {
   "cell_type": "code",
   "execution_count": 7,
   "metadata": {},
   "outputs": [
    {
     "name": "stdout",
     "output_type": "stream",
     "text": [
      "[4494 4069 4227 4752 4338 4844 4939 4017 5137 4836]\n",
      "Objective value: 17926.6\n"
     ]
    },
    {
     "data": {
      "text/plain": "{16: 1217,\n 18: 3057,\n 19: 508,\n 21: 290,\n 22: 736,\n 23: 2611,\n 24: 433,\n 26: 2851,\n 27: 475,\n 29: 260,\n 30: 1425,\n 31: 2342,\n 32: 565}"
     },
     "execution_count": 7,
     "metadata": {},
     "output_type": "execute_result"
    }
   ],
   "source": [
    "result = solve()\n",
    "result"
   ]
  },
  {
   "cell_type": "code",
   "execution_count": 8,
   "metadata": {},
   "outputs": [],
   "source": [
    "import optimizer"
   ]
  },
  {
   "cell_type": "code",
   "execution_count": 9,
   "metadata": {},
   "outputs": [
    {
     "name": "stdout",
     "output_type": "stream",
     "text": [
      "[4494 4069 4227 4752 4338 4844 4939 4017 5137 4836]\n",
      "Objective value: 17926.6\n"
     ]
    },
    {
     "data": {
      "text/plain": "{16: 1217,\n 18: 3057,\n 19: 508,\n 21: 290,\n 22: 736,\n 23: 2611,\n 24: 433,\n 26: 2851,\n 27: 475,\n 29: 260,\n 30: 1425,\n 31: 2342,\n 32: 565}"
     },
     "execution_count": 9,
     "metadata": {},
     "output_type": "execute_result"
    }
   ],
   "source": [
    "optimizer.solve()"
   ]
  },
  {
   "cell_type": "code",
   "execution_count": null,
   "metadata": {},
   "outputs": [],
   "source": []
  }
 ],
 "metadata": {
  "kernelspec": {
   "display_name": "base",
   "language": "python",
   "name": "python3"
  },
  "language_info": {
   "codemirror_mode": {
    "name": "ipython",
    "version": 3
   },
   "file_extension": ".py",
   "mimetype": "text/x-python",
   "name": "python",
   "nbconvert_exporter": "python",
   "pygments_lexer": "ipython3",
   "version": "3.9.13"
  },
  "orig_nbformat": 4
 },
 "nbformat": 4,
 "nbformat_minor": 2
}
