{
 "cells": [
  {
   "cell_type": "code",
   "execution_count": 1,
   "metadata": {},
   "outputs": [],
   "source": [
    "from optimizer import *"
   ]
  },
  {
   "cell_type": "code",
   "execution_count": 2,
   "metadata": {},
   "outputs": [
    {
     "name": "stdout",
     "output_type": "stream",
     "text": [
      "[4494 4069 4227 4752 4338 4844 4939 4017 5137 4836]\n"
     ]
    },
    {
     "data": {
      "text/plain": [
       "{16: 1217,\n",
       " 18: 3057,\n",
       " 19: 508,\n",
       " 21: 290,\n",
       " 22: 736,\n",
       " 23: 2611,\n",
       " 24: 433,\n",
       " 26: 2851,\n",
       " 27: 475,\n",
       " 29: 260,\n",
       " 30: 1425,\n",
       " 31: 2342,\n",
       " 32: 565}"
      ]
     },
     "execution_count": 2,
     "metadata": {},
     "output_type": "execute_result"
    }
   ],
   "source": [
    "result = solve()\n",
    "result"
   ]
  },
  {
   "cell_type": "code",
   "execution_count": 3,
   "metadata": {},
   "outputs": [
    {
     "name": "stdout",
     "output_type": "stream",
     "text": [
      "['1_3i', '1_0o', 'r1_1_0', '0_1i', '0_0o']\n",
      "['1_3i', '1_2o', 'r2_1_2', '2_0i', '2_2o']\n",
      "['1_3i', '1_1o', 'r5_1_4', '4_3i', '4_0o']\n",
      "['1_3i', '1_1o', 'r5_1_4', '4_3i', '4_2o', 'r4_4_3', '3_0i', '3_1o']\n",
      "['1_3i', '1_2o', 'r2_1_2', '2_0i', '2_1o', 'r3_2_3', '3_3i', '3_1o']\n",
      "['1_3i', '1_1o', 'r5_1_4', '4_3i', '4_2o', 'r4_4_3', '3_0i', '3_2o']\n",
      "['1_3i', '1_2o', 'r2_1_2', '2_0i', '2_1o', 'r3_2_3', '3_3i', '3_2o']\n",
      "['2_2i', '2_0o', 'r2_2_1', '1_2i', '1_0o', 'r1_1_0', '0_1i', '0_2o']\n",
      "['2_2i', '2_0o', 'r2_2_1', '1_2i', '1_3o']\n",
      "['2_2i', '2_1o', 'r3_2_3', '3_3i', '3_0o', 'r4_3_4', '4_2i', '4_0o']\n",
      "['2_2i', '2_0o', 'r2_2_1', '1_2i', '1_1o', 'r5_1_4', '4_3i', '4_1o']\n",
      "['2_2i', '2_1o', 'r3_2_3', '3_3i', '3_0o', 'r4_3_4', '4_2i', '4_1o']\n",
      "['2_2i', '2_1o', 'r3_2_3', '3_3i', '3_1o']\n"
     ]
    }
   ],
   "source": [
    "for i in list(result.keys()):\n",
    "    print(all_shortest_paths[i])"
   ]
  },
  {
   "cell_type": "code",
   "execution_count": 4,
   "metadata": {},
   "outputs": [],
   "source": [
    "from BRL import *"
   ]
  },
  {
   "cell_type": "code",
   "execution_count": 5,
   "metadata": {},
   "outputs": [
    {
     "data": {
      "text/plain": [
       "1906.0"
      ]
     },
     "execution_count": 5,
     "metadata": {},
     "output_type": "execute_result"
    }
   ],
   "source": [
    "all_shortest_lengths[2]"
   ]
  },
  {
   "cell_type": "code",
   "execution_count": 6,
   "metadata": {},
   "outputs": [],
   "source": [
    "make_route_xml(result=result)"
   ]
  }
 ],
 "metadata": {
  "kernelspec": {
   "display_name": "base",
   "language": "python",
   "name": "python3"
  },
  "language_info": {
   "codemirror_mode": {
    "name": "ipython",
    "version": 3
   },
   "file_extension": ".py",
   "mimetype": "text/x-python",
   "name": "python",
   "nbconvert_exporter": "python",
   "pygments_lexer": "ipython3",
   "version": "3.9.13"
  },
  "orig_nbformat": 4
 },
 "nbformat": 4,
 "nbformat_minor": 2
}
