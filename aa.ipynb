{
 "cells": [
  {
   "cell_type": "code",
   "execution_count": 1,
   "metadata": {},
   "outputs": [],
   "source": [
    "from optimizer import making_solution"
   ]
  },
  {
   "cell_type": "code",
   "execution_count": 3,
   "metadata": {},
   "outputs": [
    {
     "ename": "SystemError",
     "evalue": "<built-in function Constraint_SetCoefficient> returned NULL without setting an error",
     "output_type": "error",
     "traceback": [
      "\u001b[0;31m---------------------------------------------------------------------------\u001b[0m",
      "\u001b[0;31mSystemError\u001b[0m                               Traceback (most recent call last)",
      "\u001b[1;32m/Users/taekyuim/Desktop/BRL/aa.ipynb 셀 2\u001b[0m in \u001b[0;36m<cell line: 1>\u001b[0;34m()\u001b[0m\n\u001b[0;32m----> <a href='vscode-notebook-cell:/Users/taekyuim/Desktop/BRL/aa.ipynb#W1sZmlsZQ%3D%3D?line=0'>1</a>\u001b[0m making_solution()\n",
      "File \u001b[0;32m~/Desktop/BRL/optimizer.py:122\u001b[0m, in \u001b[0;36mmaking_solution\u001b[0;34m(e_T, P)\u001b[0m\n\u001b[1;32m    120\u001b[0m                 is_end\u001b[39m.\u001b[39mappend(\u001b[39mFalse\u001b[39;00m)\n\u001b[1;32m    121\u001b[0m         \u001b[39mif\u001b[39;00m indices_list:\n\u001b[0;32m--> 122\u001b[0m             constraint_making(indices_list \u001b[39m=\u001b[39;49m indices_list, is_end \u001b[39m=\u001b[39;49m is_end, x\u001b[39m=\u001b[39;49mx, solver\u001b[39m=\u001b[39;49msolver)\n\u001b[1;32m    123\u001b[0m solver\u001b[39m.\u001b[39mSolve()\n\u001b[1;32m    124\u001b[0m \u001b[39mprint\u001b[39m(\u001b[39mf\u001b[39m\u001b[39m\"\u001b[39m\u001b[39mObjective value: \u001b[39m\u001b[39m{\u001b[39;00mobjective\u001b[39m.\u001b[39mValue()\u001b[39m}\u001b[39;00m\u001b[39m\"\u001b[39m)\n",
      "File \u001b[0;32m~/Desktop/BRL/optimizer.py:94\u001b[0m, in \u001b[0;36mconstraint_making\u001b[0;34m(indices_list, is_end, x, solver)\u001b[0m\n\u001b[1;32m     92\u001b[0m \u001b[39mfor\u001b[39;00m k \u001b[39min\u001b[39;00m indices_list[i]:\n\u001b[1;32m     93\u001b[0m     constraint\u001b[39m.\u001b[39mSetCoefficient(x[k], \u001b[39m1\u001b[39m)\n\u001b[0;32m---> 94\u001b[0m constraint\u001b[39m.\u001b[39;49mSetCoefficient(total_x, \u001b[39m-\u001b[39;49m\u001b[39m1\u001b[39;49m)\n",
      "File \u001b[0;32m/opt/homebrew/Caskroom/miniforge/base/lib/python3.9/site-packages/ortools/linear_solver/pywraplp.py:771\u001b[0m, in \u001b[0;36mConstraint.SetCoefficient\u001b[0;34m(self, var, coeff)\u001b[0m\n\u001b[1;32m    764\u001b[0m \u001b[39mdef\u001b[39;00m \u001b[39mSetCoefficient\u001b[39m(\u001b[39mself\u001b[39m, var, coeff):\n\u001b[1;32m    765\u001b[0m     \u001b[39mr\u001b[39m\u001b[39m\"\"\"\u001b[39;00m\n\u001b[1;32m    766\u001b[0m \u001b[39m    Sets the coefficient of the variable on the constraint.\u001b[39;00m\n\u001b[1;32m    767\u001b[0m \n\u001b[1;32m    768\u001b[0m \u001b[39m    If the variable does not belong to the solver, the function just returns,\u001b[39;00m\n\u001b[1;32m    769\u001b[0m \u001b[39m    or crashes in non-opt mode.\u001b[39;00m\n\u001b[1;32m    770\u001b[0m \u001b[39m    \"\"\"\u001b[39;00m\n\u001b[0;32m--> 771\u001b[0m     \u001b[39mreturn\u001b[39;00m _pywraplp\u001b[39m.\u001b[39;49mConstraint_SetCoefficient(\u001b[39mself\u001b[39;49m, var, coeff)\n",
      "\u001b[0;31mSystemError\u001b[0m: <built-in function Constraint_SetCoefficient> returned NULL without setting an error"
     ]
    }
   ],
   "source": [
    "making_solution()"
   ]
  },
  {
   "cell_type": "code",
   "execution_count": null,
   "metadata": {},
   "outputs": [],
   "source": []
  }
 ],
 "metadata": {
  "kernelspec": {
   "display_name": "base",
   "language": "python",
   "name": "python3"
  },
  "language_info": {
   "codemirror_mode": {
    "name": "ipython",
    "version": 3
   },
   "file_extension": ".py",
   "mimetype": "text/x-python",
   "name": "python",
   "nbconvert_exporter": "python",
   "pygments_lexer": "ipython3",
   "version": "3.9.10"
  },
  "orig_nbformat": 4
 },
 "nbformat": 4,
 "nbformat_minor": 2
}
