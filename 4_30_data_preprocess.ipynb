{
 "cells": [
  {
   "cell_type": "code",
   "execution_count": 26,
   "metadata": {},
   "outputs": [],
   "source": [
    "import pandas as pd\n",
    "import numpy as np"
   ]
  },
  {
   "cell_type": "code",
   "execution_count": 3,
   "metadata": {},
   "outputs": [
    {
     "name": "stdout",
     "output_type": "stream",
     "text": [
      "(120, 6)\n",
      "(120, 6)\n",
      "(120, 6)\n",
      "(120, 6)\n",
      "(120, 6)\n"
     ]
    }
   ],
   "source": [
    "node0 = pd.read_excel('./data/node0.xlsx')\n",
    "node1 = pd.read_excel('./data/node1.xlsx')\n",
    "node2 = pd.read_excel('./data/node2.xlsx')\n",
    "node3 = pd.read_excel('./data/node3.xlsx')\n",
    "node4 = pd.read_excel('./data/node4.xlsx')\n",
    "print(node0.shape)\n",
    "print(node1.shape)\n",
    "print(node2.shape)\n",
    "print(node3.shape)\n",
    "print(node4.shape)"
   ]
  },
  {
   "cell_type": "code",
   "execution_count": 4,
   "metadata": {},
   "outputs": [
    {
     "data": {
      "text/html": [
       "<div>\n",
       "<style scoped>\n",
       "    .dataframe tbody tr th:only-of-type {\n",
       "        vertical-align: middle;\n",
       "    }\n",
       "\n",
       "    .dataframe tbody tr th {\n",
       "        vertical-align: top;\n",
       "    }\n",
       "\n",
       "    .dataframe thead th {\n",
       "        text-align: right;\n",
       "    }\n",
       "</style>\n",
       "<table border=\"1\" class=\"dataframe\">\n",
       "  <thead>\n",
       "    <tr style=\"text-align: right;\">\n",
       "      <th></th>\n",
       "      <th>일시</th>\n",
       "      <th>교차로명</th>\n",
       "      <th>동</th>\n",
       "      <th>서</th>\n",
       "      <th>남</th>\n",
       "      <th>북</th>\n",
       "    </tr>\n",
       "  </thead>\n",
       "  <tbody>\n",
       "    <tr>\n",
       "      <th>0</th>\n",
       "      <td>2023-04-24 00시</td>\n",
       "      <td>간석오거리</td>\n",
       "      <td>173</td>\n",
       "      <td>165</td>\n",
       "      <td>236</td>\n",
       "      <td>234</td>\n",
       "    </tr>\n",
       "    <tr>\n",
       "      <th>1</th>\n",
       "      <td>2023-04-24 01시</td>\n",
       "      <td>간석오거리</td>\n",
       "      <td>136</td>\n",
       "      <td>120</td>\n",
       "      <td>211</td>\n",
       "      <td>179</td>\n",
       "    </tr>\n",
       "    <tr>\n",
       "      <th>2</th>\n",
       "      <td>2023-04-24 02시</td>\n",
       "      <td>간석오거리</td>\n",
       "      <td>131</td>\n",
       "      <td>89</td>\n",
       "      <td>145</td>\n",
       "      <td>144</td>\n",
       "    </tr>\n",
       "    <tr>\n",
       "      <th>3</th>\n",
       "      <td>2023-04-24 03시</td>\n",
       "      <td>간석오거리</td>\n",
       "      <td>104</td>\n",
       "      <td>106</td>\n",
       "      <td>162</td>\n",
       "      <td>146</td>\n",
       "    </tr>\n",
       "    <tr>\n",
       "      <th>4</th>\n",
       "      <td>2023-04-24 04시</td>\n",
       "      <td>간석오거리</td>\n",
       "      <td>143</td>\n",
       "      <td>134</td>\n",
       "      <td>200</td>\n",
       "      <td>251</td>\n",
       "    </tr>\n",
       "  </tbody>\n",
       "</table>\n",
       "</div>"
      ],
      "text/plain": [
       "               일시   교차로명    동    서    남    북\n",
       "0  2023-04-24 00시  간석오거리  173  165  236  234\n",
       "1  2023-04-24 01시  간석오거리  136  120  211  179\n",
       "2  2023-04-24 02시  간석오거리  131   89  145  144\n",
       "3  2023-04-24 03시  간석오거리  104  106  162  146\n",
       "4  2023-04-24 04시  간석오거리  143  134  200  251"
      ]
     },
     "execution_count": 4,
     "metadata": {},
     "output_type": "execute_result"
    }
   ],
   "source": [
    "node0.head()"
   ]
  },
  {
   "cell_type": "code",
   "execution_count": 40,
   "metadata": {},
   "outputs": [],
   "source": [
    "data = pd.DataFrame()\n",
    "data = pd.concat([data, node0['일시']], axis=1)\n",
    "data = pd.concat([data, node0['남']], axis=1) # r1_0_1\n",
    "data = pd.concat([data, node1['북']], axis=1) # r1_1_0\n",
    "data = pd.concat([data, node1['남']], axis=1) # r2_1_2\n",
    "data = pd.concat([data, node2['북']], axis=1) # r2_2_1\n",
    "data = pd.concat([data, node2['동']], axis=1) # r3_2_3\n",
    "data = pd.concat([data, node3['서']], axis=1) # r3_3_2\n",
    "data = pd.concat([data, node3['북']], axis=1) # r4_3_4\n",
    "data = pd.concat([data, node4['남']], axis=1) # r4_4_3\n",
    "data = pd.concat([data, node4['서']], axis=1) # r5_4_1\n",
    "data = pd.concat([data, node1['동']], axis=1) # r5_1_4\n",
    "\n",
    "data.columns = range(data.shape[1])"
   ]
  },
  {
   "cell_type": "code",
   "execution_count": 41,
   "metadata": {},
   "outputs": [
    {
     "name": "stderr",
     "output_type": "stream",
     "text": [
      "c:\\Users\\FILab\\anaconda3\\lib\\site-packages\\pandas\\core\\indexing.py:2120: FutureWarning: In a future version, the Index constructor will not infer numeric dtypes when passed object-dtype sequences (matching Series behavior)\n",
      "  new_ix = Index(new_ix)\n"
     ]
    }
   ],
   "source": [
    "data.loc[:, 1:10] = data.loc[:, 1:10].replace(',', '', regex=True).astype(int)"
   ]
  },
  {
   "cell_type": "code",
   "execution_count": 42,
   "metadata": {},
   "outputs": [
    {
     "name": "stdout",
     "output_type": "stream",
     "text": [
      "<class 'pandas.core.frame.DataFrame'>\n",
      "Index: 120 entries, 0 to 119\n",
      "Data columns (total 11 columns):\n",
      " #   Column  Non-Null Count  Dtype \n",
      "---  ------  --------------  ----- \n",
      " 0   0       120 non-null    object\n",
      " 1   1       120 non-null    int32 \n",
      " 2   2       120 non-null    int32 \n",
      " 3   3       120 non-null    int32 \n",
      " 4   4       120 non-null    int32 \n",
      " 5   5       120 non-null    int32 \n",
      " 6   6       120 non-null    int32 \n",
      " 7   7       120 non-null    int32 \n",
      " 8   8       120 non-null    int32 \n",
      " 9   9       120 non-null    int32 \n",
      " 10  10      120 non-null    int32 \n",
      "dtypes: int32(10), object(1)\n",
      "memory usage: 6.6+ KB\n"
     ]
    }
   ],
   "source": [
    "data.info()"
   ]
  },
  {
   "cell_type": "code",
   "execution_count": 43,
   "metadata": {},
   "outputs": [],
   "source": [
    "data.to_excel('./data/data.xlsx', encoding='utf-8')"
   ]
  },
  {
   "cell_type": "code",
   "execution_count": 44,
   "metadata": {},
   "outputs": [],
   "source": [
    "e_T = data.iloc[56,:]"
   ]
  },
  {
   "cell_type": "code",
   "execution_count": 45,
   "metadata": {},
   "outputs": [
    {
     "data": {
      "text/plain": [
       "array([1005, 1553, 1180, 1682, 1911, 1424, 1628, 1494, 1084, 1454],\n",
       "      dtype=object)"
      ]
     },
     "execution_count": 45,
     "metadata": {},
     "output_type": "execute_result"
    }
   ],
   "source": [
    "e_T.values[1:]"
   ]
  },
  {
   "cell_type": "code",
   "execution_count": 46,
   "metadata": {},
   "outputs": [
    {
     "data": {
      "text/plain": [
       "(119, 11)"
      ]
     },
     "execution_count": 46,
     "metadata": {},
     "output_type": "execute_result"
    }
   ],
   "source": [
    "data = data.drop(56)\n",
    "data.shape"
   ]
  },
  {
   "cell_type": "code",
   "execution_count": 47,
   "metadata": {},
   "outputs": [
    {
     "data": {
      "text/plain": [
       "False"
      ]
     },
     "execution_count": 47,
     "metadata": {},
     "output_type": "execute_result"
    }
   ],
   "source": [
    "56.in(list(data.index))"
   ]
  }
 ],
 "metadata": {
  "kernelspec": {
   "display_name": "base",
   "language": "python",
   "name": "python3"
  },
  "language_info": {
   "codemirror_mode": {
    "name": "ipython",
    "version": 3
   },
   "file_extension": ".py",
   "mimetype": "text/x-python",
   "name": "python",
   "nbconvert_exporter": "python",
   "pygments_lexer": "ipython3",
   "version": "3.9.13"
  },
  "orig_nbformat": 4
 },
 "nbformat": 4,
 "nbformat_minor": 2
}
