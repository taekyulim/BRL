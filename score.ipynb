{
 "cells": [
  {
   "cell_type": "code",
   "execution_count": 1,
   "metadata": {},
   "outputs": [],
   "source": [
    "import pandas as pd\n",
    "import numpy as np\n",
    "from optimizer_apms_complex import solve"
   ]
  },
  {
   "cell_type": "code",
   "execution_count": 3,
   "metadata": {},
   "outputs": [
    {
     "data": {
      "text/plain": [
       "array([[ 0.  , 18.94, 30.88,  1.01,  0.  ,  0.  ,  0.  ,  0.  ,  0.89,\n",
       "         0.  ,  0.  ,  0.  ,  0.  ,  0.69,  0.  ,  0.  , 10.79],\n",
       "       [23.5 ,  0.  , 19.82,  1.43,  0.  ,  1.76,  2.45,  2.57,  7.13,\n",
       "         7.36,  1.54,  0.  ,  6.53,  3.33,  0.94,  6.3 , 32.5 ],\n",
       "       [44.64, 34.03,  0.  ,  0.83,  0.69,  0.  ,  0.86,  4.57,  5.68,\n",
       "         0.  ,  1.54,  2.29,  1.5 ,  4.4 ,  0.  ,  9.07, 12.81],\n",
       "       [ 1.29,  0.  ,  0.  ,  0.09,  3.86,  0.  ,  1.45,  1.14,  0.  ,\n",
       "         0.  ,  0.6 ,  0.  ,  0.  ,  1.51,  0.  ,  0.  ,  1.78],\n",
       "       [ 0.  ,  7.13,  5.97,  0.  , 12.28, 13.28, 21.57,  1.54,  2.45,\n",
       "         1.37, 21.03,  7.24,  6.09, 14.64, 15.6 ,  1.6 ,  0.  ],\n",
       "       [ 0.  ,  0.  ,  0.  ,  0.69,  2.42,  2.44,  4.94,  0.  ,  0.  ,\n",
       "         0.  ,  2.74,  0.  ,  0.  ,  3.39,  0.  ,  0.  ,  0.24],\n",
       "       [ 2.58,  0.94,  1.65, 27.89,  0.  ,  9.86, 18.8 ,  1.71,  1.67,\n",
       "         0.  , 16.24,  6.64,  2.91,  7.29,  0.  ,  2.99,  0.24],\n",
       "       [ 0.43,  0.88,  0.  ,  8.85, 21.96,  0.  ,  0.  ,  0.  ,  0.  ,\n",
       "         2.4 , 20.17,  6.58,  3.  ,  4.9 ,  3.57,  0.11,  0.  ],\n",
       "       [ 6.01,  2.86,  0.  ,  4.66,  3.46,  3.37,  0.  , 57.99,  6.46,\n",
       "        14.38,  0.  ,  3.68,  0.09,  3.08,  4.7 ,  2.03,  2.37],\n",
       "       [ 0.  ,  3.28,  0.  ,  7.28,  6.69,  6.33, 24.78,  0.  , 12.69,\n",
       "         0.  , 10.  ,  0.  ,  9.8 ,  3.58,  4.89,  0.  ,  2.73],\n",
       "       [ 0.  ,  3.54,  6.35,  2.31,  1.67,  1.56,  2.31,  6.96,  0.  ,\n",
       "        14.73,  0.26,  6.46,  8.21,  3.08, 13.72,  7.58,  4.98],\n",
       "       [ 3.86,  0.  ,  0.  ,  0.6 ,  0.92,  0.  ,  0.68,  1.2 ,  0.  ,\n",
       "        11.99,  0.  ,  4.28,  7.24,  2.07,  0.94,  0.  ,  5.1 ],\n",
       "       [ 0.  ,  0.42,  0.  ,  0.69,  0.12,  0.83,  1.36,  1.71,  3.01,\n",
       "         0.  ,  0.77,  3.14,  4.68,  0.69,  5.26,  4.91,  3.56],\n",
       "       [ 0.  ,  0.21,  1.02,  2.44,  1.56,  2.23,  0.  ,  3.25,  5.35,\n",
       "         7.19,  1.03,  3.74,  5.21,  1.57,  0.  ,  0.43,  0.  ],\n",
       "       [ 0.43,  0.36,  4.32, 18.49, 18.79, 26.41,  2.72,  0.  ,  0.  ,\n",
       "         4.28,  0.  , 13.52,  3.18, 14.46,  4.89,  0.  ,  6.29],\n",
       "       [ 0.  ,  5.25,  0.  ,  0.78, 13.14,  8.35,  0.  ,  0.  ,  9.69,\n",
       "        15.41,  7.26,  0.  ,  5.56, 12.32, 13.35,  5.98,  1.66],\n",
       "       [ 0.  ,  4.27,  0.  ,  5.16,  3.  ,  0.26,  7.66,  4.17, 12.14,\n",
       "         0.  ,  0.  ,  2.96,  0.  ,  4.46, 11.47,  7.04,  1.9 ],\n",
       "       [ 0.86,  1.93,  2.92,  3.37,  3.05,  1.97,  1.09,  5.19,  9.13,\n",
       "         7.02,  0.17,  3.8 ,  0.  ,  1.07,  1.88,  1.81,  0.  ],\n",
       "       [ 2.58,  2.45,  1.78,  1.98,  3.86, 14.63,  0.59,  1.83,  4.9 ,\n",
       "         6.34, 10.09, 20.52,  8.47,  0.  ,  1.32,  2.35,  2.85],\n",
       "       [ 0.  ,  0.31,  0.  ,  0.  ,  0.  ,  4.83,  0.  ,  0.  ,  8.69,\n",
       "         1.03,  3.59,  7.66,  0.18, 11.94,  1.5 ,  0.  ,  0.  ],\n",
       "       [ 1.18,  1.4 ,  2.41,  7.65,  0.  ,  0.  ,  6.39,  3.48,  3.34,\n",
       "         1.88,  0.  ,  2.96, 13.95,  1.51,  0.  ,  1.49,  1.66],\n",
       "       [ 7.83,  1.93,  4.19,  2.35,  0.  ,  1.87,  0.86,  2.51,  3.56,\n",
       "         0.  ,  2.99,  1.09,  8.47,  0.  , 15.98,  0.  ,  8.54],\n",
       "       [ 4.83,  9.89, 18.68,  1.43,  2.54,  0.  ,  1.5 ,  0.17,  3.23,\n",
       "         4.62,  0.  ,  3.44,  4.94,  0.  ,  0.  , 46.32,  0.  ]])"
      ]
     },
     "execution_count": 3,
     "metadata": {},
     "output_type": "execute_result"
    }
   ],
   "source": [
    "ratio = pd.read_excel('./test.xlsx').iloc[:,1:].values.T\n",
    "ratio"
   ]
  },
  {
   "cell_type": "code",
   "execution_count": 8,
   "metadata": {},
   "outputs": [
    {
     "name": "stdout",
     "output_type": "stream",
     "text": [
      "(120, 17)\n",
      "(120, 23)\n"
     ]
    }
   ],
   "source": [
    "inputs = pd.read_excel('./input_volume_aug.xlsx').values\n",
    "outputs = pd.read_excel('./output_volume_aug.xlsx').values\n",
    "print(inputs.shape)\n",
    "print(outputs.shape)"
   ]
  },
  {
   "cell_type": "code",
   "execution_count": 9,
   "metadata": {},
   "outputs": [],
   "source": [
    "def cosine_score(a, b):\n",
    "    return np.dot(a,b)/(np.linalg.norm(a)*np.linalg.norm(b))"
   ]
  },
  {
   "cell_type": "code",
   "execution_count": 10,
   "metadata": {},
   "outputs": [
    {
     "data": {
      "text/plain": [
       "0.7594816589952762"
      ]
     },
     "execution_count": 10,
     "metadata": {},
     "output_type": "execute_result"
    }
   ],
   "source": [
    "cosine_score(outputs[56], (ratio/100)@inputs[56])"
   ]
  },
  {
   "cell_type": "code",
   "execution_count": 11,
   "metadata": {},
   "outputs": [],
   "source": [
    "scores = []\n",
    "for i in range(120):\n",
    "    score = cosine_score(outputs[i], (ratio/100)@inputs[i])\n",
    "    scores.append(score)"
   ]
  },
  {
   "cell_type": "code",
   "execution_count": 12,
   "metadata": {},
   "outputs": [],
   "source": [
    "import seaborn as sns\n",
    "import matplotlib.pyplot as plt"
   ]
  },
  {
   "cell_type": "code",
   "execution_count": 14,
   "metadata": {},
   "outputs": [
    {
     "data": {
      "text/plain": [
       "Text(0, 0.5, 'Density')"
      ]
     },
     "execution_count": 14,
     "metadata": {},
     "output_type": "execute_result"
    },
    {
     "data": {
      "image/png": "[encoded data removed]",
      "text/plain": [
       "<Figure size 432x288 with 1 Axes>"
      ]
     },
     "metadata": {
      "needs_background": "light"
     },
     "output_type": "display_data"
    }
   ],
   "source": [
    "sns.kdeplot(scores, color=\"black\")\n",
    "plt.xlabel('Score')\n",
    "plt.ylabel('Density')"
   ]
  },
  {
   "cell_type": "code",
   "execution_count": null,
   "metadata": {},
   "outputs": [],
   "source": []
  }
 ],
 "metadata": {
  "kernelspec": {
   "display_name": "base",
   "language": "python",
   "name": "python3"
  },
  "language_info": {
   "codemirror_mode": {
    "name": "ipython",
    "version": 3
   },
   "file_extension": ".py",
   "mimetype": "text/x-python",
   "name": "python",
   "nbconvert_exporter": "python",
   "pygments_lexer": "ipython3",
   "version": "3.9.10"
  },
  "orig_nbformat": 4
 },
 "nbformat": 4,
 "nbformat_minor": 2
}
